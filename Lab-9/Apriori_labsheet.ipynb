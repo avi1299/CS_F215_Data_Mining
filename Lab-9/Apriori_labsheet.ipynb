{
 "cells": [
  {
   "cell_type": "markdown",
   "metadata": {},
   "source": [
    "# Apriori\n",
    "\n",
    "\n",
    "The Apriori algorithm is used for mining frequent itemsets and devising association rules from a transactional database. The parameters “support” and “confidence” are used. Support refers to items’ frequency of occurrence; confidence is a conditional probability.\n",
    "\n",
    "A key concept in Apriori algorithm is the anti-monotonicity of the support measure. It assumes that\n",
    "\n",
    "1. All subsets of a frequent itemset must be frequent\n",
    "2. Similarly, for any infrequent itemset, all its supersets must be infrequent too\n"
   ]
  },
  {
   "cell_type": "markdown",
   "metadata": {},
   "source": [
    "###  Algorithm\n",
    "The following are the main steps of the algorithm:\n",
    "\n",
    "1. Calculate the support of item sets (of size k = 1) in the transactional database (note that support is the frequency of \n",
    "   occurrence of an itemset). This is called generating the candidate set.\n",
    "2. Prune the candidate set by eliminating items with a support less than the given threshold.\n",
    "3. Join the frequent itemsets to form sets of size k + 1, and repeat the above sets until no more itemsets can be formed. This \n",
    "   will happen when the set(s) formed have a support less than​ the given support."
   ]
  },
  {
   "cell_type": "markdown",
   "metadata": {},
   "source": [
    "### Libraries useful in Ensemble are listed below"
   ]
  },
  {
   "cell_type": "raw",
   "metadata": {},
   "source": [
    "To load dataset:    import pandas as pd\n",
    "Preprocessing:      from sklearn import preprocessing\n",
    "apriori:            from mlxtend.frequent_patterns import apriori\n",
    "association rules:  from mlxtend.frequent_patterns import association_rules\n",
    "Train & Test Split: from sklearn.model_selection import train_test_split\n",
    "K-Fold:             from sklearn.model_selection import cross_val_score\n",
    "\n",
    "For Prediction and Evaluation\n",
    "\n",
    "from sklearn.metrics import classification_report,confusion_matrix\n",
    "from sklearn.metrics import accuracy_score\n",
    "\n",
    "Ploting the graph\n",
    "import matplotlib.pyplot as plt"
   ]
  },
  {
   "cell_type": "markdown",
   "metadata": {},
   "source": [
    "### Install library for apriori algorithm using:\n",
    "!pip install mlxtend"
   ]
  },
  {
   "cell_type": "code",
   "execution_count": 146,
   "metadata": {},
   "outputs": [],
   "source": [
    "import warnings\n",
    "warnings.filterwarnings('ignore')\n",
    "\n",
    "import pandas as pd\n",
    "from sklearn import preprocessing\n",
    "from mlxtend.frequent_patterns import apriori\n",
    "from mlxtend.frequent_patterns import association_rules\n",
    "from sklearn.model_selection import train_test_split\n",
    "from sklearn.model_selection import cross_val_score\n",
    "\n",
    "\n",
    "from sklearn.metrics import classification_report,confusion_matrix\n",
    "from sklearn.metrics import accuracy_score\n",
    "\n",
    "import matplotlib.pyplot as plt"
   ]
  },
  {
   "cell_type": "markdown",
   "metadata": {},
   "source": [
    "### Load the \"basket\" data"
   ]
  },
  {
   "cell_type": "code",
   "execution_count": 147,
   "metadata": {},
   "outputs": [
    {
     "output_type": "execute_result",
     "data": {
      "text/plain": [
       "   cardid    value pmethod sex homeown  income  age fruitveg freshmeat dairy  \\\n",
       "0   39808  42.7123  CHEQUE   M      NO   27000   46        F         T     T   \n",
       "1   67362  25.3567    CASH   F      NO   30000   28        F         T     F   \n",
       "2   10872  20.6176    CASH   M      NO   13200   36        F         F     F   \n",
       "3   26748  23.6883    CARD   F      NO   12200   26        F         F     T   \n",
       "4   91609  18.8133    CARD   M     YES   11000   24        F         F     F   \n",
       "\n",
       "  cannedveg cannedmeat frozenmeal beer wine softdrink fish confectionery  \n",
       "0         F          F          F    F    F         F    F             T  \n",
       "1         F          F          F    F    F         F    F             T  \n",
       "2         T          F          T    T    F         F    T             F  \n",
       "3         F          F          F    F    T         F    F             F  \n",
       "4         F          F          F    F    F         F    F             F  "
      ],
      "text/html": "<div>\n<style scoped>\n    .dataframe tbody tr th:only-of-type {\n        vertical-align: middle;\n    }\n\n    .dataframe tbody tr th {\n        vertical-align: top;\n    }\n\n    .dataframe thead th {\n        text-align: right;\n    }\n</style>\n<table border=\"1\" class=\"dataframe\">\n  <thead>\n    <tr style=\"text-align: right;\">\n      <th></th>\n      <th>cardid</th>\n      <th>value</th>\n      <th>pmethod</th>\n      <th>sex</th>\n      <th>homeown</th>\n      <th>income</th>\n      <th>age</th>\n      <th>fruitveg</th>\n      <th>freshmeat</th>\n      <th>dairy</th>\n      <th>cannedveg</th>\n      <th>cannedmeat</th>\n      <th>frozenmeal</th>\n      <th>beer</th>\n      <th>wine</th>\n      <th>softdrink</th>\n      <th>fish</th>\n      <th>confectionery</th>\n    </tr>\n  </thead>\n  <tbody>\n    <tr>\n      <th>0</th>\n      <td>39808</td>\n      <td>42.7123</td>\n      <td>CHEQUE</td>\n      <td>M</td>\n      <td>NO</td>\n      <td>27000</td>\n      <td>46</td>\n      <td>F</td>\n      <td>T</td>\n      <td>T</td>\n      <td>F</td>\n      <td>F</td>\n      <td>F</td>\n      <td>F</td>\n      <td>F</td>\n      <td>F</td>\n      <td>F</td>\n      <td>T</td>\n    </tr>\n    <tr>\n      <th>1</th>\n      <td>67362</td>\n      <td>25.3567</td>\n      <td>CASH</td>\n      <td>F</td>\n      <td>NO</td>\n      <td>30000</td>\n      <td>28</td>\n      <td>F</td>\n      <td>T</td>\n      <td>F</td>\n      <td>F</td>\n      <td>F</td>\n      <td>F</td>\n      <td>F</td>\n      <td>F</td>\n      <td>F</td>\n      <td>F</td>\n      <td>T</td>\n    </tr>\n    <tr>\n      <th>2</th>\n      <td>10872</td>\n      <td>20.6176</td>\n      <td>CASH</td>\n      <td>M</td>\n      <td>NO</td>\n      <td>13200</td>\n      <td>36</td>\n      <td>F</td>\n      <td>F</td>\n      <td>F</td>\n      <td>T</td>\n      <td>F</td>\n      <td>T</td>\n      <td>T</td>\n      <td>F</td>\n      <td>F</td>\n      <td>T</td>\n      <td>F</td>\n    </tr>\n    <tr>\n      <th>3</th>\n      <td>26748</td>\n      <td>23.6883</td>\n      <td>CARD</td>\n      <td>F</td>\n      <td>NO</td>\n      <td>12200</td>\n      <td>26</td>\n      <td>F</td>\n      <td>F</td>\n      <td>T</td>\n      <td>F</td>\n      <td>F</td>\n      <td>F</td>\n      <td>F</td>\n      <td>T</td>\n      <td>F</td>\n      <td>F</td>\n      <td>F</td>\n    </tr>\n    <tr>\n      <th>4</th>\n      <td>91609</td>\n      <td>18.8133</td>\n      <td>CARD</td>\n      <td>M</td>\n      <td>YES</td>\n      <td>11000</td>\n      <td>24</td>\n      <td>F</td>\n      <td>F</td>\n      <td>F</td>\n      <td>F</td>\n      <td>F</td>\n      <td>F</td>\n      <td>F</td>\n      <td>F</td>\n      <td>F</td>\n      <td>F</td>\n      <td>F</td>\n    </tr>\n  </tbody>\n</table>\n</div>"
     },
     "metadata": {},
     "execution_count": 147
    }
   ],
   "source": [
    "# Load dataset and display first five rows.\n",
    "df = pd.read_csv(\"BASKETS1n\")\n",
    "df.head()"
   ]
  },
  {
   "cell_type": "markdown",
   "metadata": {},
   "source": [
    "### Perform pre-processing (if required)"
   ]
  },
  {
   "cell_type": "code",
   "execution_count": 148,
   "metadata": {},
   "outputs": [
    {
     "output_type": "execute_result",
     "data": {
      "text/plain": [
       "     fruitveg  freshmeat  dairy  cannedveg  cannedmeat  frozenmeal   beer  \\\n",
       "0       False       True   True      False       False       False  False   \n",
       "1       False       True  False      False       False       False  False   \n",
       "2       False      False  False       True       False        True   True   \n",
       "3       False      False   True      False       False       False  False   \n",
       "4       False      False  False      False       False       False  False   \n",
       "..        ...        ...    ...        ...         ...         ...    ...   \n",
       "995     False      False  False       True       False       False  False   \n",
       "996     False      False  False       True       False       False  False   \n",
       "997     False       True  False      False       False       False  False   \n",
       "998      True      False  False      False       False       False  False   \n",
       "999     False      False   True      False       False       False  False   \n",
       "\n",
       "      wine  softdrink   fish  confectionery  \n",
       "0    False      False  False           True  \n",
       "1    False      False  False           True  \n",
       "2    False      False   True          False  \n",
       "3     True      False  False          False  \n",
       "4    False      False  False          False  \n",
       "..     ...        ...    ...            ...  \n",
       "995  False      False  False          False  \n",
       "996  False      False   True          False  \n",
       "997  False      False  False          False  \n",
       "998   True      False  False           True  \n",
       "999  False       True  False           True  \n",
       "\n",
       "[1000 rows x 11 columns]"
      ],
      "text/html": "<div>\n<style scoped>\n    .dataframe tbody tr th:only-of-type {\n        vertical-align: middle;\n    }\n\n    .dataframe tbody tr th {\n        vertical-align: top;\n    }\n\n    .dataframe thead th {\n        text-align: right;\n    }\n</style>\n<table border=\"1\" class=\"dataframe\">\n  <thead>\n    <tr style=\"text-align: right;\">\n      <th></th>\n      <th>fruitveg</th>\n      <th>freshmeat</th>\n      <th>dairy</th>\n      <th>cannedveg</th>\n      <th>cannedmeat</th>\n      <th>frozenmeal</th>\n      <th>beer</th>\n      <th>wine</th>\n      <th>softdrink</th>\n      <th>fish</th>\n      <th>confectionery</th>\n    </tr>\n  </thead>\n  <tbody>\n    <tr>\n      <th>0</th>\n      <td>False</td>\n      <td>True</td>\n      <td>True</td>\n      <td>False</td>\n      <td>False</td>\n      <td>False</td>\n      <td>False</td>\n      <td>False</td>\n      <td>False</td>\n      <td>False</td>\n      <td>True</td>\n    </tr>\n    <tr>\n      <th>1</th>\n      <td>False</td>\n      <td>True</td>\n      <td>False</td>\n      <td>False</td>\n      <td>False</td>\n      <td>False</td>\n      <td>False</td>\n      <td>False</td>\n      <td>False</td>\n      <td>False</td>\n      <td>True</td>\n    </tr>\n    <tr>\n      <th>2</th>\n      <td>False</td>\n      <td>False</td>\n      <td>False</td>\n      <td>True</td>\n      <td>False</td>\n      <td>True</td>\n      <td>True</td>\n      <td>False</td>\n      <td>False</td>\n      <td>True</td>\n      <td>False</td>\n    </tr>\n    <tr>\n      <th>3</th>\n      <td>False</td>\n      <td>False</td>\n      <td>True</td>\n      <td>False</td>\n      <td>False</td>\n      <td>False</td>\n      <td>False</td>\n      <td>True</td>\n      <td>False</td>\n      <td>False</td>\n      <td>False</td>\n    </tr>\n    <tr>\n      <th>4</th>\n      <td>False</td>\n      <td>False</td>\n      <td>False</td>\n      <td>False</td>\n      <td>False</td>\n      <td>False</td>\n      <td>False</td>\n      <td>False</td>\n      <td>False</td>\n      <td>False</td>\n      <td>False</td>\n    </tr>\n    <tr>\n      <th>...</th>\n      <td>...</td>\n      <td>...</td>\n      <td>...</td>\n      <td>...</td>\n      <td>...</td>\n      <td>...</td>\n      <td>...</td>\n      <td>...</td>\n      <td>...</td>\n      <td>...</td>\n      <td>...</td>\n    </tr>\n    <tr>\n      <th>995</th>\n      <td>False</td>\n      <td>False</td>\n      <td>False</td>\n      <td>True</td>\n      <td>False</td>\n      <td>False</td>\n      <td>False</td>\n      <td>False</td>\n      <td>False</td>\n      <td>False</td>\n      <td>False</td>\n    </tr>\n    <tr>\n      <th>996</th>\n      <td>False</td>\n      <td>False</td>\n      <td>False</td>\n      <td>True</td>\n      <td>False</td>\n      <td>False</td>\n      <td>False</td>\n      <td>False</td>\n      <td>False</td>\n      <td>True</td>\n      <td>False</td>\n    </tr>\n    <tr>\n      <th>997</th>\n      <td>False</td>\n      <td>True</td>\n      <td>False</td>\n      <td>False</td>\n      <td>False</td>\n      <td>False</td>\n      <td>False</td>\n      <td>False</td>\n      <td>False</td>\n      <td>False</td>\n      <td>False</td>\n    </tr>\n    <tr>\n      <th>998</th>\n      <td>True</td>\n      <td>False</td>\n      <td>False</td>\n      <td>False</td>\n      <td>False</td>\n      <td>False</td>\n      <td>False</td>\n      <td>True</td>\n      <td>False</td>\n      <td>False</td>\n      <td>True</td>\n    </tr>\n    <tr>\n      <th>999</th>\n      <td>False</td>\n      <td>False</td>\n      <td>True</td>\n      <td>False</td>\n      <td>False</td>\n      <td>False</td>\n      <td>False</td>\n      <td>False</td>\n      <td>True</td>\n      <td>False</td>\n      <td>True</td>\n    </tr>\n  </tbody>\n</table>\n<p>1000 rows × 11 columns</p>\n</div>"
     },
     "metadata": {},
     "execution_count": 148
    }
   ],
   "source": [
    "#selecting only products columns and replacing boolean values\n",
    "df_prod = df[['fruitveg','freshmeat','dairy','cannedveg','cannedmeat','frozenmeal','beer','wine','softdrink','fish','confectionery']].copy()\n",
    "df_prod=(df_prod=='T').astype(bool)\n",
    "# df.fruitveg=(df.fruitveg=='T').astype(bool)\n",
    "# df.freshmeat=(df.freshmeat=='T').astype(bool)\n",
    "# df.dairy=(df.dairy=='T').astype(bool)\n",
    "# df.cannedveg=(df.cannedveg=='T').astype(bool)\n",
    "# df.cannedmeat=(df.cannedmeat=='T').astype(bool)\n",
    "# df.frozenmeal=(df.frozenmeal=='T').astype(bool)\n",
    "# df.frozenmeal=(df.frozenmeal=='T').astype(bool)\n",
    "df_prod"
   ]
  },
  {
   "cell_type": "markdown",
   "metadata": {},
   "source": [
    "### Q1. Find frequent itemsets in the dataset using Apriori"
   ]
  },
  {
   "cell_type": "code",
   "execution_count": 149,
   "metadata": {},
   "outputs": [
    {
     "output_type": "execute_result",
     "data": {
      "text/plain": [
       "    support                       itemsets\n",
       "0     0.299                     (fruitveg)\n",
       "1     0.183                    (freshmeat)\n",
       "2     0.177                        (dairy)\n",
       "3     0.303                    (cannedveg)\n",
       "4     0.204                   (cannedmeat)\n",
       "5     0.302                   (frozenmeal)\n",
       "6     0.293                         (beer)\n",
       "7     0.287                         (wine)\n",
       "8     0.184                    (softdrink)\n",
       "9     0.292                         (fish)\n",
       "10    0.276                (confectionery)\n",
       "11    0.145               (fruitveg, fish)\n",
       "12    0.173        (frozenmeal, cannedveg)\n",
       "13    0.167              (cannedveg, beer)\n",
       "14    0.170             (frozenmeal, beer)\n",
       "15    0.144          (confectionery, wine)\n",
       "16    0.146  (frozenmeal, cannedveg, beer)"
      ],
      "text/html": "<div>\n<style scoped>\n    .dataframe tbody tr th:only-of-type {\n        vertical-align: middle;\n    }\n\n    .dataframe tbody tr th {\n        vertical-align: top;\n    }\n\n    .dataframe thead th {\n        text-align: right;\n    }\n</style>\n<table border=\"1\" class=\"dataframe\">\n  <thead>\n    <tr style=\"text-align: right;\">\n      <th></th>\n      <th>support</th>\n      <th>itemsets</th>\n    </tr>\n  </thead>\n  <tbody>\n    <tr>\n      <th>0</th>\n      <td>0.299</td>\n      <td>(fruitveg)</td>\n    </tr>\n    <tr>\n      <th>1</th>\n      <td>0.183</td>\n      <td>(freshmeat)</td>\n    </tr>\n    <tr>\n      <th>2</th>\n      <td>0.177</td>\n      <td>(dairy)</td>\n    </tr>\n    <tr>\n      <th>3</th>\n      <td>0.303</td>\n      <td>(cannedveg)</td>\n    </tr>\n    <tr>\n      <th>4</th>\n      <td>0.204</td>\n      <td>(cannedmeat)</td>\n    </tr>\n    <tr>\n      <th>5</th>\n      <td>0.302</td>\n      <td>(frozenmeal)</td>\n    </tr>\n    <tr>\n      <th>6</th>\n      <td>0.293</td>\n      <td>(beer)</td>\n    </tr>\n    <tr>\n      <th>7</th>\n      <td>0.287</td>\n      <td>(wine)</td>\n    </tr>\n    <tr>\n      <th>8</th>\n      <td>0.184</td>\n      <td>(softdrink)</td>\n    </tr>\n    <tr>\n      <th>9</th>\n      <td>0.292</td>\n      <td>(fish)</td>\n    </tr>\n    <tr>\n      <th>10</th>\n      <td>0.276</td>\n      <td>(confectionery)</td>\n    </tr>\n    <tr>\n      <th>11</th>\n      <td>0.145</td>\n      <td>(fruitveg, fish)</td>\n    </tr>\n    <tr>\n      <th>12</th>\n      <td>0.173</td>\n      <td>(frozenmeal, cannedveg)</td>\n    </tr>\n    <tr>\n      <th>13</th>\n      <td>0.167</td>\n      <td>(cannedveg, beer)</td>\n    </tr>\n    <tr>\n      <th>14</th>\n      <td>0.170</td>\n      <td>(frozenmeal, beer)</td>\n    </tr>\n    <tr>\n      <th>15</th>\n      <td>0.144</td>\n      <td>(confectionery, wine)</td>\n    </tr>\n    <tr>\n      <th>16</th>\n      <td>0.146</td>\n      <td>(frozenmeal, cannedveg, beer)</td>\n    </tr>\n  </tbody>\n</table>\n</div>"
     },
     "metadata": {},
     "execution_count": 149
    }
   ],
   "source": [
    "#apriori with min support 0.1 and confidence 0.1\n",
    "ap = apriori(df_prod, min_support=0.1,use_colnames=True)\n",
    "ap"
   ]
  },
  {
   "cell_type": "markdown",
   "metadata": {},
   "source": [
    "### Q2. Find the assoiation rules in the dataset having min confidence 10%"
   ]
  },
  {
   "cell_type": "code",
   "execution_count": 150,
   "metadata": {},
   "outputs": [
    {
     "output_type": "execute_result",
     "data": {
      "text/plain": [
       "                antecedents              consequents  antecedent support  \\\n",
       "0                (fruitveg)                   (fish)               0.299   \n",
       "1                    (fish)               (fruitveg)               0.292   \n",
       "2              (frozenmeal)              (cannedveg)               0.302   \n",
       "3               (cannedveg)             (frozenmeal)               0.303   \n",
       "4               (cannedveg)                   (beer)               0.303   \n",
       "5                    (beer)              (cannedveg)               0.293   \n",
       "6              (frozenmeal)                   (beer)               0.302   \n",
       "7                    (beer)             (frozenmeal)               0.293   \n",
       "8           (confectionery)                   (wine)               0.276   \n",
       "9                    (wine)          (confectionery)               0.287   \n",
       "10  (frozenmeal, cannedveg)                   (beer)               0.173   \n",
       "11       (frozenmeal, beer)              (cannedveg)               0.170   \n",
       "12        (cannedveg, beer)             (frozenmeal)               0.167   \n",
       "13             (frozenmeal)        (cannedveg, beer)               0.302   \n",
       "14              (cannedveg)       (frozenmeal, beer)               0.303   \n",
       "15                   (beer)  (frozenmeal, cannedveg)               0.293   \n",
       "\n",
       "    consequent support  support  confidence      lift  leverage  conviction  \n",
       "0                0.292    0.145    0.484950  1.660787  0.057692    1.374623  \n",
       "1                0.299    0.145    0.496575  1.660787  0.057692    1.392463  \n",
       "2                0.303    0.173    0.572848  1.890586  0.081494    1.631736  \n",
       "3                0.302    0.173    0.570957  1.890586  0.081494    1.626877  \n",
       "4                0.293    0.167    0.551155  1.881075  0.078221    1.575154  \n",
       "5                0.303    0.167    0.569966  1.881075  0.078221    1.620802  \n",
       "6                0.293    0.170    0.562914  1.921208  0.081514    1.617530  \n",
       "7                0.302    0.170    0.580205  1.921208  0.081514    1.662715  \n",
       "8                0.287    0.144    0.521739  1.817906  0.064788    1.490818  \n",
       "9                0.276    0.144    0.501742  1.817906  0.064788    1.453063  \n",
       "10               0.293    0.146    0.843931  2.880309  0.095311    4.530037  \n",
       "11               0.303    0.146    0.858824  2.834401  0.094490    4.937083  \n",
       "12               0.302    0.146    0.874251  2.894873  0.095566    5.550762  \n",
       "13               0.167    0.146    0.483444  2.894873  0.095566    1.612603  \n",
       "14               0.170    0.146    0.481848  2.834401  0.094490    1.601847  \n",
       "15               0.173    0.146    0.498294  2.880309  0.095311    1.648374  "
      ],
      "text/html": "<div>\n<style scoped>\n    .dataframe tbody tr th:only-of-type {\n        vertical-align: middle;\n    }\n\n    .dataframe tbody tr th {\n        vertical-align: top;\n    }\n\n    .dataframe thead th {\n        text-align: right;\n    }\n</style>\n<table border=\"1\" class=\"dataframe\">\n  <thead>\n    <tr style=\"text-align: right;\">\n      <th></th>\n      <th>antecedents</th>\n      <th>consequents</th>\n      <th>antecedent support</th>\n      <th>consequent support</th>\n      <th>support</th>\n      <th>confidence</th>\n      <th>lift</th>\n      <th>leverage</th>\n      <th>conviction</th>\n    </tr>\n  </thead>\n  <tbody>\n    <tr>\n      <th>0</th>\n      <td>(fruitveg)</td>\n      <td>(fish)</td>\n      <td>0.299</td>\n      <td>0.292</td>\n      <td>0.145</td>\n      <td>0.484950</td>\n      <td>1.660787</td>\n      <td>0.057692</td>\n      <td>1.374623</td>\n    </tr>\n    <tr>\n      <th>1</th>\n      <td>(fish)</td>\n      <td>(fruitveg)</td>\n      <td>0.292</td>\n      <td>0.299</td>\n      <td>0.145</td>\n      <td>0.496575</td>\n      <td>1.660787</td>\n      <td>0.057692</td>\n      <td>1.392463</td>\n    </tr>\n    <tr>\n      <th>2</th>\n      <td>(frozenmeal)</td>\n      <td>(cannedveg)</td>\n      <td>0.302</td>\n      <td>0.303</td>\n      <td>0.173</td>\n      <td>0.572848</td>\n      <td>1.890586</td>\n      <td>0.081494</td>\n      <td>1.631736</td>\n    </tr>\n    <tr>\n      <th>3</th>\n      <td>(cannedveg)</td>\n      <td>(frozenmeal)</td>\n      <td>0.303</td>\n      <td>0.302</td>\n      <td>0.173</td>\n      <td>0.570957</td>\n      <td>1.890586</td>\n      <td>0.081494</td>\n      <td>1.626877</td>\n    </tr>\n    <tr>\n      <th>4</th>\n      <td>(cannedveg)</td>\n      <td>(beer)</td>\n      <td>0.303</td>\n      <td>0.293</td>\n      <td>0.167</td>\n      <td>0.551155</td>\n      <td>1.881075</td>\n      <td>0.078221</td>\n      <td>1.575154</td>\n    </tr>\n    <tr>\n      <th>5</th>\n      <td>(beer)</td>\n      <td>(cannedveg)</td>\n      <td>0.293</td>\n      <td>0.303</td>\n      <td>0.167</td>\n      <td>0.569966</td>\n      <td>1.881075</td>\n      <td>0.078221</td>\n      <td>1.620802</td>\n    </tr>\n    <tr>\n      <th>6</th>\n      <td>(frozenmeal)</td>\n      <td>(beer)</td>\n      <td>0.302</td>\n      <td>0.293</td>\n      <td>0.170</td>\n      <td>0.562914</td>\n      <td>1.921208</td>\n      <td>0.081514</td>\n      <td>1.617530</td>\n    </tr>\n    <tr>\n      <th>7</th>\n      <td>(beer)</td>\n      <td>(frozenmeal)</td>\n      <td>0.293</td>\n      <td>0.302</td>\n      <td>0.170</td>\n      <td>0.580205</td>\n      <td>1.921208</td>\n      <td>0.081514</td>\n      <td>1.662715</td>\n    </tr>\n    <tr>\n      <th>8</th>\n      <td>(confectionery)</td>\n      <td>(wine)</td>\n      <td>0.276</td>\n      <td>0.287</td>\n      <td>0.144</td>\n      <td>0.521739</td>\n      <td>1.817906</td>\n      <td>0.064788</td>\n      <td>1.490818</td>\n    </tr>\n    <tr>\n      <th>9</th>\n      <td>(wine)</td>\n      <td>(confectionery)</td>\n      <td>0.287</td>\n      <td>0.276</td>\n      <td>0.144</td>\n      <td>0.501742</td>\n      <td>1.817906</td>\n      <td>0.064788</td>\n      <td>1.453063</td>\n    </tr>\n    <tr>\n      <th>10</th>\n      <td>(frozenmeal, cannedveg)</td>\n      <td>(beer)</td>\n      <td>0.173</td>\n      <td>0.293</td>\n      <td>0.146</td>\n      <td>0.843931</td>\n      <td>2.880309</td>\n      <td>0.095311</td>\n      <td>4.530037</td>\n    </tr>\n    <tr>\n      <th>11</th>\n      <td>(frozenmeal, beer)</td>\n      <td>(cannedveg)</td>\n      <td>0.170</td>\n      <td>0.303</td>\n      <td>0.146</td>\n      <td>0.858824</td>\n      <td>2.834401</td>\n      <td>0.094490</td>\n      <td>4.937083</td>\n    </tr>\n    <tr>\n      <th>12</th>\n      <td>(cannedveg, beer)</td>\n      <td>(frozenmeal)</td>\n      <td>0.167</td>\n      <td>0.302</td>\n      <td>0.146</td>\n      <td>0.874251</td>\n      <td>2.894873</td>\n      <td>0.095566</td>\n      <td>5.550762</td>\n    </tr>\n    <tr>\n      <th>13</th>\n      <td>(frozenmeal)</td>\n      <td>(cannedveg, beer)</td>\n      <td>0.302</td>\n      <td>0.167</td>\n      <td>0.146</td>\n      <td>0.483444</td>\n      <td>2.894873</td>\n      <td>0.095566</td>\n      <td>1.612603</td>\n    </tr>\n    <tr>\n      <th>14</th>\n      <td>(cannedveg)</td>\n      <td>(frozenmeal, beer)</td>\n      <td>0.303</td>\n      <td>0.170</td>\n      <td>0.146</td>\n      <td>0.481848</td>\n      <td>2.834401</td>\n      <td>0.094490</td>\n      <td>1.601847</td>\n    </tr>\n    <tr>\n      <th>15</th>\n      <td>(beer)</td>\n      <td>(frozenmeal, cannedveg)</td>\n      <td>0.293</td>\n      <td>0.173</td>\n      <td>0.146</td>\n      <td>0.498294</td>\n      <td>2.880309</td>\n      <td>0.095311</td>\n      <td>1.648374</td>\n    </tr>\n  </tbody>\n</table>\n</div>"
     },
     "metadata": {},
     "execution_count": 150
    }
   ],
   "source": [
    "# find rules\n",
    "ar=association_rules(ap,metric='confidence',support_only=False,min_threshold=0.1)\n",
    "ar"
   ]
  },
  {
   "cell_type": "markdown",
   "metadata": {},
   "source": [
    "### Q3. Find association rules having minimum antecedent_len 2 & confidence greater than 0.75"
   ]
  },
  {
   "cell_type": "code",
   "execution_count": 151,
   "metadata": {},
   "outputs": [
    {
     "output_type": "execute_result",
     "data": {
      "text/plain": [
       "               antecedents   consequents  antecedent support  \\\n",
       "0  (frozenmeal, cannedveg)        (beer)               0.173   \n",
       "1       (frozenmeal, beer)   (cannedveg)               0.170   \n",
       "2        (cannedveg, beer)  (frozenmeal)               0.167   \n",
       "\n",
       "   consequent support  support  confidence      lift  leverage  conviction  \n",
       "0               0.293    0.146    0.843931  2.880309  0.095311    4.530037  \n",
       "1               0.303    0.146    0.858824  2.834401  0.094490    4.937083  \n",
       "2               0.302    0.146    0.874251  2.894873  0.095566    5.550762  "
      ],
      "text/html": "<div>\n<style scoped>\n    .dataframe tbody tr th:only-of-type {\n        vertical-align: middle;\n    }\n\n    .dataframe tbody tr th {\n        vertical-align: top;\n    }\n\n    .dataframe thead th {\n        text-align: right;\n    }\n</style>\n<table border=\"1\" class=\"dataframe\">\n  <thead>\n    <tr style=\"text-align: right;\">\n      <th></th>\n      <th>antecedents</th>\n      <th>consequents</th>\n      <th>antecedent support</th>\n      <th>consequent support</th>\n      <th>support</th>\n      <th>confidence</th>\n      <th>lift</th>\n      <th>leverage</th>\n      <th>conviction</th>\n    </tr>\n  </thead>\n  <tbody>\n    <tr>\n      <th>0</th>\n      <td>(frozenmeal, cannedveg)</td>\n      <td>(beer)</td>\n      <td>0.173</td>\n      <td>0.293</td>\n      <td>0.146</td>\n      <td>0.843931</td>\n      <td>2.880309</td>\n      <td>0.095311</td>\n      <td>4.530037</td>\n    </tr>\n    <tr>\n      <th>1</th>\n      <td>(frozenmeal, beer)</td>\n      <td>(cannedveg)</td>\n      <td>0.170</td>\n      <td>0.303</td>\n      <td>0.146</td>\n      <td>0.858824</td>\n      <td>2.834401</td>\n      <td>0.094490</td>\n      <td>4.937083</td>\n    </tr>\n    <tr>\n      <th>2</th>\n      <td>(cannedveg, beer)</td>\n      <td>(frozenmeal)</td>\n      <td>0.167</td>\n      <td>0.302</td>\n      <td>0.146</td>\n      <td>0.874251</td>\n      <td>2.894873</td>\n      <td>0.095566</td>\n      <td>5.550762</td>\n    </tr>\n  </tbody>\n</table>\n</div>"
     },
     "metadata": {},
     "execution_count": 151
    }
   ],
   "source": [
    "#rules having minimum antecedent_len 2 and confidence greater than 0.75\n",
    "ar=association_rules(ap,metric='confidence',support_only=False,min_threshold=0.75)\n",
    "for i in ar.index:\n",
    "    if(len(ar.antecedents.loc[i])<2):\n",
    "        ar.drop(i)\n",
    "ar"
   ]
  },
  {
   "cell_type": "markdown",
   "metadata": {},
   "source": [
    "### Load the \"zoo\" data"
   ]
  },
  {
   "cell_type": "code",
   "execution_count": 152,
   "metadata": {},
   "outputs": [
    {
     "output_type": "execute_result",
     "data": {
      "text/plain": [
       "  animal_name  hair  feathers  eggs  milk  airborne  aquatic  predator  \\\n",
       "0    aardvark     1         0     0     1         0        0         1   \n",
       "1    antelope     1         0     0     1         0        0         0   \n",
       "2        bass     0         0     1     0         0        1         1   \n",
       "3        bear     1         0     0     1         0        0         1   \n",
       "4        boar     1         0     0     1         0        0         1   \n",
       "\n",
       "   toothed  backbone  breathes  venomous  fins  legs  tail  domestic  catsize  \\\n",
       "0        1         1         1         0     0     4     0         0        1   \n",
       "1        1         1         1         0     0     4     1         0        1   \n",
       "2        1         1         0         0     1     0     1         0        0   \n",
       "3        1         1         1         0     0     4     0         0        1   \n",
       "4        1         1         1         0     0     4     1         0        1   \n",
       "\n",
       "   type  \n",
       "0     1  \n",
       "1     1  \n",
       "2     4  \n",
       "3     1  \n",
       "4     1  "
      ],
      "text/html": "<div>\n<style scoped>\n    .dataframe tbody tr th:only-of-type {\n        vertical-align: middle;\n    }\n\n    .dataframe tbody tr th {\n        vertical-align: top;\n    }\n\n    .dataframe thead th {\n        text-align: right;\n    }\n</style>\n<table border=\"1\" class=\"dataframe\">\n  <thead>\n    <tr style=\"text-align: right;\">\n      <th></th>\n      <th>animal_name</th>\n      <th>hair</th>\n      <th>feathers</th>\n      <th>eggs</th>\n      <th>milk</th>\n      <th>airborne</th>\n      <th>aquatic</th>\n      <th>predator</th>\n      <th>toothed</th>\n      <th>backbone</th>\n      <th>breathes</th>\n      <th>venomous</th>\n      <th>fins</th>\n      <th>legs</th>\n      <th>tail</th>\n      <th>domestic</th>\n      <th>catsize</th>\n      <th>type</th>\n    </tr>\n  </thead>\n  <tbody>\n    <tr>\n      <th>0</th>\n      <td>aardvark</td>\n      <td>1</td>\n      <td>0</td>\n      <td>0</td>\n      <td>1</td>\n      <td>0</td>\n      <td>0</td>\n      <td>1</td>\n      <td>1</td>\n      <td>1</td>\n      <td>1</td>\n      <td>0</td>\n      <td>0</td>\n      <td>4</td>\n      <td>0</td>\n      <td>0</td>\n      <td>1</td>\n      <td>1</td>\n    </tr>\n    <tr>\n      <th>1</th>\n      <td>antelope</td>\n      <td>1</td>\n      <td>0</td>\n      <td>0</td>\n      <td>1</td>\n      <td>0</td>\n      <td>0</td>\n      <td>0</td>\n      <td>1</td>\n      <td>1</td>\n      <td>1</td>\n      <td>0</td>\n      <td>0</td>\n      <td>4</td>\n      <td>1</td>\n      <td>0</td>\n      <td>1</td>\n      <td>1</td>\n    </tr>\n    <tr>\n      <th>2</th>\n      <td>bass</td>\n      <td>0</td>\n      <td>0</td>\n      <td>1</td>\n      <td>0</td>\n      <td>0</td>\n      <td>1</td>\n      <td>1</td>\n      <td>1</td>\n      <td>1</td>\n      <td>0</td>\n      <td>0</td>\n      <td>1</td>\n      <td>0</td>\n      <td>1</td>\n      <td>0</td>\n      <td>0</td>\n      <td>4</td>\n    </tr>\n    <tr>\n      <th>3</th>\n      <td>bear</td>\n      <td>1</td>\n      <td>0</td>\n      <td>0</td>\n      <td>1</td>\n      <td>0</td>\n      <td>0</td>\n      <td>1</td>\n      <td>1</td>\n      <td>1</td>\n      <td>1</td>\n      <td>0</td>\n      <td>0</td>\n      <td>4</td>\n      <td>0</td>\n      <td>0</td>\n      <td>1</td>\n      <td>1</td>\n    </tr>\n    <tr>\n      <th>4</th>\n      <td>boar</td>\n      <td>1</td>\n      <td>0</td>\n      <td>0</td>\n      <td>1</td>\n      <td>0</td>\n      <td>0</td>\n      <td>1</td>\n      <td>1</td>\n      <td>1</td>\n      <td>1</td>\n      <td>0</td>\n      <td>0</td>\n      <td>4</td>\n      <td>1</td>\n      <td>0</td>\n      <td>1</td>\n      <td>1</td>\n    </tr>\n  </tbody>\n</table>\n</div>"
     },
     "metadata": {},
     "execution_count": 152
    }
   ],
   "source": [
    "# load the dataset and display first five rows\n",
    "df = pd.read_csv(\"zoo.txt\",header=None)\t\n",
    "df.columns=['animal_name','hair','feathers','eggs','milk','airborne','aquatic','predator','toothed','backbone','breathes','venomous','fins','legs','tail','domestic','catsize','type']\t\n",
    "df.head()"
   ]
  },
  {
   "cell_type": "markdown",
   "metadata": {},
   "source": [
    "### Q4. Perform pre-processing (if required)"
   ]
  },
  {
   "cell_type": "code",
   "execution_count": 153,
   "metadata": {},
   "outputs": [
    {
     "output_type": "execute_result",
     "data": {
      "text/plain": [
       "     hair  feathers  eggs  milk  airborne  aquatic  predator  toothed  \\\n",
       "0       1         0     0     1         0        0         1        1   \n",
       "1       1         0     0     1         0        0         0        1   \n",
       "2       0         0     1     0         0        1         1        1   \n",
       "3       1         0     0     1         0        0         1        1   \n",
       "4       1         0     0     1         0        0         1        1   \n",
       "..    ...       ...   ...   ...       ...      ...       ...      ...   \n",
       "96      1         0     0     1         0        0         0        1   \n",
       "97      1         0     1     0         1        0         0        0   \n",
       "98      1         0     0     1         0        0         1        1   \n",
       "99      0         0     1     0         0        0         0        0   \n",
       "100     0         1     1     0         1        0         0        0   \n",
       "\n",
       "     backbone  breathes  ...  legs_5  legs_6  legs_8  type_1  type_2  type_3  \\\n",
       "0           1         1  ...       0       0       0       1       0       0   \n",
       "1           1         1  ...       0       0       0       1       0       0   \n",
       "2           1         0  ...       0       0       0       0       0       0   \n",
       "3           1         1  ...       0       0       0       1       0       0   \n",
       "4           1         1  ...       0       0       0       1       0       0   \n",
       "..        ...       ...  ...     ...     ...     ...     ...     ...     ...   \n",
       "96          1         1  ...       0       0       0       1       0       0   \n",
       "97          0         1  ...       0       1       0       0       0       0   \n",
       "98          1         1  ...       0       0       0       1       0       0   \n",
       "99          0         1  ...       0       0       0       0       0       0   \n",
       "100         1         1  ...       0       0       0       0       1       0   \n",
       "\n",
       "     type_4  type_5  type_6  type_7  \n",
       "0         0       0       0       0  \n",
       "1         0       0       0       0  \n",
       "2         1       0       0       0  \n",
       "3         0       0       0       0  \n",
       "4         0       0       0       0  \n",
       "..      ...     ...     ...     ...  \n",
       "96        0       0       0       0  \n",
       "97        0       0       1       0  \n",
       "98        0       0       0       0  \n",
       "99        0       0       0       1  \n",
       "100       0       0       0       0  \n",
       "\n",
       "[101 rows x 28 columns]"
      ],
      "text/html": "<div>\n<style scoped>\n    .dataframe tbody tr th:only-of-type {\n        vertical-align: middle;\n    }\n\n    .dataframe tbody tr th {\n        vertical-align: top;\n    }\n\n    .dataframe thead th {\n        text-align: right;\n    }\n</style>\n<table border=\"1\" class=\"dataframe\">\n  <thead>\n    <tr style=\"text-align: right;\">\n      <th></th>\n      <th>hair</th>\n      <th>feathers</th>\n      <th>eggs</th>\n      <th>milk</th>\n      <th>airborne</th>\n      <th>aquatic</th>\n      <th>predator</th>\n      <th>toothed</th>\n      <th>backbone</th>\n      <th>breathes</th>\n      <th>...</th>\n      <th>legs_5</th>\n      <th>legs_6</th>\n      <th>legs_8</th>\n      <th>type_1</th>\n      <th>type_2</th>\n      <th>type_3</th>\n      <th>type_4</th>\n      <th>type_5</th>\n      <th>type_6</th>\n      <th>type_7</th>\n    </tr>\n  </thead>\n  <tbody>\n    <tr>\n      <th>0</th>\n      <td>1</td>\n      <td>0</td>\n      <td>0</td>\n      <td>1</td>\n      <td>0</td>\n      <td>0</td>\n      <td>1</td>\n      <td>1</td>\n      <td>1</td>\n      <td>1</td>\n      <td>...</td>\n      <td>0</td>\n      <td>0</td>\n      <td>0</td>\n      <td>1</td>\n      <td>0</td>\n      <td>0</td>\n      <td>0</td>\n      <td>0</td>\n      <td>0</td>\n      <td>0</td>\n    </tr>\n    <tr>\n      <th>1</th>\n      <td>1</td>\n      <td>0</td>\n      <td>0</td>\n      <td>1</td>\n      <td>0</td>\n      <td>0</td>\n      <td>0</td>\n      <td>1</td>\n      <td>1</td>\n      <td>1</td>\n      <td>...</td>\n      <td>0</td>\n      <td>0</td>\n      <td>0</td>\n      <td>1</td>\n      <td>0</td>\n      <td>0</td>\n      <td>0</td>\n      <td>0</td>\n      <td>0</td>\n      <td>0</td>\n    </tr>\n    <tr>\n      <th>2</th>\n      <td>0</td>\n      <td>0</td>\n      <td>1</td>\n      <td>0</td>\n      <td>0</td>\n      <td>1</td>\n      <td>1</td>\n      <td>1</td>\n      <td>1</td>\n      <td>0</td>\n      <td>...</td>\n      <td>0</td>\n      <td>0</td>\n      <td>0</td>\n      <td>0</td>\n      <td>0</td>\n      <td>0</td>\n      <td>1</td>\n      <td>0</td>\n      <td>0</td>\n      <td>0</td>\n    </tr>\n    <tr>\n      <th>3</th>\n      <td>1</td>\n      <td>0</td>\n      <td>0</td>\n      <td>1</td>\n      <td>0</td>\n      <td>0</td>\n      <td>1</td>\n      <td>1</td>\n      <td>1</td>\n      <td>1</td>\n      <td>...</td>\n      <td>0</td>\n      <td>0</td>\n      <td>0</td>\n      <td>1</td>\n      <td>0</td>\n      <td>0</td>\n      <td>0</td>\n      <td>0</td>\n      <td>0</td>\n      <td>0</td>\n    </tr>\n    <tr>\n      <th>4</th>\n      <td>1</td>\n      <td>0</td>\n      <td>0</td>\n      <td>1</td>\n      <td>0</td>\n      <td>0</td>\n      <td>1</td>\n      <td>1</td>\n      <td>1</td>\n      <td>1</td>\n      <td>...</td>\n      <td>0</td>\n      <td>0</td>\n      <td>0</td>\n      <td>1</td>\n      <td>0</td>\n      <td>0</td>\n      <td>0</td>\n      <td>0</td>\n      <td>0</td>\n      <td>0</td>\n    </tr>\n    <tr>\n      <th>...</th>\n      <td>...</td>\n      <td>...</td>\n      <td>...</td>\n      <td>...</td>\n      <td>...</td>\n      <td>...</td>\n      <td>...</td>\n      <td>...</td>\n      <td>...</td>\n      <td>...</td>\n      <td>...</td>\n      <td>...</td>\n      <td>...</td>\n      <td>...</td>\n      <td>...</td>\n      <td>...</td>\n      <td>...</td>\n      <td>...</td>\n      <td>...</td>\n      <td>...</td>\n      <td>...</td>\n    </tr>\n    <tr>\n      <th>96</th>\n      <td>1</td>\n      <td>0</td>\n      <td>0</td>\n      <td>1</td>\n      <td>0</td>\n      <td>0</td>\n      <td>0</td>\n      <td>1</td>\n      <td>1</td>\n      <td>1</td>\n      <td>...</td>\n      <td>0</td>\n      <td>0</td>\n      <td>0</td>\n      <td>1</td>\n      <td>0</td>\n      <td>0</td>\n      <td>0</td>\n      <td>0</td>\n      <td>0</td>\n      <td>0</td>\n    </tr>\n    <tr>\n      <th>97</th>\n      <td>1</td>\n      <td>0</td>\n      <td>1</td>\n      <td>0</td>\n      <td>1</td>\n      <td>0</td>\n      <td>0</td>\n      <td>0</td>\n      <td>0</td>\n      <td>1</td>\n      <td>...</td>\n      <td>0</td>\n      <td>1</td>\n      <td>0</td>\n      <td>0</td>\n      <td>0</td>\n      <td>0</td>\n      <td>0</td>\n      <td>0</td>\n      <td>1</td>\n      <td>0</td>\n    </tr>\n    <tr>\n      <th>98</th>\n      <td>1</td>\n      <td>0</td>\n      <td>0</td>\n      <td>1</td>\n      <td>0</td>\n      <td>0</td>\n      <td>1</td>\n      <td>1</td>\n      <td>1</td>\n      <td>1</td>\n      <td>...</td>\n      <td>0</td>\n      <td>0</td>\n      <td>0</td>\n      <td>1</td>\n      <td>0</td>\n      <td>0</td>\n      <td>0</td>\n      <td>0</td>\n      <td>0</td>\n      <td>0</td>\n    </tr>\n    <tr>\n      <th>99</th>\n      <td>0</td>\n      <td>0</td>\n      <td>1</td>\n      <td>0</td>\n      <td>0</td>\n      <td>0</td>\n      <td>0</td>\n      <td>0</td>\n      <td>0</td>\n      <td>1</td>\n      <td>...</td>\n      <td>0</td>\n      <td>0</td>\n      <td>0</td>\n      <td>0</td>\n      <td>0</td>\n      <td>0</td>\n      <td>0</td>\n      <td>0</td>\n      <td>0</td>\n      <td>1</td>\n    </tr>\n    <tr>\n      <th>100</th>\n      <td>0</td>\n      <td>1</td>\n      <td>1</td>\n      <td>0</td>\n      <td>1</td>\n      <td>0</td>\n      <td>0</td>\n      <td>0</td>\n      <td>1</td>\n      <td>1</td>\n      <td>...</td>\n      <td>0</td>\n      <td>0</td>\n      <td>0</td>\n      <td>0</td>\n      <td>1</td>\n      <td>0</td>\n      <td>0</td>\n      <td>0</td>\n      <td>0</td>\n      <td>0</td>\n    </tr>\n  </tbody>\n</table>\n<p>101 rows × 28 columns</p>\n</div>"
     },
     "metadata": {},
     "execution_count": 153
    }
   ],
   "source": [
    "#dropping first column - name\n",
    "df=df.drop(['animal_name'],axis=1)\n",
    "#one hot encoding column legs\n",
    "df = pd.concat([df,pd.get_dummies(df['legs'], prefix='legs')],axis=1)\n",
    "df.drop(['legs'],axis=1, inplace=True)\n",
    "#replacing class type and one hot encoding it\n",
    "df = pd.concat([df,pd.get_dummies(df['type'], prefix='type')],axis=1)\n",
    "df.drop(['type'],axis=1, inplace=True)\n",
    "df\n"
   ]
  },
  {
   "cell_type": "markdown",
   "metadata": {},
   "source": [
    "### Q5. Find frequent itemsets in zoo dataset having min support 0.5 "
   ]
  },
  {
   "cell_type": "code",
   "execution_count": 154,
   "metadata": {},
   "outputs": [
    {
     "output_type": "execute_result",
     "data": {
      "text/plain": [
       "     support                    itemsets\n",
       "0   0.584158                      (eggs)\n",
       "1   0.554455                  (predator)\n",
       "2   0.603960                   (toothed)\n",
       "3   0.821782                  (backbone)\n",
       "4   0.792079                  (breathes)\n",
       "5   0.742574                      (tail)\n",
       "6   0.603960         (backbone, toothed)\n",
       "7   0.514851             (tail, toothed)\n",
       "8   0.683168        (backbone, breathes)\n",
       "9   0.732673            (backbone, tail)\n",
       "10  0.603960            (tail, breathes)\n",
       "11  0.514851   (backbone, tail, toothed)\n",
       "12  0.594059  (backbone, tail, breathes)"
      ],
      "text/html": "<div>\n<style scoped>\n    .dataframe tbody tr th:only-of-type {\n        vertical-align: middle;\n    }\n\n    .dataframe tbody tr th {\n        vertical-align: top;\n    }\n\n    .dataframe thead th {\n        text-align: right;\n    }\n</style>\n<table border=\"1\" class=\"dataframe\">\n  <thead>\n    <tr style=\"text-align: right;\">\n      <th></th>\n      <th>support</th>\n      <th>itemsets</th>\n    </tr>\n  </thead>\n  <tbody>\n    <tr>\n      <th>0</th>\n      <td>0.584158</td>\n      <td>(eggs)</td>\n    </tr>\n    <tr>\n      <th>1</th>\n      <td>0.554455</td>\n      <td>(predator)</td>\n    </tr>\n    <tr>\n      <th>2</th>\n      <td>0.603960</td>\n      <td>(toothed)</td>\n    </tr>\n    <tr>\n      <th>3</th>\n      <td>0.821782</td>\n      <td>(backbone)</td>\n    </tr>\n    <tr>\n      <th>4</th>\n      <td>0.792079</td>\n      <td>(breathes)</td>\n    </tr>\n    <tr>\n      <th>5</th>\n      <td>0.742574</td>\n      <td>(tail)</td>\n    </tr>\n    <tr>\n      <th>6</th>\n      <td>0.603960</td>\n      <td>(backbone, toothed)</td>\n    </tr>\n    <tr>\n      <th>7</th>\n      <td>0.514851</td>\n      <td>(tail, toothed)</td>\n    </tr>\n    <tr>\n      <th>8</th>\n      <td>0.683168</td>\n      <td>(backbone, breathes)</td>\n    </tr>\n    <tr>\n      <th>9</th>\n      <td>0.732673</td>\n      <td>(backbone, tail)</td>\n    </tr>\n    <tr>\n      <th>10</th>\n      <td>0.603960</td>\n      <td>(tail, breathes)</td>\n    </tr>\n    <tr>\n      <th>11</th>\n      <td>0.514851</td>\n      <td>(backbone, tail, toothed)</td>\n    </tr>\n    <tr>\n      <th>12</th>\n      <td>0.594059</td>\n      <td>(backbone, tail, breathes)</td>\n    </tr>\n  </tbody>\n</table>\n</div>"
     },
     "metadata": {},
     "execution_count": 154
    }
   ],
   "source": [
    "#apriori with min support 0.5 and confidence 0.5\n",
    "ap = apriori(df, min_support=0.5,use_colnames=True)\n",
    "ap"
   ]
  },
  {
   "cell_type": "markdown",
   "metadata": {},
   "source": [
    "### Q6. Find frequent association rules having min confidence 0.5"
   ]
  },
  {
   "cell_type": "code",
   "execution_count": 155,
   "metadata": {},
   "outputs": [
    {
     "output_type": "execute_result",
     "data": {
      "text/plain": [
       "             antecedents           consequents  antecedent support  \\\n",
       "0             (backbone)             (toothed)            0.821782   \n",
       "1              (toothed)            (backbone)            0.603960   \n",
       "2                 (tail)             (toothed)            0.742574   \n",
       "3              (toothed)                (tail)            0.603960   \n",
       "4             (backbone)            (breathes)            0.821782   \n",
       "5             (breathes)            (backbone)            0.792079   \n",
       "6             (backbone)                (tail)            0.821782   \n",
       "7                 (tail)            (backbone)            0.742574   \n",
       "8                 (tail)            (breathes)            0.742574   \n",
       "9             (breathes)                (tail)            0.792079   \n",
       "10      (backbone, tail)             (toothed)            0.732673   \n",
       "11   (backbone, toothed)                (tail)            0.603960   \n",
       "12       (tail, toothed)            (backbone)            0.514851   \n",
       "13            (backbone)       (tail, toothed)            0.821782   \n",
       "14                (tail)   (backbone, toothed)            0.742574   \n",
       "15             (toothed)      (backbone, tail)            0.603960   \n",
       "16      (backbone, tail)            (breathes)            0.732673   \n",
       "17  (backbone, breathes)                (tail)            0.683168   \n",
       "18      (tail, breathes)            (backbone)            0.603960   \n",
       "19            (backbone)      (tail, breathes)            0.821782   \n",
       "20                (tail)  (backbone, breathes)            0.742574   \n",
       "21            (breathes)      (backbone, tail)            0.792079   \n",
       "\n",
       "    consequent support   support  confidence      lift  leverage  conviction  \n",
       "0             0.603960  0.603960    0.734940  1.216867  0.107637    1.494149  \n",
       "1             0.821782  0.603960    1.000000  1.216867  0.107637         inf  \n",
       "2             0.603960  0.514851    0.693333  1.147978  0.066366    1.291433  \n",
       "3             0.742574  0.514851    0.852459  1.147978  0.066366    1.744774  \n",
       "4             0.792079  0.683168    0.831325  1.049548  0.032252    1.232673  \n",
       "5             0.821782  0.683168    0.862500  1.049548  0.032252    1.296130  \n",
       "6             0.742574  0.732673    0.891566  1.200643  0.122439    2.374037  \n",
       "7             0.821782  0.732673    0.986667  1.200643  0.122439   13.366337  \n",
       "8             0.792079  0.603960    0.813333  1.026833  0.015783    1.113861  \n",
       "9             0.742574  0.603960    0.762500  1.026833  0.015783    1.083898  \n",
       "10            0.603960  0.514851    0.702703  1.163491  0.072346    1.332133  \n",
       "11            0.742574  0.514851    0.852459  1.147978  0.066366    1.744774  \n",
       "12            0.821782  0.514851    1.000000  1.216867  0.091756         inf  \n",
       "13            0.514851  0.514851    0.626506  1.216867  0.091756    1.298946  \n",
       "14            0.603960  0.514851    0.693333  1.147978  0.066366    1.291433  \n",
       "15            0.732673  0.514851    0.852459  1.163491  0.072346    1.811881  \n",
       "16            0.792079  0.594059    0.810811  1.023649  0.013724    1.099010  \n",
       "17            0.742574  0.594059    0.869565  1.171014  0.086756    1.973597  \n",
       "18            0.821782  0.594059    0.983607  1.196919  0.097736   10.871287  \n",
       "19            0.603960  0.594059    0.722892  1.196919  0.097736    1.429186  \n",
       "20            0.683168  0.594059    0.800000  1.171014  0.086756    1.584158  \n",
       "21            0.732673  0.594059    0.750000  1.023649  0.013724    1.069307  "
      ],
      "text/html": "<div>\n<style scoped>\n    .dataframe tbody tr th:only-of-type {\n        vertical-align: middle;\n    }\n\n    .dataframe tbody tr th {\n        vertical-align: top;\n    }\n\n    .dataframe thead th {\n        text-align: right;\n    }\n</style>\n<table border=\"1\" class=\"dataframe\">\n  <thead>\n    <tr style=\"text-align: right;\">\n      <th></th>\n      <th>antecedents</th>\n      <th>consequents</th>\n      <th>antecedent support</th>\n      <th>consequent support</th>\n      <th>support</th>\n      <th>confidence</th>\n      <th>lift</th>\n      <th>leverage</th>\n      <th>conviction</th>\n    </tr>\n  </thead>\n  <tbody>\n    <tr>\n      <th>0</th>\n      <td>(backbone)</td>\n      <td>(toothed)</td>\n      <td>0.821782</td>\n      <td>0.603960</td>\n      <td>0.603960</td>\n      <td>0.734940</td>\n      <td>1.216867</td>\n      <td>0.107637</td>\n      <td>1.494149</td>\n    </tr>\n    <tr>\n      <th>1</th>\n      <td>(toothed)</td>\n      <td>(backbone)</td>\n      <td>0.603960</td>\n      <td>0.821782</td>\n      <td>0.603960</td>\n      <td>1.000000</td>\n      <td>1.216867</td>\n      <td>0.107637</td>\n      <td>inf</td>\n    </tr>\n    <tr>\n      <th>2</th>\n      <td>(tail)</td>\n      <td>(toothed)</td>\n      <td>0.742574</td>\n      <td>0.603960</td>\n      <td>0.514851</td>\n      <td>0.693333</td>\n      <td>1.147978</td>\n      <td>0.066366</td>\n      <td>1.291433</td>\n    </tr>\n    <tr>\n      <th>3</th>\n      <td>(toothed)</td>\n      <td>(tail)</td>\n      <td>0.603960</td>\n      <td>0.742574</td>\n      <td>0.514851</td>\n      <td>0.852459</td>\n      <td>1.147978</td>\n      <td>0.066366</td>\n      <td>1.744774</td>\n    </tr>\n    <tr>\n      <th>4</th>\n      <td>(backbone)</td>\n      <td>(breathes)</td>\n      <td>0.821782</td>\n      <td>0.792079</td>\n      <td>0.683168</td>\n      <td>0.831325</td>\n      <td>1.049548</td>\n      <td>0.032252</td>\n      <td>1.232673</td>\n    </tr>\n    <tr>\n      <th>5</th>\n      <td>(breathes)</td>\n      <td>(backbone)</td>\n      <td>0.792079</td>\n      <td>0.821782</td>\n      <td>0.683168</td>\n      <td>0.862500</td>\n      <td>1.049548</td>\n      <td>0.032252</td>\n      <td>1.296130</td>\n    </tr>\n    <tr>\n      <th>6</th>\n      <td>(backbone)</td>\n      <td>(tail)</td>\n      <td>0.821782</td>\n      <td>0.742574</td>\n      <td>0.732673</td>\n      <td>0.891566</td>\n      <td>1.200643</td>\n      <td>0.122439</td>\n      <td>2.374037</td>\n    </tr>\n    <tr>\n      <th>7</th>\n      <td>(tail)</td>\n      <td>(backbone)</td>\n      <td>0.742574</td>\n      <td>0.821782</td>\n      <td>0.732673</td>\n      <td>0.986667</td>\n      <td>1.200643</td>\n      <td>0.122439</td>\n      <td>13.366337</td>\n    </tr>\n    <tr>\n      <th>8</th>\n      <td>(tail)</td>\n      <td>(breathes)</td>\n      <td>0.742574</td>\n      <td>0.792079</td>\n      <td>0.603960</td>\n      <td>0.813333</td>\n      <td>1.026833</td>\n      <td>0.015783</td>\n      <td>1.113861</td>\n    </tr>\n    <tr>\n      <th>9</th>\n      <td>(breathes)</td>\n      <td>(tail)</td>\n      <td>0.792079</td>\n      <td>0.742574</td>\n      <td>0.603960</td>\n      <td>0.762500</td>\n      <td>1.026833</td>\n      <td>0.015783</td>\n      <td>1.083898</td>\n    </tr>\n    <tr>\n      <th>10</th>\n      <td>(backbone, tail)</td>\n      <td>(toothed)</td>\n      <td>0.732673</td>\n      <td>0.603960</td>\n      <td>0.514851</td>\n      <td>0.702703</td>\n      <td>1.163491</td>\n      <td>0.072346</td>\n      <td>1.332133</td>\n    </tr>\n    <tr>\n      <th>11</th>\n      <td>(backbone, toothed)</td>\n      <td>(tail)</td>\n      <td>0.603960</td>\n      <td>0.742574</td>\n      <td>0.514851</td>\n      <td>0.852459</td>\n      <td>1.147978</td>\n      <td>0.066366</td>\n      <td>1.744774</td>\n    </tr>\n    <tr>\n      <th>12</th>\n      <td>(tail, toothed)</td>\n      <td>(backbone)</td>\n      <td>0.514851</td>\n      <td>0.821782</td>\n      <td>0.514851</td>\n      <td>1.000000</td>\n      <td>1.216867</td>\n      <td>0.091756</td>\n      <td>inf</td>\n    </tr>\n    <tr>\n      <th>13</th>\n      <td>(backbone)</td>\n      <td>(tail, toothed)</td>\n      <td>0.821782</td>\n      <td>0.514851</td>\n      <td>0.514851</td>\n      <td>0.626506</td>\n      <td>1.216867</td>\n      <td>0.091756</td>\n      <td>1.298946</td>\n    </tr>\n    <tr>\n      <th>14</th>\n      <td>(tail)</td>\n      <td>(backbone, toothed)</td>\n      <td>0.742574</td>\n      <td>0.603960</td>\n      <td>0.514851</td>\n      <td>0.693333</td>\n      <td>1.147978</td>\n      <td>0.066366</td>\n      <td>1.291433</td>\n    </tr>\n    <tr>\n      <th>15</th>\n      <td>(toothed)</td>\n      <td>(backbone, tail)</td>\n      <td>0.603960</td>\n      <td>0.732673</td>\n      <td>0.514851</td>\n      <td>0.852459</td>\n      <td>1.163491</td>\n      <td>0.072346</td>\n      <td>1.811881</td>\n    </tr>\n    <tr>\n      <th>16</th>\n      <td>(backbone, tail)</td>\n      <td>(breathes)</td>\n      <td>0.732673</td>\n      <td>0.792079</td>\n      <td>0.594059</td>\n      <td>0.810811</td>\n      <td>1.023649</td>\n      <td>0.013724</td>\n      <td>1.099010</td>\n    </tr>\n    <tr>\n      <th>17</th>\n      <td>(backbone, breathes)</td>\n      <td>(tail)</td>\n      <td>0.683168</td>\n      <td>0.742574</td>\n      <td>0.594059</td>\n      <td>0.869565</td>\n      <td>1.171014</td>\n      <td>0.086756</td>\n      <td>1.973597</td>\n    </tr>\n    <tr>\n      <th>18</th>\n      <td>(tail, breathes)</td>\n      <td>(backbone)</td>\n      <td>0.603960</td>\n      <td>0.821782</td>\n      <td>0.594059</td>\n      <td>0.983607</td>\n      <td>1.196919</td>\n      <td>0.097736</td>\n      <td>10.871287</td>\n    </tr>\n    <tr>\n      <th>19</th>\n      <td>(backbone)</td>\n      <td>(tail, breathes)</td>\n      <td>0.821782</td>\n      <td>0.603960</td>\n      <td>0.594059</td>\n      <td>0.722892</td>\n      <td>1.196919</td>\n      <td>0.097736</td>\n      <td>1.429186</td>\n    </tr>\n    <tr>\n      <th>20</th>\n      <td>(tail)</td>\n      <td>(backbone, breathes)</td>\n      <td>0.742574</td>\n      <td>0.683168</td>\n      <td>0.594059</td>\n      <td>0.800000</td>\n      <td>1.171014</td>\n      <td>0.086756</td>\n      <td>1.584158</td>\n    </tr>\n    <tr>\n      <th>21</th>\n      <td>(breathes)</td>\n      <td>(backbone, tail)</td>\n      <td>0.792079</td>\n      <td>0.732673</td>\n      <td>0.594059</td>\n      <td>0.750000</td>\n      <td>1.023649</td>\n      <td>0.013724</td>\n      <td>1.069307</td>\n    </tr>\n  </tbody>\n</table>\n</div>"
     },
     "metadata": {},
     "execution_count": 155
    }
   ],
   "source": [
    "# Find and display rules\n",
    "ar=association_rules(ap,metric='confidence',support_only=False,min_threshold=0.5)\n",
    "ar"
   ]
  },
  {
   "cell_type": "markdown",
   "metadata": {},
   "source": [
    "### Q7. Convert the dataset into two classes \"Mammal\" and \"others\""
   ]
  },
  {
   "cell_type": "code",
   "execution_count": 156,
   "metadata": {},
   "outputs": [
    {
     "output_type": "execute_result",
     "data": {
      "text/plain": [
       "     hair  feathers  eggs  milk  airborne  aquatic  predator  toothed  \\\n",
       "0       1         0     0     1         0        0         1        1   \n",
       "1       1         0     0     1         0        0         0        1   \n",
       "2       0         0     1     0         0        1         1        1   \n",
       "3       1         0     0     1         0        0         1        1   \n",
       "4       1         0     0     1         0        0         1        1   \n",
       "..    ...       ...   ...   ...       ...      ...       ...      ...   \n",
       "96      1         0     0     1         0        0         0        1   \n",
       "97      1         0     1     0         1        0         0        0   \n",
       "98      1         0     0     1         0        0         1        1   \n",
       "99      0         0     1     0         0        0         0        0   \n",
       "100     0         1     1     0         1        0         0        0   \n",
       "\n",
       "     backbone  breathes  ...  tail  domestic  catsize  legs_0  legs_2  legs_4  \\\n",
       "0           1         1  ...     0         0        1       0       0       1   \n",
       "1           1         1  ...     1         0        1       0       0       1   \n",
       "2           1         0  ...     1         0        0       1       0       0   \n",
       "3           1         1  ...     0         0        1       0       0       1   \n",
       "4           1         1  ...     1         0        1       0       0       1   \n",
       "..        ...       ...  ...   ...       ...      ...     ...     ...     ...   \n",
       "96          1         1  ...     1         0        1       0       1       0   \n",
       "97          0         1  ...     0         0        0       0       0       0   \n",
       "98          1         1  ...     1         0        1       0       0       1   \n",
       "99          0         1  ...     0         0        0       1       0       0   \n",
       "100         1         1  ...     1         0        0       0       1       0   \n",
       "\n",
       "     legs_5  legs_6  legs_8  type_1  \n",
       "0         0       0       0       1  \n",
       "1         0       0       0       1  \n",
       "2         0       0       0       0  \n",
       "3         0       0       0       1  \n",
       "4         0       0       0       1  \n",
       "..      ...     ...     ...     ...  \n",
       "96        0       0       0       1  \n",
       "97        0       1       0       0  \n",
       "98        0       0       0       1  \n",
       "99        0       0       0       0  \n",
       "100       0       0       0       0  \n",
       "\n",
       "[101 rows x 22 columns]"
      ],
      "text/html": "<div>\n<style scoped>\n    .dataframe tbody tr th:only-of-type {\n        vertical-align: middle;\n    }\n\n    .dataframe tbody tr th {\n        vertical-align: top;\n    }\n\n    .dataframe thead th {\n        text-align: right;\n    }\n</style>\n<table border=\"1\" class=\"dataframe\">\n  <thead>\n    <tr style=\"text-align: right;\">\n      <th></th>\n      <th>hair</th>\n      <th>feathers</th>\n      <th>eggs</th>\n      <th>milk</th>\n      <th>airborne</th>\n      <th>aquatic</th>\n      <th>predator</th>\n      <th>toothed</th>\n      <th>backbone</th>\n      <th>breathes</th>\n      <th>...</th>\n      <th>tail</th>\n      <th>domestic</th>\n      <th>catsize</th>\n      <th>legs_0</th>\n      <th>legs_2</th>\n      <th>legs_4</th>\n      <th>legs_5</th>\n      <th>legs_6</th>\n      <th>legs_8</th>\n      <th>type_1</th>\n    </tr>\n  </thead>\n  <tbody>\n    <tr>\n      <th>0</th>\n      <td>1</td>\n      <td>0</td>\n      <td>0</td>\n      <td>1</td>\n      <td>0</td>\n      <td>0</td>\n      <td>1</td>\n      <td>1</td>\n      <td>1</td>\n      <td>1</td>\n      <td>...</td>\n      <td>0</td>\n      <td>0</td>\n      <td>1</td>\n      <td>0</td>\n      <td>0</td>\n      <td>1</td>\n      <td>0</td>\n      <td>0</td>\n      <td>0</td>\n      <td>1</td>\n    </tr>\n    <tr>\n      <th>1</th>\n      <td>1</td>\n      <td>0</td>\n      <td>0</td>\n      <td>1</td>\n      <td>0</td>\n      <td>0</td>\n      <td>0</td>\n      <td>1</td>\n      <td>1</td>\n      <td>1</td>\n      <td>...</td>\n      <td>1</td>\n      <td>0</td>\n      <td>1</td>\n      <td>0</td>\n      <td>0</td>\n      <td>1</td>\n      <td>0</td>\n      <td>0</td>\n      <td>0</td>\n      <td>1</td>\n    </tr>\n    <tr>\n      <th>2</th>\n      <td>0</td>\n      <td>0</td>\n      <td>1</td>\n      <td>0</td>\n      <td>0</td>\n      <td>1</td>\n      <td>1</td>\n      <td>1</td>\n      <td>1</td>\n      <td>0</td>\n      <td>...</td>\n      <td>1</td>\n      <td>0</td>\n      <td>0</td>\n      <td>1</td>\n      <td>0</td>\n      <td>0</td>\n      <td>0</td>\n      <td>0</td>\n      <td>0</td>\n      <td>0</td>\n    </tr>\n    <tr>\n      <th>3</th>\n      <td>1</td>\n      <td>0</td>\n      <td>0</td>\n      <td>1</td>\n      <td>0</td>\n      <td>0</td>\n      <td>1</td>\n      <td>1</td>\n      <td>1</td>\n      <td>1</td>\n      <td>...</td>\n      <td>0</td>\n      <td>0</td>\n      <td>1</td>\n      <td>0</td>\n      <td>0</td>\n      <td>1</td>\n      <td>0</td>\n      <td>0</td>\n      <td>0</td>\n      <td>1</td>\n    </tr>\n    <tr>\n      <th>4</th>\n      <td>1</td>\n      <td>0</td>\n      <td>0</td>\n      <td>1</td>\n      <td>0</td>\n      <td>0</td>\n      <td>1</td>\n      <td>1</td>\n      <td>1</td>\n      <td>1</td>\n      <td>...</td>\n      <td>1</td>\n      <td>0</td>\n      <td>1</td>\n      <td>0</td>\n      <td>0</td>\n      <td>1</td>\n      <td>0</td>\n      <td>0</td>\n      <td>0</td>\n      <td>1</td>\n    </tr>\n    <tr>\n      <th>...</th>\n      <td>...</td>\n      <td>...</td>\n      <td>...</td>\n      <td>...</td>\n      <td>...</td>\n      <td>...</td>\n      <td>...</td>\n      <td>...</td>\n      <td>...</td>\n      <td>...</td>\n      <td>...</td>\n      <td>...</td>\n      <td>...</td>\n      <td>...</td>\n      <td>...</td>\n      <td>...</td>\n      <td>...</td>\n      <td>...</td>\n      <td>...</td>\n      <td>...</td>\n      <td>...</td>\n    </tr>\n    <tr>\n      <th>96</th>\n      <td>1</td>\n      <td>0</td>\n      <td>0</td>\n      <td>1</td>\n      <td>0</td>\n      <td>0</td>\n      <td>0</td>\n      <td>1</td>\n      <td>1</td>\n      <td>1</td>\n      <td>...</td>\n      <td>1</td>\n      <td>0</td>\n      <td>1</td>\n      <td>0</td>\n      <td>1</td>\n      <td>0</td>\n      <td>0</td>\n      <td>0</td>\n      <td>0</td>\n      <td>1</td>\n    </tr>\n    <tr>\n      <th>97</th>\n      <td>1</td>\n      <td>0</td>\n      <td>1</td>\n      <td>0</td>\n      <td>1</td>\n      <td>0</td>\n      <td>0</td>\n      <td>0</td>\n      <td>0</td>\n      <td>1</td>\n      <td>...</td>\n      <td>0</td>\n      <td>0</td>\n      <td>0</td>\n      <td>0</td>\n      <td>0</td>\n      <td>0</td>\n      <td>0</td>\n      <td>1</td>\n      <td>0</td>\n      <td>0</td>\n    </tr>\n    <tr>\n      <th>98</th>\n      <td>1</td>\n      <td>0</td>\n      <td>0</td>\n      <td>1</td>\n      <td>0</td>\n      <td>0</td>\n      <td>1</td>\n      <td>1</td>\n      <td>1</td>\n      <td>1</td>\n      <td>...</td>\n      <td>1</td>\n      <td>0</td>\n      <td>1</td>\n      <td>0</td>\n      <td>0</td>\n      <td>1</td>\n      <td>0</td>\n      <td>0</td>\n      <td>0</td>\n      <td>1</td>\n    </tr>\n    <tr>\n      <th>99</th>\n      <td>0</td>\n      <td>0</td>\n      <td>1</td>\n      <td>0</td>\n      <td>0</td>\n      <td>0</td>\n      <td>0</td>\n      <td>0</td>\n      <td>0</td>\n      <td>1</td>\n      <td>...</td>\n      <td>0</td>\n      <td>0</td>\n      <td>0</td>\n      <td>1</td>\n      <td>0</td>\n      <td>0</td>\n      <td>0</td>\n      <td>0</td>\n      <td>0</td>\n      <td>0</td>\n    </tr>\n    <tr>\n      <th>100</th>\n      <td>0</td>\n      <td>1</td>\n      <td>1</td>\n      <td>0</td>\n      <td>1</td>\n      <td>0</td>\n      <td>0</td>\n      <td>0</td>\n      <td>1</td>\n      <td>1</td>\n      <td>...</td>\n      <td>1</td>\n      <td>0</td>\n      <td>0</td>\n      <td>0</td>\n      <td>1</td>\n      <td>0</td>\n      <td>0</td>\n      <td>0</td>\n      <td>0</td>\n      <td>0</td>\n    </tr>\n  </tbody>\n</table>\n<p>101 rows × 22 columns</p>\n</div>"
     },
     "metadata": {},
     "execution_count": 156
    }
   ],
   "source": [
    "# Take mammal class column as the class column and drop others.\n",
    "df=df.drop(['type_2','type_3','type_4','type_5','type_6','type_7',],axis=1)\n",
    "df"
   ]
  },
  {
   "cell_type": "markdown",
   "metadata": {},
   "source": [
    "### Q8. Partition the dataset into training and testing part (70:30)"
   ]
  },
  {
   "cell_type": "code",
   "execution_count": 157,
   "metadata": {},
   "outputs": [],
   "source": [
    "#partition the data\n",
    "df_train,df_test = train_test_split(df, test_size=0.30, random_state = 30)"
   ]
  },
  {
   "cell_type": "markdown",
   "metadata": {},
   "source": [
    "### Q9. Generate association rules for \"mammal\" class (training data) with min support 0.4 and confidence as 1"
   ]
  },
  {
   "cell_type": "code",
   "execution_count": 158,
   "metadata": {},
   "outputs": [
    {
     "output_type": "execute_result",
     "data": {
      "text/plain": [
       "     support                                     itemsets\n",
       "0   0.428571                                       (hair)\n",
       "1   0.571429                                       (eggs)\n",
       "2   0.400000                                       (milk)\n",
       "3   0.571429                                   (predator)\n",
       "4   0.628571                                    (toothed)\n",
       "5   0.800000                                   (backbone)\n",
       "6   0.757143                                   (breathes)\n",
       "7   0.700000                                       (tail)\n",
       "8   0.414286                                    (catsize)\n",
       "9   0.400000                                     (type_1)\n",
       "10  0.428571                             (hair, breathes)\n",
       "11  0.400000                              (milk, toothed)\n",
       "12  0.400000                             (backbone, milk)\n",
       "13  0.400000                             (milk, breathes)\n",
       "14  0.400000                               (milk, type_1)\n",
       "15  0.457143                         (backbone, predator)\n",
       "16  0.400000                             (tail, predator)\n",
       "17  0.628571                          (backbone, toothed)\n",
       "18  0.485714                          (toothed, breathes)\n",
       "19  0.514286                              (tail, toothed)\n",
       "20  0.400000                            (toothed, type_1)\n",
       "21  0.657143                         (backbone, breathes)\n",
       "22  0.685714                             (backbone, tail)\n",
       "23  0.400000                          (catsize, backbone)\n",
       "24  0.400000                           (backbone, type_1)\n",
       "25  0.557143                             (tail, breathes)\n",
       "26  0.400000                           (type_1, breathes)\n",
       "27  0.400000                    (backbone, milk, toothed)\n",
       "28  0.400000                    (toothed, milk, breathes)\n",
       "29  0.400000                      (toothed, milk, type_1)\n",
       "30  0.400000                   (backbone, milk, breathes)\n",
       "31  0.400000                     (backbone, milk, type_1)\n",
       "32  0.400000                     (type_1, milk, breathes)\n",
       "33  0.485714                (toothed, backbone, breathes)\n",
       "34  0.514286                    (backbone, tail, toothed)\n",
       "35  0.400000                  (toothed, backbone, type_1)\n",
       "36  0.400000                  (type_1, toothed, breathes)\n",
       "37  0.542857                   (backbone, tail, breathes)\n",
       "38  0.400000                 (type_1, backbone, breathes)\n",
       "39  0.400000          (toothed, backbone, milk, breathes)\n",
       "40  0.400000            (toothed, backbone, milk, type_1)\n",
       "41  0.400000            (type_1, toothed, milk, breathes)\n",
       "42  0.400000           (type_1, backbone, milk, breathes)\n",
       "43  0.400000        (type_1, toothed, backbone, breathes)\n",
       "44  0.400000  (toothed, milk, backbone, breathes, type_1)"
      ],
      "text/html": "<div>\n<style scoped>\n    .dataframe tbody tr th:only-of-type {\n        vertical-align: middle;\n    }\n\n    .dataframe tbody tr th {\n        vertical-align: top;\n    }\n\n    .dataframe thead th {\n        text-align: right;\n    }\n</style>\n<table border=\"1\" class=\"dataframe\">\n  <thead>\n    <tr style=\"text-align: right;\">\n      <th></th>\n      <th>support</th>\n      <th>itemsets</th>\n    </tr>\n  </thead>\n  <tbody>\n    <tr>\n      <th>0</th>\n      <td>0.428571</td>\n      <td>(hair)</td>\n    </tr>\n    <tr>\n      <th>1</th>\n      <td>0.571429</td>\n      <td>(eggs)</td>\n    </tr>\n    <tr>\n      <th>2</th>\n      <td>0.400000</td>\n      <td>(milk)</td>\n    </tr>\n    <tr>\n      <th>3</th>\n      <td>0.571429</td>\n      <td>(predator)</td>\n    </tr>\n    <tr>\n      <th>4</th>\n      <td>0.628571</td>\n      <td>(toothed)</td>\n    </tr>\n    <tr>\n      <th>5</th>\n      <td>0.800000</td>\n      <td>(backbone)</td>\n    </tr>\n    <tr>\n      <th>6</th>\n      <td>0.757143</td>\n      <td>(breathes)</td>\n    </tr>\n    <tr>\n      <th>7</th>\n      <td>0.700000</td>\n      <td>(tail)</td>\n    </tr>\n    <tr>\n      <th>8</th>\n      <td>0.414286</td>\n      <td>(catsize)</td>\n    </tr>\n    <tr>\n      <th>9</th>\n      <td>0.400000</td>\n      <td>(type_1)</td>\n    </tr>\n    <tr>\n      <th>10</th>\n      <td>0.428571</td>\n      <td>(hair, breathes)</td>\n    </tr>\n    <tr>\n      <th>11</th>\n      <td>0.400000</td>\n      <td>(milk, toothed)</td>\n    </tr>\n    <tr>\n      <th>12</th>\n      <td>0.400000</td>\n      <td>(backbone, milk)</td>\n    </tr>\n    <tr>\n      <th>13</th>\n      <td>0.400000</td>\n      <td>(milk, breathes)</td>\n    </tr>\n    <tr>\n      <th>14</th>\n      <td>0.400000</td>\n      <td>(milk, type_1)</td>\n    </tr>\n    <tr>\n      <th>15</th>\n      <td>0.457143</td>\n      <td>(backbone, predator)</td>\n    </tr>\n    <tr>\n      <th>16</th>\n      <td>0.400000</td>\n      <td>(tail, predator)</td>\n    </tr>\n    <tr>\n      <th>17</th>\n      <td>0.628571</td>\n      <td>(backbone, toothed)</td>\n    </tr>\n    <tr>\n      <th>18</th>\n      <td>0.485714</td>\n      <td>(toothed, breathes)</td>\n    </tr>\n    <tr>\n      <th>19</th>\n      <td>0.514286</td>\n      <td>(tail, toothed)</td>\n    </tr>\n    <tr>\n      <th>20</th>\n      <td>0.400000</td>\n      <td>(toothed, type_1)</td>\n    </tr>\n    <tr>\n      <th>21</th>\n      <td>0.657143</td>\n      <td>(backbone, breathes)</td>\n    </tr>\n    <tr>\n      <th>22</th>\n      <td>0.685714</td>\n      <td>(backbone, tail)</td>\n    </tr>\n    <tr>\n      <th>23</th>\n      <td>0.400000</td>\n      <td>(catsize, backbone)</td>\n    </tr>\n    <tr>\n      <th>24</th>\n      <td>0.400000</td>\n      <td>(backbone, type_1)</td>\n    </tr>\n    <tr>\n      <th>25</th>\n      <td>0.557143</td>\n      <td>(tail, breathes)</td>\n    </tr>\n    <tr>\n      <th>26</th>\n      <td>0.400000</td>\n      <td>(type_1, breathes)</td>\n    </tr>\n    <tr>\n      <th>27</th>\n      <td>0.400000</td>\n      <td>(backbone, milk, toothed)</td>\n    </tr>\n    <tr>\n      <th>28</th>\n      <td>0.400000</td>\n      <td>(toothed, milk, breathes)</td>\n    </tr>\n    <tr>\n      <th>29</th>\n      <td>0.400000</td>\n      <td>(toothed, milk, type_1)</td>\n    </tr>\n    <tr>\n      <th>30</th>\n      <td>0.400000</td>\n      <td>(backbone, milk, breathes)</td>\n    </tr>\n    <tr>\n      <th>31</th>\n      <td>0.400000</td>\n      <td>(backbone, milk, type_1)</td>\n    </tr>\n    <tr>\n      <th>32</th>\n      <td>0.400000</td>\n      <td>(type_1, milk, breathes)</td>\n    </tr>\n    <tr>\n      <th>33</th>\n      <td>0.485714</td>\n      <td>(toothed, backbone, breathes)</td>\n    </tr>\n    <tr>\n      <th>34</th>\n      <td>0.514286</td>\n      <td>(backbone, tail, toothed)</td>\n    </tr>\n    <tr>\n      <th>35</th>\n      <td>0.400000</td>\n      <td>(toothed, backbone, type_1)</td>\n    </tr>\n    <tr>\n      <th>36</th>\n      <td>0.400000</td>\n      <td>(type_1, toothed, breathes)</td>\n    </tr>\n    <tr>\n      <th>37</th>\n      <td>0.542857</td>\n      <td>(backbone, tail, breathes)</td>\n    </tr>\n    <tr>\n      <th>38</th>\n      <td>0.400000</td>\n      <td>(type_1, backbone, breathes)</td>\n    </tr>\n    <tr>\n      <th>39</th>\n      <td>0.400000</td>\n      <td>(toothed, backbone, milk, breathes)</td>\n    </tr>\n    <tr>\n      <th>40</th>\n      <td>0.400000</td>\n      <td>(toothed, backbone, milk, type_1)</td>\n    </tr>\n    <tr>\n      <th>41</th>\n      <td>0.400000</td>\n      <td>(type_1, toothed, milk, breathes)</td>\n    </tr>\n    <tr>\n      <th>42</th>\n      <td>0.400000</td>\n      <td>(type_1, backbone, milk, breathes)</td>\n    </tr>\n    <tr>\n      <th>43</th>\n      <td>0.400000</td>\n      <td>(type_1, toothed, backbone, breathes)</td>\n    </tr>\n    <tr>\n      <th>44</th>\n      <td>0.400000</td>\n      <td>(toothed, milk, backbone, breathes, type_1)</td>\n    </tr>\n  </tbody>\n</table>\n</div>"
     },
     "metadata": {},
     "execution_count": 158
    }
   ],
   "source": [
    "# frequent itemsets \n",
    "ap1 = apriori(df_train, min_support=0.4,use_colnames=True)\n",
    "ap1"
   ]
  },
  {
   "cell_type": "code",
   "execution_count": 159,
   "metadata": {},
   "outputs": [
    {
     "output_type": "execute_result",
     "data": {
      "text/plain": [
       "            antecedents                            consequents  \\\n",
       "0                (hair)                             (breathes)   \n",
       "1                (milk)                              (toothed)   \n",
       "2                (milk)                             (backbone)   \n",
       "3                (milk)                             (breathes)   \n",
       "4                (milk)                               (type_1)   \n",
       "..                  ...                                    ...   \n",
       "110      (milk, type_1)          (breathes, backbone, toothed)   \n",
       "111  (backbone, type_1)              (breathes, milk, toothed)   \n",
       "112  (type_1, breathes)              (backbone, milk, toothed)   \n",
       "113              (milk)  (type_1, breathes, backbone, toothed)   \n",
       "114            (type_1)    (breathes, backbone, milk, toothed)   \n",
       "\n",
       "     antecedent support  consequent support   support  confidence      lift  \\\n",
       "0              0.428571            0.757143  0.428571         1.0  1.320755   \n",
       "1              0.400000            0.628571  0.400000         1.0  1.590909   \n",
       "2              0.400000            0.800000  0.400000         1.0  1.250000   \n",
       "3              0.400000            0.757143  0.400000         1.0  1.320755   \n",
       "4              0.400000            0.400000  0.400000         1.0  2.500000   \n",
       "..                  ...                 ...       ...         ...       ...   \n",
       "110            0.400000            0.485714  0.400000         1.0  2.058824   \n",
       "111            0.400000            0.400000  0.400000         1.0  2.500000   \n",
       "112            0.400000            0.400000  0.400000         1.0  2.500000   \n",
       "113            0.400000            0.400000  0.400000         1.0  2.500000   \n",
       "114            0.400000            0.400000  0.400000         1.0  2.500000   \n",
       "\n",
       "     leverage  conviction  \n",
       "0    0.104082         inf  \n",
       "1    0.148571         inf  \n",
       "2    0.080000         inf  \n",
       "3    0.097143         inf  \n",
       "4    0.240000         inf  \n",
       "..        ...         ...  \n",
       "110  0.205714         inf  \n",
       "111  0.240000         inf  \n",
       "112  0.240000         inf  \n",
       "113  0.240000         inf  \n",
       "114  0.240000         inf  \n",
       "\n",
       "[115 rows x 9 columns]"
      ],
      "text/html": "<div>\n<style scoped>\n    .dataframe tbody tr th:only-of-type {\n        vertical-align: middle;\n    }\n\n    .dataframe tbody tr th {\n        vertical-align: top;\n    }\n\n    .dataframe thead th {\n        text-align: right;\n    }\n</style>\n<table border=\"1\" class=\"dataframe\">\n  <thead>\n    <tr style=\"text-align: right;\">\n      <th></th>\n      <th>antecedents</th>\n      <th>consequents</th>\n      <th>antecedent support</th>\n      <th>consequent support</th>\n      <th>support</th>\n      <th>confidence</th>\n      <th>lift</th>\n      <th>leverage</th>\n      <th>conviction</th>\n    </tr>\n  </thead>\n  <tbody>\n    <tr>\n      <th>0</th>\n      <td>(hair)</td>\n      <td>(breathes)</td>\n      <td>0.428571</td>\n      <td>0.757143</td>\n      <td>0.428571</td>\n      <td>1.0</td>\n      <td>1.320755</td>\n      <td>0.104082</td>\n      <td>inf</td>\n    </tr>\n    <tr>\n      <th>1</th>\n      <td>(milk)</td>\n      <td>(toothed)</td>\n      <td>0.400000</td>\n      <td>0.628571</td>\n      <td>0.400000</td>\n      <td>1.0</td>\n      <td>1.590909</td>\n      <td>0.148571</td>\n      <td>inf</td>\n    </tr>\n    <tr>\n      <th>2</th>\n      <td>(milk)</td>\n      <td>(backbone)</td>\n      <td>0.400000</td>\n      <td>0.800000</td>\n      <td>0.400000</td>\n      <td>1.0</td>\n      <td>1.250000</td>\n      <td>0.080000</td>\n      <td>inf</td>\n    </tr>\n    <tr>\n      <th>3</th>\n      <td>(milk)</td>\n      <td>(breathes)</td>\n      <td>0.400000</td>\n      <td>0.757143</td>\n      <td>0.400000</td>\n      <td>1.0</td>\n      <td>1.320755</td>\n      <td>0.097143</td>\n      <td>inf</td>\n    </tr>\n    <tr>\n      <th>4</th>\n      <td>(milk)</td>\n      <td>(type_1)</td>\n      <td>0.400000</td>\n      <td>0.400000</td>\n      <td>0.400000</td>\n      <td>1.0</td>\n      <td>2.500000</td>\n      <td>0.240000</td>\n      <td>inf</td>\n    </tr>\n    <tr>\n      <th>...</th>\n      <td>...</td>\n      <td>...</td>\n      <td>...</td>\n      <td>...</td>\n      <td>...</td>\n      <td>...</td>\n      <td>...</td>\n      <td>...</td>\n      <td>...</td>\n    </tr>\n    <tr>\n      <th>110</th>\n      <td>(milk, type_1)</td>\n      <td>(breathes, backbone, toothed)</td>\n      <td>0.400000</td>\n      <td>0.485714</td>\n      <td>0.400000</td>\n      <td>1.0</td>\n      <td>2.058824</td>\n      <td>0.205714</td>\n      <td>inf</td>\n    </tr>\n    <tr>\n      <th>111</th>\n      <td>(backbone, type_1)</td>\n      <td>(breathes, milk, toothed)</td>\n      <td>0.400000</td>\n      <td>0.400000</td>\n      <td>0.400000</td>\n      <td>1.0</td>\n      <td>2.500000</td>\n      <td>0.240000</td>\n      <td>inf</td>\n    </tr>\n    <tr>\n      <th>112</th>\n      <td>(type_1, breathes)</td>\n      <td>(backbone, milk, toothed)</td>\n      <td>0.400000</td>\n      <td>0.400000</td>\n      <td>0.400000</td>\n      <td>1.0</td>\n      <td>2.500000</td>\n      <td>0.240000</td>\n      <td>inf</td>\n    </tr>\n    <tr>\n      <th>113</th>\n      <td>(milk)</td>\n      <td>(type_1, breathes, backbone, toothed)</td>\n      <td>0.400000</td>\n      <td>0.400000</td>\n      <td>0.400000</td>\n      <td>1.0</td>\n      <td>2.500000</td>\n      <td>0.240000</td>\n      <td>inf</td>\n    </tr>\n    <tr>\n      <th>114</th>\n      <td>(type_1)</td>\n      <td>(breathes, backbone, milk, toothed)</td>\n      <td>0.400000</td>\n      <td>0.400000</td>\n      <td>0.400000</td>\n      <td>1.0</td>\n      <td>2.500000</td>\n      <td>0.240000</td>\n      <td>inf</td>\n    </tr>\n  </tbody>\n</table>\n<p>115 rows × 9 columns</p>\n</div>"
     },
     "metadata": {},
     "execution_count": 159
    }
   ],
   "source": [
    "# find frequent rules\n",
    "ar1=association_rules(ap1,metric='confidence',support_only=False,min_threshold=1.0)\n",
    "ar1"
   ]
  },
  {
   "cell_type": "code",
   "execution_count": 160,
   "metadata": {
    "tags": []
   },
   "outputs": [
    {
     "output_type": "execute_result",
     "data": {
      "text/plain": [
       "                            antecedents consequents  antecedent support  \\\n",
       "4                                (milk)    (type_1)                 0.4   \n",
       "16                      (milk, toothed)    (type_1)                 0.4   \n",
       "24                     (backbone, milk)    (type_1)                 0.4   \n",
       "31                     (milk, breathes)    (type_1)                 0.4   \n",
       "52            (backbone, milk, toothed)    (type_1)                 0.4   \n",
       "66            (breathes, milk, toothed)    (type_1)                 0.4   \n",
       "77           (backbone, milk, breathes)    (type_1)                 0.4   \n",
       "92  (breathes, backbone, milk, toothed)    (type_1)                 0.4   \n",
       "\n",
       "    consequent support  support  confidence  lift  leverage  conviction  \n",
       "4                  0.4      0.4         1.0   2.5      0.24         inf  \n",
       "16                 0.4      0.4         1.0   2.5      0.24         inf  \n",
       "24                 0.4      0.4         1.0   2.5      0.24         inf  \n",
       "31                 0.4      0.4         1.0   2.5      0.24         inf  \n",
       "52                 0.4      0.4         1.0   2.5      0.24         inf  \n",
       "66                 0.4      0.4         1.0   2.5      0.24         inf  \n",
       "77                 0.4      0.4         1.0   2.5      0.24         inf  \n",
       "92                 0.4      0.4         1.0   2.5      0.24         inf  "
      ],
      "text/html": "<div>\n<style scoped>\n    .dataframe tbody tr th:only-of-type {\n        vertical-align: middle;\n    }\n\n    .dataframe tbody tr th {\n        vertical-align: top;\n    }\n\n    .dataframe thead th {\n        text-align: right;\n    }\n</style>\n<table border=\"1\" class=\"dataframe\">\n  <thead>\n    <tr style=\"text-align: right;\">\n      <th></th>\n      <th>antecedents</th>\n      <th>consequents</th>\n      <th>antecedent support</th>\n      <th>consequent support</th>\n      <th>support</th>\n      <th>confidence</th>\n      <th>lift</th>\n      <th>leverage</th>\n      <th>conviction</th>\n    </tr>\n  </thead>\n  <tbody>\n    <tr>\n      <th>4</th>\n      <td>(milk)</td>\n      <td>(type_1)</td>\n      <td>0.4</td>\n      <td>0.4</td>\n      <td>0.4</td>\n      <td>1.0</td>\n      <td>2.5</td>\n      <td>0.24</td>\n      <td>inf</td>\n    </tr>\n    <tr>\n      <th>16</th>\n      <td>(milk, toothed)</td>\n      <td>(type_1)</td>\n      <td>0.4</td>\n      <td>0.4</td>\n      <td>0.4</td>\n      <td>1.0</td>\n      <td>2.5</td>\n      <td>0.24</td>\n      <td>inf</td>\n    </tr>\n    <tr>\n      <th>24</th>\n      <td>(backbone, milk)</td>\n      <td>(type_1)</td>\n      <td>0.4</td>\n      <td>0.4</td>\n      <td>0.4</td>\n      <td>1.0</td>\n      <td>2.5</td>\n      <td>0.24</td>\n      <td>inf</td>\n    </tr>\n    <tr>\n      <th>31</th>\n      <td>(milk, breathes)</td>\n      <td>(type_1)</td>\n      <td>0.4</td>\n      <td>0.4</td>\n      <td>0.4</td>\n      <td>1.0</td>\n      <td>2.5</td>\n      <td>0.24</td>\n      <td>inf</td>\n    </tr>\n    <tr>\n      <th>52</th>\n      <td>(backbone, milk, toothed)</td>\n      <td>(type_1)</td>\n      <td>0.4</td>\n      <td>0.4</td>\n      <td>0.4</td>\n      <td>1.0</td>\n      <td>2.5</td>\n      <td>0.24</td>\n      <td>inf</td>\n    </tr>\n    <tr>\n      <th>66</th>\n      <td>(breathes, milk, toothed)</td>\n      <td>(type_1)</td>\n      <td>0.4</td>\n      <td>0.4</td>\n      <td>0.4</td>\n      <td>1.0</td>\n      <td>2.5</td>\n      <td>0.24</td>\n      <td>inf</td>\n    </tr>\n    <tr>\n      <th>77</th>\n      <td>(backbone, milk, breathes)</td>\n      <td>(type_1)</td>\n      <td>0.4</td>\n      <td>0.4</td>\n      <td>0.4</td>\n      <td>1.0</td>\n      <td>2.5</td>\n      <td>0.24</td>\n      <td>inf</td>\n    </tr>\n    <tr>\n      <th>92</th>\n      <td>(breathes, backbone, milk, toothed)</td>\n      <td>(type_1)</td>\n      <td>0.4</td>\n      <td>0.4</td>\n      <td>0.4</td>\n      <td>1.0</td>\n      <td>2.5</td>\n      <td>0.24</td>\n      <td>inf</td>\n    </tr>\n  </tbody>\n</table>\n</div>"
     },
     "metadata": {},
     "execution_count": 160
    }
   ],
   "source": [
    "# selecting rules having consequents as class mammal\n",
    "for i in ar1.index:\n",
    "    if(list(ar1.consequents.loc[i])!=['type_1']):\n",
    "        ar1.drop(i,inplace=True)\n",
    "#print(str(ar1.consequents))\n",
    "ar1"
   ]
  },
  {
   "cell_type": "markdown",
   "metadata": {},
   "source": [
    "### Q10. Test the rules generated on testing dataset and find precision and recall for the rule based classifier"
   ]
  },
  {
   "cell_type": "code",
   "execution_count": 161,
   "metadata": {},
   "outputs": [],
   "source": [
    "#applying rules on test data\n",
    "i = 0\n",
    "flag = False\n",
    "predictions=[]\n",
    "for row in df_test.itertuples(index=False):\n",
    "    for rule in ar1.itertuples(index=False):\n",
    "        cols=[row[df_test.columns.get_loc(j)] for j in rule[0]]\n",
    "        if all(cols):\n",
    "            predictions.append(1)\n",
    "            flag=True\n",
    "            break\n",
    "    if not flag:\n",
    "        predictions.append(0)\n",
    "    flag=False"
   ]
  },
  {
   "cell_type": "code",
   "execution_count": 162,
   "metadata": {},
   "outputs": [
    {
     "output_type": "stream",
     "name": "stdout",
     "text": [
      "Confusion Matrix\n[[18  0]\n [ 0 13]]\n\n Accuracy\n1.0\n"
     ]
    }
   ],
   "source": [
    "# evaluation measures\n",
    "print(\"Confusion Matrix\")\n",
    "print(confusion_matrix(df_test['type_1'],predictions))\n",
    "print(\"\\n Accuracy\")\n",
    "print(accuracy_score(df_test['type_1'],predictions))"
   ]
  },
  {
   "cell_type": "code",
   "execution_count": 163,
   "metadata": {},
   "outputs": [
    {
     "output_type": "stream",
     "name": "stdout",
     "text": [
      "              precision    recall  f1-score   support\n\n           0       1.00      1.00      1.00        18\n           1       1.00      1.00      1.00        13\n\n    accuracy                           1.00        31\n   macro avg       1.00      1.00      1.00        31\nweighted avg       1.00      1.00      1.00        31\n\n"
     ]
    }
   ],
   "source": [
    "# print classification report\n",
    "print(classification_report(Y_test,predictions))"
   ]
  },
  {
   "cell_type": "markdown",
   "metadata": {},
   "source": [
    "### Q11. Apply decision tree on the dataset and calculate the performance evaluation measures"
   ]
  },
  {
   "cell_type": "code",
   "execution_count": 164,
   "metadata": {},
   "outputs": [],
   "source": [
    "# Select the independent variables and target column\n",
    "X = df[df.columns[:-1]] # Selecting the independent variables\n",
    "Y=df[df.columns[len(df.columns)-1]] # selecting only the target lableled column\n",
    "X_train, X_test, Y_train, Y_test = train_test_split(X, Y, test_size=0.30, random_state = 30)"
   ]
  },
  {
   "cell_type": "code",
   "execution_count": 165,
   "metadata": {},
   "outputs": [],
   "source": [
    "# Apply decision tree\n",
    "from sklearn.tree import DecisionTreeClassifier\n",
    "dtree= DecisionTreeClassifier(criterion='entropy', random_state = 30)\n",
    "dtree = dtree.fit(X_train,Y_train)"
   ]
  },
  {
   "cell_type": "code",
   "execution_count": 166,
   "metadata": {},
   "outputs": [],
   "source": [
    "# Find predictions by decision tree\n",
    "predictions = dtree.predict(X_test)"
   ]
  },
  {
   "cell_type": "code",
   "execution_count": 167,
   "metadata": {},
   "outputs": [
    {
     "output_type": "stream",
     "name": "stdout",
     "text": [
      "              precision    recall  f1-score   support\n\n           0       1.00      1.00      1.00        18\n           1       1.00      1.00      1.00        13\n\n    accuracy                           1.00        31\n   macro avg       1.00      1.00      1.00        31\nweighted avg       1.00      1.00      1.00        31\n\nConfusion Matrix\n[[18  0]\n [ 0 13]]\n\n Accuracy\n1.0\n"
     ]
    }
   ],
   "source": [
    "# Evaluation measures and classification report\n",
    "print(classification_report(Y_test,predictions))\n",
    "print(\"Confusion Matrix\")\n",
    "print(confusion_matrix(Y_test,predictions))\n",
    "print(\"\\n Accuracy\")\n",
    "print(accuracy_score(Y_test,predictions))"
   ]
  },
  {
   "cell_type": "markdown",
   "metadata": {},
   "source": [
    "### Q12. Which out of the two classifiers performs better."
   ]
  },
  {
   "source": [
    "#Name of the classifier with accuracy value.\n",
    "Both the classifier perform equaly good having 100% accuracy_score."
   ],
   "cell_type": "code",
   "metadata": {},
   "execution_count": null,
   "outputs": []
  }
 ],
 "metadata": {
  "kernelspec": {
   "name": "Python 3.8.5 64-bit ('venv')",
   "display_name": "Python 3.8.5 64-bit ('venv')",
   "metadata": {
    "interpreter": {
     "hash": "f3d41eb964c724b2a1fea6c5f080c785bf2a86402f7892ca9d02d6f547148ea0"
    }
   }
  },
  "language_info": {
   "codemirror_mode": {
    "name": "ipython",
    "version": 3
   },
   "file_extension": ".py",
   "mimetype": "text/x-python",
   "name": "python",
   "nbconvert_exporter": "python",
   "pygments_lexer": "ipython3",
   "version": "3.8.5-final"
  }
 },
 "nbformat": 4,
 "nbformat_minor": 2
}