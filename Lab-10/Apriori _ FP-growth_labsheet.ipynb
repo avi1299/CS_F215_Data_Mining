{
 "cells": [
  {
   "cell_type": "markdown",
   "metadata": {},
   "source": [
    "# Apriori\n",
    "\n",
    "\n",
    "The Apriori algorithm is used for mining frequent itemsets and devising association rules from a transactional database. The parameters “support” and “confidence” are used. Support refers to items’ frequency of occurrence; confidence is a conditional probability.\n",
    "\n",
    "A key concept in Apriori algorithm is the anti-monotonicity of the support measure. It assumes that\n",
    "\n",
    "1. All subsets of a frequent itemset must be frequent\n",
    "2. Similarly, for any infrequent itemset, all its supersets must be infrequent too\n"
   ]
  },
  {
   "cell_type": "markdown",
   "metadata": {},
   "source": [
    "###  Algorithm\n",
    "The following are the main steps of the algorithm:\n",
    "\n",
    "1. Calculate the support of item sets (of size k = 1) in the transactional database (note that support is the frequency of \n",
    "   occurrence of an itemset). This is called generating the candidate set.\n",
    "2. Prune the candidate set by eliminating items with a support less than the given threshold.\n",
    "3. Join the frequent itemsets to form sets of size k + 1, and repeat the above sets until no more itemsets can be formed. This \n",
    "   will happen when the set(s) formed have a support less than​ the given support."
   ]
  },
  {
   "cell_type": "markdown",
   "metadata": {},
   "source": [
    "### Libraries useful in Apriori and FP-growth are listed below"
   ]
  },
  {
   "cell_type": "raw",
   "metadata": {},
   "source": [
    "To load dataset:    import pandas as pd\n",
    "Preprocessing:      from sklearn import preprocessing\n",
    "apriori:            from mlxtend.frequent_patterns import apriori\n",
    "fp-growth:          from mlxtend.frequent_patterns import fpgrowth\n",
    "association rules:  from mlxtend.frequent_patterns import association_rules"
   ]
  },
  {
   "cell_type": "markdown",
   "metadata": {},
   "source": [
    "### Install library for apriori algorithm using:\n",
    "!pip install mlxtend"
   ]
  },
  {
   "cell_type": "markdown",
   "metadata": {},
   "source": [
    "### Load the \"zoo\" data"
   ]
  },
  {
   "cell_type": "code",
   "execution_count": 20,
   "metadata": {},
   "outputs": [
    {
     "output_type": "execute_result",
     "data": {
      "text/plain": [
       "  animal_name  hair  feathers  eggs  milk  airborne  aquatic  predator  \\\n",
       "0    aardvark     1         0     0     1         0        0         1   \n",
       "1    antelope     1         0     0     1         0        0         0   \n",
       "2        bass     0         0     1     0         0        1         1   \n",
       "3        bear     1         0     0     1         0        0         1   \n",
       "4        boar     1         0     0     1         0        0         1   \n",
       "\n",
       "   toothed  backbone  breathes  venomous  fins  legs  tail  domestic  catsize  \\\n",
       "0        1         1         1         0     0     4     0         0        1   \n",
       "1        1         1         1         0     0     4     1         0        1   \n",
       "2        1         1         0         0     1     0     1         0        0   \n",
       "3        1         1         1         0     0     4     0         0        1   \n",
       "4        1         1         1         0     0     4     1         0        1   \n",
       "\n",
       "   type  \n",
       "0     1  \n",
       "1     1  \n",
       "2     4  \n",
       "3     1  \n",
       "4     1  "
      ],
      "text/html": "<div>\n<style scoped>\n    .dataframe tbody tr th:only-of-type {\n        vertical-align: middle;\n    }\n\n    .dataframe tbody tr th {\n        vertical-align: top;\n    }\n\n    .dataframe thead th {\n        text-align: right;\n    }\n</style>\n<table border=\"1\" class=\"dataframe\">\n  <thead>\n    <tr style=\"text-align: right;\">\n      <th></th>\n      <th>animal_name</th>\n      <th>hair</th>\n      <th>feathers</th>\n      <th>eggs</th>\n      <th>milk</th>\n      <th>airborne</th>\n      <th>aquatic</th>\n      <th>predator</th>\n      <th>toothed</th>\n      <th>backbone</th>\n      <th>breathes</th>\n      <th>venomous</th>\n      <th>fins</th>\n      <th>legs</th>\n      <th>tail</th>\n      <th>domestic</th>\n      <th>catsize</th>\n      <th>type</th>\n    </tr>\n  </thead>\n  <tbody>\n    <tr>\n      <th>0</th>\n      <td>aardvark</td>\n      <td>1</td>\n      <td>0</td>\n      <td>0</td>\n      <td>1</td>\n      <td>0</td>\n      <td>0</td>\n      <td>1</td>\n      <td>1</td>\n      <td>1</td>\n      <td>1</td>\n      <td>0</td>\n      <td>0</td>\n      <td>4</td>\n      <td>0</td>\n      <td>0</td>\n      <td>1</td>\n      <td>1</td>\n    </tr>\n    <tr>\n      <th>1</th>\n      <td>antelope</td>\n      <td>1</td>\n      <td>0</td>\n      <td>0</td>\n      <td>1</td>\n      <td>0</td>\n      <td>0</td>\n      <td>0</td>\n      <td>1</td>\n      <td>1</td>\n      <td>1</td>\n      <td>0</td>\n      <td>0</td>\n      <td>4</td>\n      <td>1</td>\n      <td>0</td>\n      <td>1</td>\n      <td>1</td>\n    </tr>\n    <tr>\n      <th>2</th>\n      <td>bass</td>\n      <td>0</td>\n      <td>0</td>\n      <td>1</td>\n      <td>0</td>\n      <td>0</td>\n      <td>1</td>\n      <td>1</td>\n      <td>1</td>\n      <td>1</td>\n      <td>0</td>\n      <td>0</td>\n      <td>1</td>\n      <td>0</td>\n      <td>1</td>\n      <td>0</td>\n      <td>0</td>\n      <td>4</td>\n    </tr>\n    <tr>\n      <th>3</th>\n      <td>bear</td>\n      <td>1</td>\n      <td>0</td>\n      <td>0</td>\n      <td>1</td>\n      <td>0</td>\n      <td>0</td>\n      <td>1</td>\n      <td>1</td>\n      <td>1</td>\n      <td>1</td>\n      <td>0</td>\n      <td>0</td>\n      <td>4</td>\n      <td>0</td>\n      <td>0</td>\n      <td>1</td>\n      <td>1</td>\n    </tr>\n    <tr>\n      <th>4</th>\n      <td>boar</td>\n      <td>1</td>\n      <td>0</td>\n      <td>0</td>\n      <td>1</td>\n      <td>0</td>\n      <td>0</td>\n      <td>1</td>\n      <td>1</td>\n      <td>1</td>\n      <td>1</td>\n      <td>0</td>\n      <td>0</td>\n      <td>4</td>\n      <td>1</td>\n      <td>0</td>\n      <td>1</td>\n      <td>1</td>\n    </tr>\n  </tbody>\n</table>\n</div>"
     },
     "metadata": {},
     "execution_count": 20
    }
   ],
   "source": [
    "#load the dataset\n",
    "import pandas as pd\n",
    "from sklearn import preprocessing\n",
    "from mlxtend.frequent_patterns import apriori\n",
    "from mlxtend.frequent_patterns import fpgrowth\n",
    "from mlxtend.frequent_patterns import association_rules\n",
    "df = pd.read_csv(\"Zoo Dataset/zoo.data\",header=None)\t\n",
    "df.columns=['animal_name','hair','feathers','eggs','milk','airborne','aquatic','predator','toothed','backbone','breathes','venomous','fins','legs','tail','domestic','catsize','type']\t\n",
    "df.head()"
   ]
  },
  {
   "cell_type": "markdown",
   "metadata": {},
   "source": [
    "### Q1. Perform pre-processing (if required)"
   ]
  },
  {
   "cell_type": "code",
   "execution_count": 21,
   "metadata": {},
   "outputs": [
    {
     "output_type": "execute_result",
     "data": {
      "text/plain": [
       "     hair  feathers  eggs  milk  airborne  aquatic  predator  toothed  \\\n",
       "0       1         0     0     1         0        0         1        1   \n",
       "1       1         0     0     1         0        0         0        1   \n",
       "2       0         0     1     0         0        1         1        1   \n",
       "3       1         0     0     1         0        0         1        1   \n",
       "4       1         0     0     1         0        0         1        1   \n",
       "..    ...       ...   ...   ...       ...      ...       ...      ...   \n",
       "96      1         0     0     1         0        0         0        1   \n",
       "97      1         0     1     0         1        0         0        0   \n",
       "98      1         0     0     1         0        0         1        1   \n",
       "99      0         0     1     0         0        0         0        0   \n",
       "100     0         1     1     0         1        0         0        0   \n",
       "\n",
       "     backbone  breathes  ...  legs_5  legs_6  legs_8  type_1  type_2  type_3  \\\n",
       "0           1         1  ...       0       0       0       1       0       0   \n",
       "1           1         1  ...       0       0       0       1       0       0   \n",
       "2           1         0  ...       0       0       0       0       0       0   \n",
       "3           1         1  ...       0       0       0       1       0       0   \n",
       "4           1         1  ...       0       0       0       1       0       0   \n",
       "..        ...       ...  ...     ...     ...     ...     ...     ...     ...   \n",
       "96          1         1  ...       0       0       0       1       0       0   \n",
       "97          0         1  ...       0       1       0       0       0       0   \n",
       "98          1         1  ...       0       0       0       1       0       0   \n",
       "99          0         1  ...       0       0       0       0       0       0   \n",
       "100         1         1  ...       0       0       0       0       1       0   \n",
       "\n",
       "     type_4  type_5  type_6  type_7  \n",
       "0         0       0       0       0  \n",
       "1         0       0       0       0  \n",
       "2         1       0       0       0  \n",
       "3         0       0       0       0  \n",
       "4         0       0       0       0  \n",
       "..      ...     ...     ...     ...  \n",
       "96        0       0       0       0  \n",
       "97        0       0       1       0  \n",
       "98        0       0       0       0  \n",
       "99        0       0       0       1  \n",
       "100       0       0       0       0  \n",
       "\n",
       "[101 rows x 28 columns]"
      ],
      "text/html": "<div>\n<style scoped>\n    .dataframe tbody tr th:only-of-type {\n        vertical-align: middle;\n    }\n\n    .dataframe tbody tr th {\n        vertical-align: top;\n    }\n\n    .dataframe thead th {\n        text-align: right;\n    }\n</style>\n<table border=\"1\" class=\"dataframe\">\n  <thead>\n    <tr style=\"text-align: right;\">\n      <th></th>\n      <th>hair</th>\n      <th>feathers</th>\n      <th>eggs</th>\n      <th>milk</th>\n      <th>airborne</th>\n      <th>aquatic</th>\n      <th>predator</th>\n      <th>toothed</th>\n      <th>backbone</th>\n      <th>breathes</th>\n      <th>...</th>\n      <th>legs_5</th>\n      <th>legs_6</th>\n      <th>legs_8</th>\n      <th>type_1</th>\n      <th>type_2</th>\n      <th>type_3</th>\n      <th>type_4</th>\n      <th>type_5</th>\n      <th>type_6</th>\n      <th>type_7</th>\n    </tr>\n  </thead>\n  <tbody>\n    <tr>\n      <th>0</th>\n      <td>1</td>\n      <td>0</td>\n      <td>0</td>\n      <td>1</td>\n      <td>0</td>\n      <td>0</td>\n      <td>1</td>\n      <td>1</td>\n      <td>1</td>\n      <td>1</td>\n      <td>...</td>\n      <td>0</td>\n      <td>0</td>\n      <td>0</td>\n      <td>1</td>\n      <td>0</td>\n      <td>0</td>\n      <td>0</td>\n      <td>0</td>\n      <td>0</td>\n      <td>0</td>\n    </tr>\n    <tr>\n      <th>1</th>\n      <td>1</td>\n      <td>0</td>\n      <td>0</td>\n      <td>1</td>\n      <td>0</td>\n      <td>0</td>\n      <td>0</td>\n      <td>1</td>\n      <td>1</td>\n      <td>1</td>\n      <td>...</td>\n      <td>0</td>\n      <td>0</td>\n      <td>0</td>\n      <td>1</td>\n      <td>0</td>\n      <td>0</td>\n      <td>0</td>\n      <td>0</td>\n      <td>0</td>\n      <td>0</td>\n    </tr>\n    <tr>\n      <th>2</th>\n      <td>0</td>\n      <td>0</td>\n      <td>1</td>\n      <td>0</td>\n      <td>0</td>\n      <td>1</td>\n      <td>1</td>\n      <td>1</td>\n      <td>1</td>\n      <td>0</td>\n      <td>...</td>\n      <td>0</td>\n      <td>0</td>\n      <td>0</td>\n      <td>0</td>\n      <td>0</td>\n      <td>0</td>\n      <td>1</td>\n      <td>0</td>\n      <td>0</td>\n      <td>0</td>\n    </tr>\n    <tr>\n      <th>3</th>\n      <td>1</td>\n      <td>0</td>\n      <td>0</td>\n      <td>1</td>\n      <td>0</td>\n      <td>0</td>\n      <td>1</td>\n      <td>1</td>\n      <td>1</td>\n      <td>1</td>\n      <td>...</td>\n      <td>0</td>\n      <td>0</td>\n      <td>0</td>\n      <td>1</td>\n      <td>0</td>\n      <td>0</td>\n      <td>0</td>\n      <td>0</td>\n      <td>0</td>\n      <td>0</td>\n    </tr>\n    <tr>\n      <th>4</th>\n      <td>1</td>\n      <td>0</td>\n      <td>0</td>\n      <td>1</td>\n      <td>0</td>\n      <td>0</td>\n      <td>1</td>\n      <td>1</td>\n      <td>1</td>\n      <td>1</td>\n      <td>...</td>\n      <td>0</td>\n      <td>0</td>\n      <td>0</td>\n      <td>1</td>\n      <td>0</td>\n      <td>0</td>\n      <td>0</td>\n      <td>0</td>\n      <td>0</td>\n      <td>0</td>\n    </tr>\n    <tr>\n      <th>...</th>\n      <td>...</td>\n      <td>...</td>\n      <td>...</td>\n      <td>...</td>\n      <td>...</td>\n      <td>...</td>\n      <td>...</td>\n      <td>...</td>\n      <td>...</td>\n      <td>...</td>\n      <td>...</td>\n      <td>...</td>\n      <td>...</td>\n      <td>...</td>\n      <td>...</td>\n      <td>...</td>\n      <td>...</td>\n      <td>...</td>\n      <td>...</td>\n      <td>...</td>\n      <td>...</td>\n    </tr>\n    <tr>\n      <th>96</th>\n      <td>1</td>\n      <td>0</td>\n      <td>0</td>\n      <td>1</td>\n      <td>0</td>\n      <td>0</td>\n      <td>0</td>\n      <td>1</td>\n      <td>1</td>\n      <td>1</td>\n      <td>...</td>\n      <td>0</td>\n      <td>0</td>\n      <td>0</td>\n      <td>1</td>\n      <td>0</td>\n      <td>0</td>\n      <td>0</td>\n      <td>0</td>\n      <td>0</td>\n      <td>0</td>\n    </tr>\n    <tr>\n      <th>97</th>\n      <td>1</td>\n      <td>0</td>\n      <td>1</td>\n      <td>0</td>\n      <td>1</td>\n      <td>0</td>\n      <td>0</td>\n      <td>0</td>\n      <td>0</td>\n      <td>1</td>\n      <td>...</td>\n      <td>0</td>\n      <td>1</td>\n      <td>0</td>\n      <td>0</td>\n      <td>0</td>\n      <td>0</td>\n      <td>0</td>\n      <td>0</td>\n      <td>1</td>\n      <td>0</td>\n    </tr>\n    <tr>\n      <th>98</th>\n      <td>1</td>\n      <td>0</td>\n      <td>0</td>\n      <td>1</td>\n      <td>0</td>\n      <td>0</td>\n      <td>1</td>\n      <td>1</td>\n      <td>1</td>\n      <td>1</td>\n      <td>...</td>\n      <td>0</td>\n      <td>0</td>\n      <td>0</td>\n      <td>1</td>\n      <td>0</td>\n      <td>0</td>\n      <td>0</td>\n      <td>0</td>\n      <td>0</td>\n      <td>0</td>\n    </tr>\n    <tr>\n      <th>99</th>\n      <td>0</td>\n      <td>0</td>\n      <td>1</td>\n      <td>0</td>\n      <td>0</td>\n      <td>0</td>\n      <td>0</td>\n      <td>0</td>\n      <td>0</td>\n      <td>1</td>\n      <td>...</td>\n      <td>0</td>\n      <td>0</td>\n      <td>0</td>\n      <td>0</td>\n      <td>0</td>\n      <td>0</td>\n      <td>0</td>\n      <td>0</td>\n      <td>0</td>\n      <td>1</td>\n    </tr>\n    <tr>\n      <th>100</th>\n      <td>0</td>\n      <td>1</td>\n      <td>1</td>\n      <td>0</td>\n      <td>1</td>\n      <td>0</td>\n      <td>0</td>\n      <td>0</td>\n      <td>1</td>\n      <td>1</td>\n      <td>...</td>\n      <td>0</td>\n      <td>0</td>\n      <td>0</td>\n      <td>0</td>\n      <td>1</td>\n      <td>0</td>\n      <td>0</td>\n      <td>0</td>\n      <td>0</td>\n      <td>0</td>\n    </tr>\n  </tbody>\n</table>\n<p>101 rows × 28 columns</p>\n</div>"
     },
     "metadata": {},
     "execution_count": 21
    }
   ],
   "source": [
    "# All the atrributes will be transformed using one hot encoding\n",
    "\n",
    "#dropping first column - name\n",
    "df=df.drop(['animal_name'],axis=1)\n",
    "#one hot encoding column legs\n",
    "df = pd.concat([df,pd.get_dummies(df['legs'], prefix='legs')],axis=1)\n",
    "df.drop(['legs'],axis=1, inplace=True)\n",
    "#replacing class type and one hot encoding it\n",
    "df = pd.concat([df,pd.get_dummies(df['type'], prefix='type')],axis=1)\n",
    "df.drop(['type'],axis=1, inplace=True)\n",
    "df\n"
   ]
  },
  {
   "cell_type": "markdown",
   "metadata": {},
   "source": [
    "### Q2. Apply apriori on zoo dataset"
   ]
  },
  {
   "cell_type": "code",
   "execution_count": 5,
   "metadata": {},
   "outputs": [
    {
     "output_type": "execute_result",
     "data": {
      "text/plain": [
       "     support                    itemsets\n",
       "0   0.584158                      (eggs)\n",
       "1   0.554455                  (predator)\n",
       "2   0.603960                   (toothed)\n",
       "3   0.821782                  (backbone)\n",
       "4   0.792079                  (breathes)\n",
       "5   0.742574                      (tail)\n",
       "6   0.603960         (backbone, toothed)\n",
       "7   0.514851             (tail, toothed)\n",
       "8   0.683168        (backbone, breathes)\n",
       "9   0.732673            (backbone, tail)\n",
       "10  0.603960            (tail, breathes)\n",
       "11  0.514851   (backbone, tail, toothed)\n",
       "12  0.594059  (backbone, tail, breathes)"
      ],
      "text/html": "<div>\n<style scoped>\n    .dataframe tbody tr th:only-of-type {\n        vertical-align: middle;\n    }\n\n    .dataframe tbody tr th {\n        vertical-align: top;\n    }\n\n    .dataframe thead th {\n        text-align: right;\n    }\n</style>\n<table border=\"1\" class=\"dataframe\">\n  <thead>\n    <tr style=\"text-align: right;\">\n      <th></th>\n      <th>support</th>\n      <th>itemsets</th>\n    </tr>\n  </thead>\n  <tbody>\n    <tr>\n      <th>0</th>\n      <td>0.584158</td>\n      <td>(eggs)</td>\n    </tr>\n    <tr>\n      <th>1</th>\n      <td>0.554455</td>\n      <td>(predator)</td>\n    </tr>\n    <tr>\n      <th>2</th>\n      <td>0.603960</td>\n      <td>(toothed)</td>\n    </tr>\n    <tr>\n      <th>3</th>\n      <td>0.821782</td>\n      <td>(backbone)</td>\n    </tr>\n    <tr>\n      <th>4</th>\n      <td>0.792079</td>\n      <td>(breathes)</td>\n    </tr>\n    <tr>\n      <th>5</th>\n      <td>0.742574</td>\n      <td>(tail)</td>\n    </tr>\n    <tr>\n      <th>6</th>\n      <td>0.603960</td>\n      <td>(backbone, toothed)</td>\n    </tr>\n    <tr>\n      <th>7</th>\n      <td>0.514851</td>\n      <td>(tail, toothed)</td>\n    </tr>\n    <tr>\n      <th>8</th>\n      <td>0.683168</td>\n      <td>(backbone, breathes)</td>\n    </tr>\n    <tr>\n      <th>9</th>\n      <td>0.732673</td>\n      <td>(backbone, tail)</td>\n    </tr>\n    <tr>\n      <th>10</th>\n      <td>0.603960</td>\n      <td>(tail, breathes)</td>\n    </tr>\n    <tr>\n      <th>11</th>\n      <td>0.514851</td>\n      <td>(backbone, tail, toothed)</td>\n    </tr>\n    <tr>\n      <th>12</th>\n      <td>0.594059</td>\n      <td>(backbone, tail, breathes)</td>\n    </tr>\n  </tbody>\n</table>\n</div>"
     },
     "metadata": {},
     "execution_count": 5
    }
   ],
   "source": [
    "#apriori with min support 0.5 \n",
    "ap = apriori(df, min_support=0.5,use_colnames=True)\n",
    "ap"
   ]
  },
  {
   "cell_type": "markdown",
   "metadata": {},
   "source": [
    "### Q3.Find association rules generated by apriori"
   ]
  },
  {
   "cell_type": "code",
   "execution_count": 25,
   "metadata": {},
   "outputs": [
    {
     "output_type": "execute_result",
     "data": {
      "text/plain": [
       "       antecedents consequents  antecedent support  consequent support  \\\n",
       "0        (toothed)  (backbone)            0.603960            0.821782   \n",
       "1  (tail, toothed)  (backbone)            0.514851            0.821782   \n",
       "\n",
       "    support  confidence      lift  leverage  conviction  \n",
       "0  0.603960         1.0  1.216867  0.107637         inf  \n",
       "1  0.514851         1.0  1.216867  0.091756         inf  "
      ],
      "text/html": "<div>\n<style scoped>\n    .dataframe tbody tr th:only-of-type {\n        vertical-align: middle;\n    }\n\n    .dataframe tbody tr th {\n        vertical-align: top;\n    }\n\n    .dataframe thead th {\n        text-align: right;\n    }\n</style>\n<table border=\"1\" class=\"dataframe\">\n  <thead>\n    <tr style=\"text-align: right;\">\n      <th></th>\n      <th>antecedents</th>\n      <th>consequents</th>\n      <th>antecedent support</th>\n      <th>consequent support</th>\n      <th>support</th>\n      <th>confidence</th>\n      <th>lift</th>\n      <th>leverage</th>\n      <th>conviction</th>\n    </tr>\n  </thead>\n  <tbody>\n    <tr>\n      <th>0</th>\n      <td>(toothed)</td>\n      <td>(backbone)</td>\n      <td>0.603960</td>\n      <td>0.821782</td>\n      <td>0.603960</td>\n      <td>1.0</td>\n      <td>1.216867</td>\n      <td>0.107637</td>\n      <td>inf</td>\n    </tr>\n    <tr>\n      <th>1</th>\n      <td>(tail, toothed)</td>\n      <td>(backbone)</td>\n      <td>0.514851</td>\n      <td>0.821782</td>\n      <td>0.514851</td>\n      <td>1.0</td>\n      <td>1.216867</td>\n      <td>0.091756</td>\n      <td>inf</td>\n    </tr>\n  </tbody>\n</table>\n</div>"
     },
     "metadata": {},
     "execution_count": 25
    }
   ],
   "source": [
    "# use mlxtend library\n",
    "ar=association_rules(ap,metric='confidence',support_only=False,min_threshold=1)\n",
    "ar"
   ]
  },
  {
   "cell_type": "markdown",
   "metadata": {
    "collapsed": true
   },
   "source": [
    "# FP-Tree"
   ]
  },
  {
   "cell_type": "markdown",
   "metadata": {},
   "source": [
    "FP-growth is an improved version of the Apriori Algorithm used for Association Rule Mining. It is an analytical process that finds frequent patterns from data sets. For example, grocery store transaction data might have a frequent pattern that people usually buy chips and beer together. The Apriori Algorithm produces frequent patterns by generating itemsets and discovering the most frequent itemset over a threshold “minimal support count”. It greatly reduces the size of the itemset in the database by one simple principle:\n",
    "If an itemset is frequent, then all of its subsets must also be frequent.\n",
    "\n",
    "Limitation of Apriori Algorithm is that it requires multiple scans of the database to check the support count of each item and itemsets. When the database is huge, this will cost a significant amount of disk I/O and computing power. \n",
    "\n",
    "On the other hand, the FP-Growth algorithm scans the database only twice and uses a tree structure to store all the information. The root represents null, each node represents an item, while the association of the nodes is the itemsets with the order maintained while forming the tree. The FP-tree is concise and is used to directly generate large itemsets. Once an FP-tree has been constructed, it uses a recursive divide-and-conquer approach to mine the frequent itemsets.\n"
   ]
  },
  {
   "cell_type": "markdown",
   "metadata": {},
   "source": [
    "### FP-tree Pseudocode and Explanation"
   ]
  },
  {
   "cell_type": "markdown",
   "metadata": {},
   "source": [
    "Step 1: Deduce the ordered frequent items. For items with the same frequency, the order is given by the alphabetical order.\n",
    "Step 2: Construct the FP-tree from the above data\n",
    "Step 3: From the FP-tree above, construct the FP-conditional tree for each item (or itemset).\n",
    "Step 4: Determine the frequent patterns."
   ]
  },
  {
   "cell_type": "markdown",
   "metadata": {},
   "source": [
    "<img src=\"images/img1.png\"> <img src=\"images/2.gif\">\n",
    "<img src=\"images/3.gif\">"
   ]
  },
  {
   "cell_type": "code",
   "execution_count": 15,
   "metadata": {},
   "outputs": [
    {
     "output_type": "execute_result",
     "data": {
      "text/plain": [
       "   cardid    value pmethod sex homeown  income  age fruitveg freshmeat dairy  \\\n",
       "0   39808  42.7123  CHEQUE   M      NO   27000   46        F         T     T   \n",
       "1   67362  25.3567    CASH   F      NO   30000   28        F         T     F   \n",
       "2   10872  20.6176    CASH   M      NO   13200   36        F         F     F   \n",
       "3   26748  23.6883    CARD   F      NO   12200   26        F         F     T   \n",
       "4   91609  18.8133    CARD   M     YES   11000   24        F         F     F   \n",
       "\n",
       "  cannedveg cannedmeat frozenmeal beer wine softdrink fish confectionery  \n",
       "0         F          F          F    F    F         F    F             T  \n",
       "1         F          F          F    F    F         F    F             T  \n",
       "2         T          F          T    T    F         F    T             F  \n",
       "3         F          F          F    F    T         F    F             F  \n",
       "4         F          F          F    F    F         F    F             F  "
      ],
      "text/html": "<div>\n<style scoped>\n    .dataframe tbody tr th:only-of-type {\n        vertical-align: middle;\n    }\n\n    .dataframe tbody tr th {\n        vertical-align: top;\n    }\n\n    .dataframe thead th {\n        text-align: right;\n    }\n</style>\n<table border=\"1\" class=\"dataframe\">\n  <thead>\n    <tr style=\"text-align: right;\">\n      <th></th>\n      <th>cardid</th>\n      <th>value</th>\n      <th>pmethod</th>\n      <th>sex</th>\n      <th>homeown</th>\n      <th>income</th>\n      <th>age</th>\n      <th>fruitveg</th>\n      <th>freshmeat</th>\n      <th>dairy</th>\n      <th>cannedveg</th>\n      <th>cannedmeat</th>\n      <th>frozenmeal</th>\n      <th>beer</th>\n      <th>wine</th>\n      <th>softdrink</th>\n      <th>fish</th>\n      <th>confectionery</th>\n    </tr>\n  </thead>\n  <tbody>\n    <tr>\n      <th>0</th>\n      <td>39808</td>\n      <td>42.7123</td>\n      <td>CHEQUE</td>\n      <td>M</td>\n      <td>NO</td>\n      <td>27000</td>\n      <td>46</td>\n      <td>F</td>\n      <td>T</td>\n      <td>T</td>\n      <td>F</td>\n      <td>F</td>\n      <td>F</td>\n      <td>F</td>\n      <td>F</td>\n      <td>F</td>\n      <td>F</td>\n      <td>T</td>\n    </tr>\n    <tr>\n      <th>1</th>\n      <td>67362</td>\n      <td>25.3567</td>\n      <td>CASH</td>\n      <td>F</td>\n      <td>NO</td>\n      <td>30000</td>\n      <td>28</td>\n      <td>F</td>\n      <td>T</td>\n      <td>F</td>\n      <td>F</td>\n      <td>F</td>\n      <td>F</td>\n      <td>F</td>\n      <td>F</td>\n      <td>F</td>\n      <td>F</td>\n      <td>T</td>\n    </tr>\n    <tr>\n      <th>2</th>\n      <td>10872</td>\n      <td>20.6176</td>\n      <td>CASH</td>\n      <td>M</td>\n      <td>NO</td>\n      <td>13200</td>\n      <td>36</td>\n      <td>F</td>\n      <td>F</td>\n      <td>F</td>\n      <td>T</td>\n      <td>F</td>\n      <td>T</td>\n      <td>T</td>\n      <td>F</td>\n      <td>F</td>\n      <td>T</td>\n      <td>F</td>\n    </tr>\n    <tr>\n      <th>3</th>\n      <td>26748</td>\n      <td>23.6883</td>\n      <td>CARD</td>\n      <td>F</td>\n      <td>NO</td>\n      <td>12200</td>\n      <td>26</td>\n      <td>F</td>\n      <td>F</td>\n      <td>T</td>\n      <td>F</td>\n      <td>F</td>\n      <td>F</td>\n      <td>F</td>\n      <td>T</td>\n      <td>F</td>\n      <td>F</td>\n      <td>F</td>\n    </tr>\n    <tr>\n      <th>4</th>\n      <td>91609</td>\n      <td>18.8133</td>\n      <td>CARD</td>\n      <td>M</td>\n      <td>YES</td>\n      <td>11000</td>\n      <td>24</td>\n      <td>F</td>\n      <td>F</td>\n      <td>F</td>\n      <td>F</td>\n      <td>F</td>\n      <td>F</td>\n      <td>F</td>\n      <td>F</td>\n      <td>F</td>\n      <td>F</td>\n      <td>F</td>\n    </tr>\n  </tbody>\n</table>\n</div>"
     },
     "metadata": {},
     "execution_count": 15
    }
   ],
   "source": [
    "# Load basket dataset and display first five rows.\n",
    "df_b = pd.read_csv(\"Basket Dataset/BASKETS1n\")\n",
    "df_b.head()"
   ]
  },
  {
   "cell_type": "markdown",
   "metadata": {},
   "source": [
    "### Perform pre-processing (if required)"
   ]
  },
  {
   "cell_type": "code",
   "execution_count": 16,
   "metadata": {},
   "outputs": [
    {
     "output_type": "execute_result",
     "data": {
      "text/plain": [
       "     fruitveg  freshmeat  dairy  cannedveg  cannedmeat  frozenmeal   beer  \\\n",
       "0       False       True   True      False       False       False  False   \n",
       "1       False       True  False      False       False       False  False   \n",
       "2       False      False  False       True       False        True   True   \n",
       "3       False      False   True      False       False       False  False   \n",
       "4       False      False  False      False       False       False  False   \n",
       "..        ...        ...    ...        ...         ...         ...    ...   \n",
       "995     False      False  False       True       False       False  False   \n",
       "996     False      False  False       True       False       False  False   \n",
       "997     False       True  False      False       False       False  False   \n",
       "998      True      False  False      False       False       False  False   \n",
       "999     False      False   True      False       False       False  False   \n",
       "\n",
       "      wine  softdrink   fish  confectionery  \n",
       "0    False      False  False           True  \n",
       "1    False      False  False           True  \n",
       "2    False      False   True          False  \n",
       "3     True      False  False          False  \n",
       "4    False      False  False          False  \n",
       "..     ...        ...    ...            ...  \n",
       "995  False      False  False          False  \n",
       "996  False      False   True          False  \n",
       "997  False      False  False          False  \n",
       "998   True      False  False           True  \n",
       "999  False       True  False           True  \n",
       "\n",
       "[1000 rows x 11 columns]"
      ],
      "text/html": "<div>\n<style scoped>\n    .dataframe tbody tr th:only-of-type {\n        vertical-align: middle;\n    }\n\n    .dataframe tbody tr th {\n        vertical-align: top;\n    }\n\n    .dataframe thead th {\n        text-align: right;\n    }\n</style>\n<table border=\"1\" class=\"dataframe\">\n  <thead>\n    <tr style=\"text-align: right;\">\n      <th></th>\n      <th>fruitveg</th>\n      <th>freshmeat</th>\n      <th>dairy</th>\n      <th>cannedveg</th>\n      <th>cannedmeat</th>\n      <th>frozenmeal</th>\n      <th>beer</th>\n      <th>wine</th>\n      <th>softdrink</th>\n      <th>fish</th>\n      <th>confectionery</th>\n    </tr>\n  </thead>\n  <tbody>\n    <tr>\n      <th>0</th>\n      <td>False</td>\n      <td>True</td>\n      <td>True</td>\n      <td>False</td>\n      <td>False</td>\n      <td>False</td>\n      <td>False</td>\n      <td>False</td>\n      <td>False</td>\n      <td>False</td>\n      <td>True</td>\n    </tr>\n    <tr>\n      <th>1</th>\n      <td>False</td>\n      <td>True</td>\n      <td>False</td>\n      <td>False</td>\n      <td>False</td>\n      <td>False</td>\n      <td>False</td>\n      <td>False</td>\n      <td>False</td>\n      <td>False</td>\n      <td>True</td>\n    </tr>\n    <tr>\n      <th>2</th>\n      <td>False</td>\n      <td>False</td>\n      <td>False</td>\n      <td>True</td>\n      <td>False</td>\n      <td>True</td>\n      <td>True</td>\n      <td>False</td>\n      <td>False</td>\n      <td>True</td>\n      <td>False</td>\n    </tr>\n    <tr>\n      <th>3</th>\n      <td>False</td>\n      <td>False</td>\n      <td>True</td>\n      <td>False</td>\n      <td>False</td>\n      <td>False</td>\n      <td>False</td>\n      <td>True</td>\n      <td>False</td>\n      <td>False</td>\n      <td>False</td>\n    </tr>\n    <tr>\n      <th>4</th>\n      <td>False</td>\n      <td>False</td>\n      <td>False</td>\n      <td>False</td>\n      <td>False</td>\n      <td>False</td>\n      <td>False</td>\n      <td>False</td>\n      <td>False</td>\n      <td>False</td>\n      <td>False</td>\n    </tr>\n    <tr>\n      <th>...</th>\n      <td>...</td>\n      <td>...</td>\n      <td>...</td>\n      <td>...</td>\n      <td>...</td>\n      <td>...</td>\n      <td>...</td>\n      <td>...</td>\n      <td>...</td>\n      <td>...</td>\n      <td>...</td>\n    </tr>\n    <tr>\n      <th>995</th>\n      <td>False</td>\n      <td>False</td>\n      <td>False</td>\n      <td>True</td>\n      <td>False</td>\n      <td>False</td>\n      <td>False</td>\n      <td>False</td>\n      <td>False</td>\n      <td>False</td>\n      <td>False</td>\n    </tr>\n    <tr>\n      <th>996</th>\n      <td>False</td>\n      <td>False</td>\n      <td>False</td>\n      <td>True</td>\n      <td>False</td>\n      <td>False</td>\n      <td>False</td>\n      <td>False</td>\n      <td>False</td>\n      <td>True</td>\n      <td>False</td>\n    </tr>\n    <tr>\n      <th>997</th>\n      <td>False</td>\n      <td>True</td>\n      <td>False</td>\n      <td>False</td>\n      <td>False</td>\n      <td>False</td>\n      <td>False</td>\n      <td>False</td>\n      <td>False</td>\n      <td>False</td>\n      <td>False</td>\n    </tr>\n    <tr>\n      <th>998</th>\n      <td>True</td>\n      <td>False</td>\n      <td>False</td>\n      <td>False</td>\n      <td>False</td>\n      <td>False</td>\n      <td>False</td>\n      <td>True</td>\n      <td>False</td>\n      <td>False</td>\n      <td>True</td>\n    </tr>\n    <tr>\n      <th>999</th>\n      <td>False</td>\n      <td>False</td>\n      <td>True</td>\n      <td>False</td>\n      <td>False</td>\n      <td>False</td>\n      <td>False</td>\n      <td>False</td>\n      <td>True</td>\n      <td>False</td>\n      <td>True</td>\n    </tr>\n  </tbody>\n</table>\n<p>1000 rows × 11 columns</p>\n</div>"
     },
     "metadata": {},
     "execution_count": 16
    }
   ],
   "source": [
    "#selecting only products columns and replacing boolean values\n",
    "df_prod = df_b[['fruitveg','freshmeat','dairy','cannedveg','cannedmeat','frozenmeal','beer','wine','softdrink','fish','confectionery']].copy()\n",
    "df_prod=(df_prod=='T').astype(bool)\n",
    "df_prod"
   ]
  },
  {
   "cell_type": "markdown",
   "metadata": {},
   "source": [
    "### Q4. Apply fpgrowth using mlxtend"
   ]
  },
  {
   "cell_type": "code",
   "execution_count": 17,
   "metadata": {},
   "outputs": [
    {
     "output_type": "execute_result",
     "data": {
      "text/plain": [
       "    support                       itemsets\n",
       "0     0.276                (confectionery)\n",
       "1     0.183                    (freshmeat)\n",
       "2     0.177                        (dairy)\n",
       "3     0.303                    (cannedveg)\n",
       "4     0.302                   (frozenmeal)\n",
       "5     0.293                         (beer)\n",
       "6     0.292                         (fish)\n",
       "7     0.287                         (wine)\n",
       "8     0.299                     (fruitveg)\n",
       "9     0.184                    (softdrink)\n",
       "10    0.204                   (cannedmeat)\n",
       "11    0.144          (wine, confectionery)\n",
       "12    0.173        (frozenmeal, cannedveg)\n",
       "13    0.170             (frozenmeal, beer)\n",
       "14    0.167              (beer, cannedveg)\n",
       "15    0.146  (frozenmeal, cannedveg, beer)\n",
       "16    0.145               (fruitveg, fish)"
      ],
      "text/html": "<div>\n<style scoped>\n    .dataframe tbody tr th:only-of-type {\n        vertical-align: middle;\n    }\n\n    .dataframe tbody tr th {\n        vertical-align: top;\n    }\n\n    .dataframe thead th {\n        text-align: right;\n    }\n</style>\n<table border=\"1\" class=\"dataframe\">\n  <thead>\n    <tr style=\"text-align: right;\">\n      <th></th>\n      <th>support</th>\n      <th>itemsets</th>\n    </tr>\n  </thead>\n  <tbody>\n    <tr>\n      <th>0</th>\n      <td>0.276</td>\n      <td>(confectionery)</td>\n    </tr>\n    <tr>\n      <th>1</th>\n      <td>0.183</td>\n      <td>(freshmeat)</td>\n    </tr>\n    <tr>\n      <th>2</th>\n      <td>0.177</td>\n      <td>(dairy)</td>\n    </tr>\n    <tr>\n      <th>3</th>\n      <td>0.303</td>\n      <td>(cannedveg)</td>\n    </tr>\n    <tr>\n      <th>4</th>\n      <td>0.302</td>\n      <td>(frozenmeal)</td>\n    </tr>\n    <tr>\n      <th>5</th>\n      <td>0.293</td>\n      <td>(beer)</td>\n    </tr>\n    <tr>\n      <th>6</th>\n      <td>0.292</td>\n      <td>(fish)</td>\n    </tr>\n    <tr>\n      <th>7</th>\n      <td>0.287</td>\n      <td>(wine)</td>\n    </tr>\n    <tr>\n      <th>8</th>\n      <td>0.299</td>\n      <td>(fruitveg)</td>\n    </tr>\n    <tr>\n      <th>9</th>\n      <td>0.184</td>\n      <td>(softdrink)</td>\n    </tr>\n    <tr>\n      <th>10</th>\n      <td>0.204</td>\n      <td>(cannedmeat)</td>\n    </tr>\n    <tr>\n      <th>11</th>\n      <td>0.144</td>\n      <td>(wine, confectionery)</td>\n    </tr>\n    <tr>\n      <th>12</th>\n      <td>0.173</td>\n      <td>(frozenmeal, cannedveg)</td>\n    </tr>\n    <tr>\n      <th>13</th>\n      <td>0.170</td>\n      <td>(frozenmeal, beer)</td>\n    </tr>\n    <tr>\n      <th>14</th>\n      <td>0.167</td>\n      <td>(beer, cannedveg)</td>\n    </tr>\n    <tr>\n      <th>15</th>\n      <td>0.146</td>\n      <td>(frozenmeal, cannedveg, beer)</td>\n    </tr>\n    <tr>\n      <th>16</th>\n      <td>0.145</td>\n      <td>(fruitveg, fish)</td>\n    </tr>\n  </tbody>\n</table>\n</div>"
     },
     "metadata": {},
     "execution_count": 17
    }
   ],
   "source": [
    "#fpgrowth with min support 0.1\n",
    "fp=fpgrowth(df_prod, min_support=0.1,use_colnames=True)\n",
    "fp"
   ]
  },
  {
   "cell_type": "markdown",
   "metadata": {},
   "source": [
    "### Q5. Find the frequent association rules"
   ]
  },
  {
   "cell_type": "code",
   "execution_count": 18,
   "metadata": {},
   "outputs": [
    {
     "output_type": "execute_result",
     "data": {
      "text/plain": [
       "                antecedents              consequents  antecedent support  \\\n",
       "0                    (wine)          (confectionery)               0.287   \n",
       "1           (confectionery)                   (wine)               0.276   \n",
       "2              (frozenmeal)              (cannedveg)               0.302   \n",
       "3               (cannedveg)             (frozenmeal)               0.303   \n",
       "4              (frozenmeal)                   (beer)               0.302   \n",
       "5                    (beer)             (frozenmeal)               0.293   \n",
       "6                    (beer)              (cannedveg)               0.293   \n",
       "7               (cannedveg)                   (beer)               0.303   \n",
       "8   (frozenmeal, cannedveg)                   (beer)               0.173   \n",
       "9        (frozenmeal, beer)              (cannedveg)               0.170   \n",
       "10        (beer, cannedveg)             (frozenmeal)               0.167   \n",
       "11             (frozenmeal)        (beer, cannedveg)               0.302   \n",
       "12              (cannedveg)       (frozenmeal, beer)               0.303   \n",
       "13                   (beer)  (frozenmeal, cannedveg)               0.293   \n",
       "14               (fruitveg)                   (fish)               0.299   \n",
       "15                   (fish)               (fruitveg)               0.292   \n",
       "\n",
       "    consequent support  support  confidence      lift  leverage  conviction  \n",
       "0                0.276    0.144    0.501742  1.817906  0.064788    1.453063  \n",
       "1                0.287    0.144    0.521739  1.817906  0.064788    1.490818  \n",
       "2                0.303    0.173    0.572848  1.890586  0.081494    1.631736  \n",
       "3                0.302    0.173    0.570957  1.890586  0.081494    1.626877  \n",
       "4                0.293    0.170    0.562914  1.921208  0.081514    1.617530  \n",
       "5                0.302    0.170    0.580205  1.921208  0.081514    1.662715  \n",
       "6                0.303    0.167    0.569966  1.881075  0.078221    1.620802  \n",
       "7                0.293    0.167    0.551155  1.881075  0.078221    1.575154  \n",
       "8                0.293    0.146    0.843931  2.880309  0.095311    4.530037  \n",
       "9                0.303    0.146    0.858824  2.834401  0.094490    4.937083  \n",
       "10               0.302    0.146    0.874251  2.894873  0.095566    5.550762  \n",
       "11               0.167    0.146    0.483444  2.894873  0.095566    1.612603  \n",
       "12               0.170    0.146    0.481848  2.834401  0.094490    1.601847  \n",
       "13               0.173    0.146    0.498294  2.880309  0.095311    1.648374  \n",
       "14               0.292    0.145    0.484950  1.660787  0.057692    1.374623  \n",
       "15               0.299    0.145    0.496575  1.660787  0.057692    1.392463  "
      ],
      "text/html": "<div>\n<style scoped>\n    .dataframe tbody tr th:only-of-type {\n        vertical-align: middle;\n    }\n\n    .dataframe tbody tr th {\n        vertical-align: top;\n    }\n\n    .dataframe thead th {\n        text-align: right;\n    }\n</style>\n<table border=\"1\" class=\"dataframe\">\n  <thead>\n    <tr style=\"text-align: right;\">\n      <th></th>\n      <th>antecedents</th>\n      <th>consequents</th>\n      <th>antecedent support</th>\n      <th>consequent support</th>\n      <th>support</th>\n      <th>confidence</th>\n      <th>lift</th>\n      <th>leverage</th>\n      <th>conviction</th>\n    </tr>\n  </thead>\n  <tbody>\n    <tr>\n      <th>0</th>\n      <td>(wine)</td>\n      <td>(confectionery)</td>\n      <td>0.287</td>\n      <td>0.276</td>\n      <td>0.144</td>\n      <td>0.501742</td>\n      <td>1.817906</td>\n      <td>0.064788</td>\n      <td>1.453063</td>\n    </tr>\n    <tr>\n      <th>1</th>\n      <td>(confectionery)</td>\n      <td>(wine)</td>\n      <td>0.276</td>\n      <td>0.287</td>\n      <td>0.144</td>\n      <td>0.521739</td>\n      <td>1.817906</td>\n      <td>0.064788</td>\n      <td>1.490818</td>\n    </tr>\n    <tr>\n      <th>2</th>\n      <td>(frozenmeal)</td>\n      <td>(cannedveg)</td>\n      <td>0.302</td>\n      <td>0.303</td>\n      <td>0.173</td>\n      <td>0.572848</td>\n      <td>1.890586</td>\n      <td>0.081494</td>\n      <td>1.631736</td>\n    </tr>\n    <tr>\n      <th>3</th>\n      <td>(cannedveg)</td>\n      <td>(frozenmeal)</td>\n      <td>0.303</td>\n      <td>0.302</td>\n      <td>0.173</td>\n      <td>0.570957</td>\n      <td>1.890586</td>\n      <td>0.081494</td>\n      <td>1.626877</td>\n    </tr>\n    <tr>\n      <th>4</th>\n      <td>(frozenmeal)</td>\n      <td>(beer)</td>\n      <td>0.302</td>\n      <td>0.293</td>\n      <td>0.170</td>\n      <td>0.562914</td>\n      <td>1.921208</td>\n      <td>0.081514</td>\n      <td>1.617530</td>\n    </tr>\n    <tr>\n      <th>5</th>\n      <td>(beer)</td>\n      <td>(frozenmeal)</td>\n      <td>0.293</td>\n      <td>0.302</td>\n      <td>0.170</td>\n      <td>0.580205</td>\n      <td>1.921208</td>\n      <td>0.081514</td>\n      <td>1.662715</td>\n    </tr>\n    <tr>\n      <th>6</th>\n      <td>(beer)</td>\n      <td>(cannedveg)</td>\n      <td>0.293</td>\n      <td>0.303</td>\n      <td>0.167</td>\n      <td>0.569966</td>\n      <td>1.881075</td>\n      <td>0.078221</td>\n      <td>1.620802</td>\n    </tr>\n    <tr>\n      <th>7</th>\n      <td>(cannedveg)</td>\n      <td>(beer)</td>\n      <td>0.303</td>\n      <td>0.293</td>\n      <td>0.167</td>\n      <td>0.551155</td>\n      <td>1.881075</td>\n      <td>0.078221</td>\n      <td>1.575154</td>\n    </tr>\n    <tr>\n      <th>8</th>\n      <td>(frozenmeal, cannedveg)</td>\n      <td>(beer)</td>\n      <td>0.173</td>\n      <td>0.293</td>\n      <td>0.146</td>\n      <td>0.843931</td>\n      <td>2.880309</td>\n      <td>0.095311</td>\n      <td>4.530037</td>\n    </tr>\n    <tr>\n      <th>9</th>\n      <td>(frozenmeal, beer)</td>\n      <td>(cannedveg)</td>\n      <td>0.170</td>\n      <td>0.303</td>\n      <td>0.146</td>\n      <td>0.858824</td>\n      <td>2.834401</td>\n      <td>0.094490</td>\n      <td>4.937083</td>\n    </tr>\n    <tr>\n      <th>10</th>\n      <td>(beer, cannedveg)</td>\n      <td>(frozenmeal)</td>\n      <td>0.167</td>\n      <td>0.302</td>\n      <td>0.146</td>\n      <td>0.874251</td>\n      <td>2.894873</td>\n      <td>0.095566</td>\n      <td>5.550762</td>\n    </tr>\n    <tr>\n      <th>11</th>\n      <td>(frozenmeal)</td>\n      <td>(beer, cannedveg)</td>\n      <td>0.302</td>\n      <td>0.167</td>\n      <td>0.146</td>\n      <td>0.483444</td>\n      <td>2.894873</td>\n      <td>0.095566</td>\n      <td>1.612603</td>\n    </tr>\n    <tr>\n      <th>12</th>\n      <td>(cannedveg)</td>\n      <td>(frozenmeal, beer)</td>\n      <td>0.303</td>\n      <td>0.170</td>\n      <td>0.146</td>\n      <td>0.481848</td>\n      <td>2.834401</td>\n      <td>0.094490</td>\n      <td>1.601847</td>\n    </tr>\n    <tr>\n      <th>13</th>\n      <td>(beer)</td>\n      <td>(frozenmeal, cannedveg)</td>\n      <td>0.293</td>\n      <td>0.173</td>\n      <td>0.146</td>\n      <td>0.498294</td>\n      <td>2.880309</td>\n      <td>0.095311</td>\n      <td>1.648374</td>\n    </tr>\n    <tr>\n      <th>14</th>\n      <td>(fruitveg)</td>\n      <td>(fish)</td>\n      <td>0.299</td>\n      <td>0.292</td>\n      <td>0.145</td>\n      <td>0.484950</td>\n      <td>1.660787</td>\n      <td>0.057692</td>\n      <td>1.374623</td>\n    </tr>\n    <tr>\n      <th>15</th>\n      <td>(fish)</td>\n      <td>(fruitveg)</td>\n      <td>0.292</td>\n      <td>0.299</td>\n      <td>0.145</td>\n      <td>0.496575</td>\n      <td>1.660787</td>\n      <td>0.057692</td>\n      <td>1.392463</td>\n    </tr>\n  </tbody>\n</table>\n</div>"
     },
     "metadata": {},
     "execution_count": 18
    }
   ],
   "source": [
    "# associaion rules\n",
    "ar=association_rules(fp,metric='confidence',support_only=False,min_threshold=0.1)\n",
    "ar"
   ]
  },
  {
   "cell_type": "markdown",
   "metadata": {},
   "source": [
    "## Maximal and Closed Itemsets\n",
    "An itemset is maximal frequent if none of its immediate supersets is frequent. \n",
    "An itemset is closed if none of its immediate supersets has the same support as the itemset. "
   ]
  },
  {
   "cell_type": "markdown",
   "metadata": {},
   "source": [
    "<img src=\"images/4.png\">\n",
    "<img src=\"images/5.png\">"
   ]
  },
  {
   "cell_type": "markdown",
   "metadata": {},
   "source": [
    "### Q6. Find the maximal frequent itemsets"
   ]
  },
  {
   "cell_type": "code",
   "execution_count": 34,
   "metadata": {},
   "outputs": [
    {
     "output_type": "stream",
     "name": "stdout",
     "text": [
      "Maximal itemsets :  [(frozenset({'freshmeat'}), 0.183), (frozenset({'dairy'}), 0.177), (frozenset({'softdrink'}), 0.184), (frozenset({'cannedmeat'}), 0.204), (frozenset({'wine', 'confectionery'}), 0.144), (frozenset({'frozenmeal', 'cannedveg', 'beer'}), 0.146), (frozenset({'fruitveg', 'fish'}), 0.145)]\n"
     ]
    }
   ],
   "source": [
    "# use for loop \n",
    "su = fp.support.unique() #all unique support count\n",
    "\n",
    "#Dictionay storing itemset with same support count key\n",
    "fredic = {}\n",
    "for i in range(len(su)):\n",
    "    inset = list(fp.loc[fp.support ==su[i]]['itemsets'])\n",
    "    fredic[su[i]] = inset\n",
    "\n",
    "#Dictionay storing itemset with  support count <= key\n",
    "fredic2 = {}\n",
    "for i in range(len(su)):\n",
    "    inset2 = list(fp.loc[fp.support<=su[i]]['itemsets'])\n",
    "    fredic2[su[i]] = inset2\n",
    "\n",
    "ml=[]\n",
    "for index, row in fp.iterrows():\n",
    "    isclose = True\n",
    "    cli = row['itemsets']\n",
    "    cls = row['support']\n",
    "    checkset = fredic2[cls]\n",
    "    for i in checkset:\n",
    "        if (cli!=i):\n",
    "            if(frozenset.issubset(cli,i)):\n",
    "                isclose = False\n",
    "                break\n",
    "    \n",
    "    if(isclose):\n",
    "        ml.append((row['itemsets'],row['support']))\n",
    "\n",
    "print('Maximal itemsets : ', ml)"
   ]
  },
  {
   "cell_type": "code",
   "execution_count": 26,
   "metadata": {},
   "outputs": [
    {
     "output_type": "execute_result",
     "data": {
      "text/plain": [
       "   support                       itemsets\n",
       "0    0.177                        (dairy)\n",
       "1    0.183                    (freshmeat)\n",
       "2    0.184                    (softdrink)\n",
       "3    0.204                   (cannedmeat)\n",
       "4    0.144          (wine, confectionery)\n",
       "5    0.145               (fruitveg, fish)\n",
       "6    0.146  (frozenmeal, cannedveg, beer)"
      ],
      "text/html": "<div>\n<style scoped>\n    .dataframe tbody tr th:only-of-type {\n        vertical-align: middle;\n    }\n\n    .dataframe tbody tr th {\n        vertical-align: top;\n    }\n\n    .dataframe thead th {\n        text-align: right;\n    }\n</style>\n<table border=\"1\" class=\"dataframe\">\n  <thead>\n    <tr style=\"text-align: right;\">\n      <th></th>\n      <th>support</th>\n      <th>itemsets</th>\n    </tr>\n  </thead>\n  <tbody>\n    <tr>\n      <th>0</th>\n      <td>0.177</td>\n      <td>(dairy)</td>\n    </tr>\n    <tr>\n      <th>1</th>\n      <td>0.183</td>\n      <td>(freshmeat)</td>\n    </tr>\n    <tr>\n      <th>2</th>\n      <td>0.184</td>\n      <td>(softdrink)</td>\n    </tr>\n    <tr>\n      <th>3</th>\n      <td>0.204</td>\n      <td>(cannedmeat)</td>\n    </tr>\n    <tr>\n      <th>4</th>\n      <td>0.144</td>\n      <td>(wine, confectionery)</td>\n    </tr>\n    <tr>\n      <th>5</th>\n      <td>0.145</td>\n      <td>(fruitveg, fish)</td>\n    </tr>\n    <tr>\n      <th>6</th>\n      <td>0.146</td>\n      <td>(frozenmeal, cannedveg, beer)</td>\n    </tr>\n  </tbody>\n</table>\n</div>"
     },
     "metadata": {},
     "execution_count": 26
    }
   ],
   "source": [
    "# verify using inbuilt library\n",
    "from mlxtend.frequent_patterns import fpmax\n",
    "maximal = fpmax(df_prod, min_support=0.1,use_colnames=True)\n",
    "maximal"
   ]
  },
  {
   "cell_type": "markdown",
   "metadata": {},
   "source": [
    "### Q7. Find the closed frequent itemsets"
   ]
  },
  {
   "cell_type": "code",
   "execution_count": 36,
   "metadata": {},
   "outputs": [
    {
     "output_type": "stream",
     "name": "stdout",
     "text": [
      "Closed itemsets :  [(frozenset({'confectionery'}), 0.276), (frozenset({'freshmeat'}), 0.183), (frozenset({'dairy'}), 0.177), (frozenset({'cannedveg'}), 0.303), (frozenset({'frozenmeal'}), 0.302), (frozenset({'beer'}), 0.293), (frozenset({'fish'}), 0.292), (frozenset({'wine'}), 0.287), (frozenset({'fruitveg'}), 0.299), (frozenset({'softdrink'}), 0.184), (frozenset({'cannedmeat'}), 0.204), (frozenset({'wine', 'confectionery'}), 0.144), (frozenset({'frozenmeal', 'cannedveg'}), 0.173), (frozenset({'frozenmeal', 'beer'}), 0.17), (frozenset({'beer', 'cannedveg'}), 0.167), (frozenset({'frozenmeal', 'cannedveg', 'beer'}), 0.146), (frozenset({'fruitveg', 'fish'}), 0.145)]\n"
     ]
    }
   ],
   "source": [
    "# write your code here\n",
    "cl = []\n",
    "for index, row in fp.iterrows():\n",
    "    isclose = True\n",
    "    cli = row['itemsets']\n",
    "    cls = row['support']\n",
    "    checkset = fredic[cls]\n",
    "    for i in checkset:\n",
    "        if (cli!=i):\n",
    "            if(frozenset.issubset(cli,i)):\n",
    "                isclose = False\n",
    "                break\n",
    "    \n",
    "    if(isclose):\n",
    "        cl.append((row['itemsets'],row['support']))\n",
    "\n",
    "print('Closed itemsets : ', cl)\n"
   ]
  },
  {
   "cell_type": "markdown",
   "metadata": {},
   "source": [
    "### Q8. Find frequent itemsets using Fp-growth tree of zoo dataset "
   ]
  },
  {
   "cell_type": "code",
   "execution_count": 22,
   "metadata": {},
   "outputs": [
    {
     "output_type": "execute_result",
     "data": {
      "text/plain": [
       "     support                    itemsets\n",
       "0   0.821782                  (backbone)\n",
       "1   0.792079                  (breathes)\n",
       "2   0.603960                   (toothed)\n",
       "3   0.554455                  (predator)\n",
       "4   0.742574                      (tail)\n",
       "5   0.584158                      (eggs)\n",
       "6   0.683168        (backbone, breathes)\n",
       "7   0.603960         (backbone, toothed)\n",
       "8   0.514851             (tail, toothed)\n",
       "9   0.514851   (backbone, tail, toothed)\n",
       "10  0.732673            (backbone, tail)\n",
       "11  0.603960            (tail, breathes)\n",
       "12  0.594059  (backbone, tail, breathes)"
      ],
      "text/html": "<div>\n<style scoped>\n    .dataframe tbody tr th:only-of-type {\n        vertical-align: middle;\n    }\n\n    .dataframe tbody tr th {\n        vertical-align: top;\n    }\n\n    .dataframe thead th {\n        text-align: right;\n    }\n</style>\n<table border=\"1\" class=\"dataframe\">\n  <thead>\n    <tr style=\"text-align: right;\">\n      <th></th>\n      <th>support</th>\n      <th>itemsets</th>\n    </tr>\n  </thead>\n  <tbody>\n    <tr>\n      <th>0</th>\n      <td>0.821782</td>\n      <td>(backbone)</td>\n    </tr>\n    <tr>\n      <th>1</th>\n      <td>0.792079</td>\n      <td>(breathes)</td>\n    </tr>\n    <tr>\n      <th>2</th>\n      <td>0.603960</td>\n      <td>(toothed)</td>\n    </tr>\n    <tr>\n      <th>3</th>\n      <td>0.554455</td>\n      <td>(predator)</td>\n    </tr>\n    <tr>\n      <th>4</th>\n      <td>0.742574</td>\n      <td>(tail)</td>\n    </tr>\n    <tr>\n      <th>5</th>\n      <td>0.584158</td>\n      <td>(eggs)</td>\n    </tr>\n    <tr>\n      <th>6</th>\n      <td>0.683168</td>\n      <td>(backbone, breathes)</td>\n    </tr>\n    <tr>\n      <th>7</th>\n      <td>0.603960</td>\n      <td>(backbone, toothed)</td>\n    </tr>\n    <tr>\n      <th>8</th>\n      <td>0.514851</td>\n      <td>(tail, toothed)</td>\n    </tr>\n    <tr>\n      <th>9</th>\n      <td>0.514851</td>\n      <td>(backbone, tail, toothed)</td>\n    </tr>\n    <tr>\n      <th>10</th>\n      <td>0.732673</td>\n      <td>(backbone, tail)</td>\n    </tr>\n    <tr>\n      <th>11</th>\n      <td>0.603960</td>\n      <td>(tail, breathes)</td>\n    </tr>\n    <tr>\n      <th>12</th>\n      <td>0.594059</td>\n      <td>(backbone, tail, breathes)</td>\n    </tr>\n  </tbody>\n</table>\n</div>"
     },
     "metadata": {},
     "execution_count": 22
    }
   ],
   "source": [
    "#fpgrowth with min support 0.5\n",
    "fp_zoo=fpgrowth(df, min_support=0.5,use_colnames=True)\n",
    "fp_zoo"
   ]
  },
  {
   "cell_type": "markdown",
   "metadata": {},
   "source": [
    "### Q9. Find closed and maximal frequent itemsets from zoo dataset"
   ]
  },
  {
   "cell_type": "code",
   "execution_count": 37,
   "metadata": {},
   "outputs": [
    {
     "output_type": "execute_result",
     "data": {
      "text/plain": [
       "    support                    itemsets\n",
       "0  0.554455                  (predator)\n",
       "1  0.584158                      (eggs)\n",
       "2  0.514851   (backbone, tail, toothed)\n",
       "3  0.594059  (backbone, tail, breathes)"
      ],
      "text/html": "<div>\n<style scoped>\n    .dataframe tbody tr th:only-of-type {\n        vertical-align: middle;\n    }\n\n    .dataframe tbody tr th {\n        vertical-align: top;\n    }\n\n    .dataframe thead th {\n        text-align: right;\n    }\n</style>\n<table border=\"1\" class=\"dataframe\">\n  <thead>\n    <tr style=\"text-align: right;\">\n      <th></th>\n      <th>support</th>\n      <th>itemsets</th>\n    </tr>\n  </thead>\n  <tbody>\n    <tr>\n      <th>0</th>\n      <td>0.554455</td>\n      <td>(predator)</td>\n    </tr>\n    <tr>\n      <th>1</th>\n      <td>0.584158</td>\n      <td>(eggs)</td>\n    </tr>\n    <tr>\n      <th>2</th>\n      <td>0.514851</td>\n      <td>(backbone, tail, toothed)</td>\n    </tr>\n    <tr>\n      <th>3</th>\n      <td>0.594059</td>\n      <td>(backbone, tail, breathes)</td>\n    </tr>\n  </tbody>\n</table>\n</div>"
     },
     "metadata": {},
     "execution_count": 37
    }
   ],
   "source": [
    "# code here \n",
    "# find the number of maximal and closed itemsets\n",
    "maximal_zoo=fpmax(df, min_support=0.5,use_colnames=True)\n",
    "maximal_zoo"
   ]
  },
  {
   "cell_type": "code",
   "execution_count": 38,
   "metadata": {},
   "outputs": [
    {
     "output_type": "stream",
     "name": "stdout",
     "text": [
      "Closed itemsets :  [(frozenset({'backbone'}), 0.8217821782178217), (frozenset({'breathes'}), 0.7920792079207921), (frozenset({'predator'}), 0.5544554455445545), (frozenset({'tail'}), 0.7425742574257426), (frozenset({'eggs'}), 0.5841584158415841), (frozenset({'backbone', 'breathes'}), 0.6831683168316832), (frozenset({'backbone', 'toothed'}), 0.6039603960396039), (frozenset({'backbone', 'tail', 'toothed'}), 0.5148514851485149), (frozenset({'backbone', 'tail'}), 0.7326732673267327), (frozenset({'tail', 'breathes'}), 0.6039603960396039), (frozenset({'backbone', 'tail', 'breathes'}), 0.594059405940594)]\n"
     ]
    }
   ],
   "source": [
    "# use for loop \n",
    "su = fp_zoo.support.unique() #all unique support count\n",
    "\n",
    "#Dictionay storing itemset with same support count key\n",
    "fredic = {}\n",
    "for i in range(len(su)):\n",
    "    inset = list(fp_zoo.loc[fp_zoo.support ==su[i]]['itemsets'])\n",
    "    fredic[su[i]] = inset\n",
    "\n",
    "#Dictionay storing itemset with  support count <= key\n",
    "fredic2 = {}\n",
    "for i in range(len(su)):\n",
    "    inset2 = list(fp_zoo.loc[fp_zoo.support<=su[i]]['itemsets'])\n",
    "    fredic2[su[i]] = inset2\n",
    "\n",
    "cl = []\n",
    "for index, row in fp_zoo.iterrows():\n",
    "    isclose = True\n",
    "    cli = row['itemsets']\n",
    "    cls = row['support']\n",
    "    checkset = fredic[cls]\n",
    "    for i in checkset:\n",
    "        if (cli!=i):\n",
    "            if(frozenset.issubset(cli,i)):\n",
    "                isclose = False\n",
    "                break\n",
    "    \n",
    "    if(isclose):\n",
    "        cl.append((row['itemsets'],row['support']))\n",
    "\n",
    "print('Closed itemsets : ', cl)"
   ]
  },
  {
   "cell_type": "code",
   "execution_count": null,
   "metadata": {},
   "outputs": [],
   "source": []
  }
 ],
 "metadata": {
  "kernelspec": {
   "name": "python3",
   "display_name": "Python 3.8.5 64-bit ('venv')",
   "metadata": {
    "interpreter": {
     "hash": "f3d41eb964c724b2a1fea6c5f080c785bf2a86402f7892ca9d02d6f547148ea0"
    }
   }
  },
  "language_info": {
   "codemirror_mode": {
    "name": "ipython",
    "version": 3
   },
   "file_extension": ".py",
   "mimetype": "text/x-python",
   "name": "python",
   "nbconvert_exporter": "python",
   "pygments_lexer": "ipython3",
   "version": "3.8.5-final"
  }
 },
 "nbformat": 4,
 "nbformat_minor": 2
}