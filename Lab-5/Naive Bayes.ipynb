{
 "cells": [
  {
   "cell_type": "markdown",
   "metadata": {},
   "source": [
    "# Naive Bayes"
   ]
  },
  {
   "cell_type": "markdown",
   "metadata": {},
   "source": [
    "It is a classification technique based on Bayes’ Theorem with an assumption of independence among predictors. In simple terms, a Naive Bayes classifier assumes that the presence of a particular feature in a class is unrelated to the presence of any other feature.\n",
    "\n",
    "For example, a fruit may be considered to be an apple if it is red, round, and about 3 inches in diameter. Even if these features depend on each other or upon the existence of the other features, all of these properties independently contribute to the probability that this fruit is an apple and that is why it is known as ‘Naive’.\n",
    "\n",
    "Naive Bayes model is easy to build and particularly useful for very large data sets. Along with simplicity, Naive Bayes is known to outperform even highly sophisticated classification methods.\n",
    "\n",
    "Naive Bayes is a classification algorithm for binary (two-class) and multi-class classification problems. The technique is easiest to understand when described using binary or categorical input values.\n",
    "\n",
    "It is called naive Bayes because the calculation of the probabilities for each hypothesis are simplified to make their calculation tractable. Rather than attempting to calculate the values of each attribute value P(d1, d2, d3|h), they are assumed to be conditionally independent given the target value and calculated as P(d1|h) * P(d2|H) and so on."
   ]
  },
  {
   "cell_type": "markdown",
   "metadata": {},
   "source": [
    "## Bayes' Theorem\n",
    "Bayes’ Theorem is stated as:\n",
    "\n",
    "P(h|d) = (P(d|h) * P(h)) / P(d)\n",
    "\n",
    "Where\n",
    "\n",
    "###### P(h|d) is the probability of hypothesis h given the data d. This is called the posterior probability.\n",
    "###### P(d|h) is the probability of data d given that the hypothesis h was true.\n",
    "###### P(h) is the probability of hypothesis h being true (regardless of the data). This is called the prior probability of h.\n",
    "###### P(d) is the probability of the data (regardless of the hypothesis)."
   ]
  },
  {
   "cell_type": "markdown",
   "metadata": {},
   "source": [
    "### Useful Libraries\n",
    "To load dataset:    import pandas as pd\n",
    "Preprocessing:      from sklearn import preprocessing\n",
    "NB Classifier:      from sklearn.naive_bayes import GaussianNB\n",
    "Train & Test Split: from sklearn.model_selection import train_test_split\n",
    "K-Fold:             from sklearn.model_selection import cross_val_score\n",
    "\n",
    "For Prediction and Evaluation\n",
    "\n",
    "from sklearn.metrics import classification_report,confusion_matrix\n",
    "from sklearn.metrics import accuracy_score\n"
   ]
  },
  {
   "cell_type": "raw",
   "metadata": {},
   "source": [
    "To load dataset:    import pandas as pd\n",
    "Preprocessing:      from sklearn import preprocessing\n",
    "NB Classifier:      from sklearn.naive_bayes import GaussianNB\n",
    "Train & Test Split: from sklearn.model_selection import train_test_split\n",
    "K-Fold:             from sklearn.model_selection import cross_val_score\n",
    "\n",
    "For Prediction and Evaluation\n",
    "\n",
    "from sklearn.metrics import classification_report,confusion_matrix\n",
    "from sklearn.metrics import accuracy_score\n"
   ]
  },
  {
   "cell_type": "markdown",
   "metadata": {},
   "source": [
    "#### Load Dataset. Use \"bank-data.csv\""
   ]
  },
  {
   "cell_type": "code",
   "execution_count": 95,
   "metadata": {},
   "outputs": [
    {
     "output_type": "execute_result",
     "data": {
      "text/plain": [
       "         age     sex      region   income married  children  car save_act  \\\n",
       "id                                                                          \n",
       "ID12101   48  FEMALE  INNER_CITY  17546.0      NO         1   NO       NO   \n",
       "ID12102   40    MALE        TOWN  30085.1     YES         3  YES       NO   \n",
       "ID12103   51  FEMALE  INNER_CITY  16575.4     YES         0  YES      YES   \n",
       "ID12104   23  FEMALE        TOWN  20375.4     YES         3   NO       NO   \n",
       "ID12105   57  FEMALE       RURAL  50576.3     YES         0   NO      YES   \n",
       "\n",
       "        current_act mortgage  pep  \n",
       "id                                 \n",
       "ID12101          NO       NO  YES  \n",
       "ID12102         YES      YES   NO  \n",
       "ID12103         YES       NO   NO  \n",
       "ID12104         YES       NO   NO  \n",
       "ID12105          NO       NO   NO  "
      ],
      "text/html": "<div>\n<style scoped>\n    .dataframe tbody tr th:only-of-type {\n        vertical-align: middle;\n    }\n\n    .dataframe tbody tr th {\n        vertical-align: top;\n    }\n\n    .dataframe thead th {\n        text-align: right;\n    }\n</style>\n<table border=\"1\" class=\"dataframe\">\n  <thead>\n    <tr style=\"text-align: right;\">\n      <th></th>\n      <th>age</th>\n      <th>sex</th>\n      <th>region</th>\n      <th>income</th>\n      <th>married</th>\n      <th>children</th>\n      <th>car</th>\n      <th>save_act</th>\n      <th>current_act</th>\n      <th>mortgage</th>\n      <th>pep</th>\n    </tr>\n    <tr>\n      <th>id</th>\n      <th></th>\n      <th></th>\n      <th></th>\n      <th></th>\n      <th></th>\n      <th></th>\n      <th></th>\n      <th></th>\n      <th></th>\n      <th></th>\n      <th></th>\n    </tr>\n  </thead>\n  <tbody>\n    <tr>\n      <th>ID12101</th>\n      <td>48</td>\n      <td>FEMALE</td>\n      <td>INNER_CITY</td>\n      <td>17546.0</td>\n      <td>NO</td>\n      <td>1</td>\n      <td>NO</td>\n      <td>NO</td>\n      <td>NO</td>\n      <td>NO</td>\n      <td>YES</td>\n    </tr>\n    <tr>\n      <th>ID12102</th>\n      <td>40</td>\n      <td>MALE</td>\n      <td>TOWN</td>\n      <td>30085.1</td>\n      <td>YES</td>\n      <td>3</td>\n      <td>YES</td>\n      <td>NO</td>\n      <td>YES</td>\n      <td>YES</td>\n      <td>NO</td>\n    </tr>\n    <tr>\n      <th>ID12103</th>\n      <td>51</td>\n      <td>FEMALE</td>\n      <td>INNER_CITY</td>\n      <td>16575.4</td>\n      <td>YES</td>\n      <td>0</td>\n      <td>YES</td>\n      <td>YES</td>\n      <td>YES</td>\n      <td>NO</td>\n      <td>NO</td>\n    </tr>\n    <tr>\n      <th>ID12104</th>\n      <td>23</td>\n      <td>FEMALE</td>\n      <td>TOWN</td>\n      <td>20375.4</td>\n      <td>YES</td>\n      <td>3</td>\n      <td>NO</td>\n      <td>NO</td>\n      <td>YES</td>\n      <td>NO</td>\n      <td>NO</td>\n    </tr>\n    <tr>\n      <th>ID12105</th>\n      <td>57</td>\n      <td>FEMALE</td>\n      <td>RURAL</td>\n      <td>50576.3</td>\n      <td>YES</td>\n      <td>0</td>\n      <td>NO</td>\n      <td>YES</td>\n      <td>NO</td>\n      <td>NO</td>\n      <td>NO</td>\n    </tr>\n  </tbody>\n</table>\n</div>"
     },
     "metadata": {},
     "execution_count": 95
    }
   ],
   "source": [
    "# import dataset\n",
    "import pandas as pd\n",
    "df = pd.read_csv('bank-data.csv',index_col=0)\n",
    "df.head()\n"
   ]
  },
  {
   "cell_type": "markdown",
   "metadata": {},
   "source": [
    "#### Preprocess the data"
   ]
  },
  {
   "cell_type": "code",
   "execution_count": 96,
   "metadata": {},
   "outputs": [],
   "source": [
    "# import library for preprocessing\n",
    "from sklearn import preprocessing\n",
    "le = preprocessing.LabelEncoder()\n",
    "from sklearn.preprocessing import MinMaxScaler\n",
    "scaler=MinMaxScaler()"
   ]
  },
  {
   "cell_type": "code",
   "execution_count": 97,
   "metadata": {},
   "outputs": [
    {
     "output_type": "execute_result",
     "data": {
      "text/plain": [
       "         age  sex  region   income  married  children  car  save_act  \\\n",
       "id                                                                     \n",
       "ID12101   48    0       0  17546.0        0         1    0         0   \n",
       "ID12102   40    1       3  30085.1        1         3    1         0   \n",
       "ID12103   51    0       0  16575.4        1         0    1         1   \n",
       "ID12104   23    0       3  20375.4        1         3    0         0   \n",
       "ID12105   57    0       1  50576.3        1         0    0         1   \n",
       "...      ...  ...     ...      ...      ...       ...  ...       ...   \n",
       "ID12575   31    0       3  22678.1        0         1    1         1   \n",
       "ID12576   33    0       3  12178.5        1         2    0         1   \n",
       "ID12577   43    1       1  26106.7        0         1    0         0   \n",
       "ID12578   40    1       0  27417.6        1         0    0         1   \n",
       "ID12579   47    1       3  23337.2        1         2    0         1   \n",
       "\n",
       "         current_act  mortgage  pep  \n",
       "id                                   \n",
       "ID12101            0         0    1  \n",
       "ID12102            1         1    0  \n",
       "ID12103            1         0    0  \n",
       "ID12104            1         0    0  \n",
       "ID12105            0         0    0  \n",
       "...              ...       ...  ...  \n",
       "ID12575            1         1    1  \n",
       "ID12576            1         1    0  \n",
       "ID12577            1         0    1  \n",
       "ID12578            1         1    0  \n",
       "ID12579            1         1    0  \n",
       "\n",
       "[479 rows x 11 columns]"
      ],
      "text/html": "<div>\n<style scoped>\n    .dataframe tbody tr th:only-of-type {\n        vertical-align: middle;\n    }\n\n    .dataframe tbody tr th {\n        vertical-align: top;\n    }\n\n    .dataframe thead th {\n        text-align: right;\n    }\n</style>\n<table border=\"1\" class=\"dataframe\">\n  <thead>\n    <tr style=\"text-align: right;\">\n      <th></th>\n      <th>age</th>\n      <th>sex</th>\n      <th>region</th>\n      <th>income</th>\n      <th>married</th>\n      <th>children</th>\n      <th>car</th>\n      <th>save_act</th>\n      <th>current_act</th>\n      <th>mortgage</th>\n      <th>pep</th>\n    </tr>\n    <tr>\n      <th>id</th>\n      <th></th>\n      <th></th>\n      <th></th>\n      <th></th>\n      <th></th>\n      <th></th>\n      <th></th>\n      <th></th>\n      <th></th>\n      <th></th>\n      <th></th>\n    </tr>\n  </thead>\n  <tbody>\n    <tr>\n      <th>ID12101</th>\n      <td>48</td>\n      <td>0</td>\n      <td>0</td>\n      <td>17546.0</td>\n      <td>0</td>\n      <td>1</td>\n      <td>0</td>\n      <td>0</td>\n      <td>0</td>\n      <td>0</td>\n      <td>1</td>\n    </tr>\n    <tr>\n      <th>ID12102</th>\n      <td>40</td>\n      <td>1</td>\n      <td>3</td>\n      <td>30085.1</td>\n      <td>1</td>\n      <td>3</td>\n      <td>1</td>\n      <td>0</td>\n      <td>1</td>\n      <td>1</td>\n      <td>0</td>\n    </tr>\n    <tr>\n      <th>ID12103</th>\n      <td>51</td>\n      <td>0</td>\n      <td>0</td>\n      <td>16575.4</td>\n      <td>1</td>\n      <td>0</td>\n      <td>1</td>\n      <td>1</td>\n      <td>1</td>\n      <td>0</td>\n      <td>0</td>\n    </tr>\n    <tr>\n      <th>ID12104</th>\n      <td>23</td>\n      <td>0</td>\n      <td>3</td>\n      <td>20375.4</td>\n      <td>1</td>\n      <td>3</td>\n      <td>0</td>\n      <td>0</td>\n      <td>1</td>\n      <td>0</td>\n      <td>0</td>\n    </tr>\n    <tr>\n      <th>ID12105</th>\n      <td>57</td>\n      <td>0</td>\n      <td>1</td>\n      <td>50576.3</td>\n      <td>1</td>\n      <td>0</td>\n      <td>0</td>\n      <td>1</td>\n      <td>0</td>\n      <td>0</td>\n      <td>0</td>\n    </tr>\n    <tr>\n      <th>...</th>\n      <td>...</td>\n      <td>...</td>\n      <td>...</td>\n      <td>...</td>\n      <td>...</td>\n      <td>...</td>\n      <td>...</td>\n      <td>...</td>\n      <td>...</td>\n      <td>...</td>\n      <td>...</td>\n    </tr>\n    <tr>\n      <th>ID12575</th>\n      <td>31</td>\n      <td>0</td>\n      <td>3</td>\n      <td>22678.1</td>\n      <td>0</td>\n      <td>1</td>\n      <td>1</td>\n      <td>1</td>\n      <td>1</td>\n      <td>1</td>\n      <td>1</td>\n    </tr>\n    <tr>\n      <th>ID12576</th>\n      <td>33</td>\n      <td>0</td>\n      <td>3</td>\n      <td>12178.5</td>\n      <td>1</td>\n      <td>2</td>\n      <td>0</td>\n      <td>1</td>\n      <td>1</td>\n      <td>1</td>\n      <td>0</td>\n    </tr>\n    <tr>\n      <th>ID12577</th>\n      <td>43</td>\n      <td>1</td>\n      <td>1</td>\n      <td>26106.7</td>\n      <td>0</td>\n      <td>1</td>\n      <td>0</td>\n      <td>0</td>\n      <td>1</td>\n      <td>0</td>\n      <td>1</td>\n    </tr>\n    <tr>\n      <th>ID12578</th>\n      <td>40</td>\n      <td>1</td>\n      <td>0</td>\n      <td>27417.6</td>\n      <td>1</td>\n      <td>0</td>\n      <td>0</td>\n      <td>1</td>\n      <td>1</td>\n      <td>1</td>\n      <td>0</td>\n    </tr>\n    <tr>\n      <th>ID12579</th>\n      <td>47</td>\n      <td>1</td>\n      <td>3</td>\n      <td>23337.2</td>\n      <td>1</td>\n      <td>2</td>\n      <td>0</td>\n      <td>1</td>\n      <td>1</td>\n      <td>1</td>\n      <td>0</td>\n    </tr>\n  </tbody>\n</table>\n<p>479 rows × 11 columns</p>\n</div>"
     },
     "metadata": {},
     "execution_count": 97
    }
   ],
   "source": [
    "# Tranform data using \"fit_transform(attribute)\" function  \n",
    "df.sex=le.fit_transform(df.sex)\n",
    "df.married=le.fit_transform(df.married)\n",
    "df.car=le.fit_transform(df.car)\n",
    "df.save_act=le.fit_transform(df.save_act)\n",
    "df.current_act=le.fit_transform(df.current_act)\n",
    "df.mortgage=le.fit_transform(df.mortgage)\n",
    "df.pep=le.fit_transform(df.pep)\n",
    "df.region=le.fit_transform(df.region)\n",
    "df"
   ]
  },
  {
   "cell_type": "markdown",
   "metadata": {},
   "source": [
    "#### Select independent variables and target column"
   ]
  },
  {
   "cell_type": "code",
   "execution_count": 98,
   "metadata": {},
   "outputs": [],
   "source": [
    "# Select the independent variables and the target attribute\n",
    "X = df[df.columns[:-1]] # Selecting the independent variables\n",
    "Y=df[df.columns[len(df.columns)-1]] # selecting only the target lableled column\n"
   ]
  },
  {
   "cell_type": "markdown",
   "metadata": {},
   "source": [
    "#### Import Naive Bayes Classifier library "
   ]
  },
  {
   "cell_type": "code",
   "execution_count": 99,
   "metadata": {},
   "outputs": [],
   "source": [
    "# import Classifier library\n",
    "from sklearn.naive_bayes import GaussianNB"
   ]
  },
  {
   "cell_type": "code",
   "execution_count": 100,
   "metadata": {},
   "outputs": [],
   "source": [
    "# Call the Classifier\n",
    "gnb=GaussianNB()"
   ]
  },
  {
   "cell_type": "markdown",
   "metadata": {},
   "source": [
    "#### Predict the target column and find the perfromance of the model"
   ]
  },
  {
   "cell_type": "code",
   "execution_count": 101,
   "metadata": {},
   "outputs": [],
   "source": [
    "# Divide the dataset into training and testing partition\n",
    "from sklearn.model_selection import train_test_split\n",
    "X_train, X_test, Y_train, Y_test = train_test_split(X, Y, test_size=0.30, random_state = 30)"
   ]
  },
  {
   "cell_type": "code",
   "execution_count": 102,
   "metadata": {},
   "outputs": [
    {
     "output_type": "stream",
     "name": "stdout",
     "text": [
      "Number of mislabeled points out of a total 144 points : 56\n"
     ]
    }
   ],
   "source": [
    "# Print Number of mislabeled points\n",
    "gnb.fit(X_train,Y_train)\n",
    "predictions = gnb.predict(X_test)\n",
    "print(\"Number of mislabeled points out of a total %d points : %d\" % (X_test.shape[0], (Y_test != predictions).sum()))\n",
    "#sum(Y_test!=predictions)\n"
   ]
  },
  {
   "cell_type": "markdown",
   "metadata": {},
   "source": [
    "### Prediction and Evaluation"
   ]
  },
  {
   "cell_type": "code",
   "execution_count": 103,
   "metadata": {},
   "outputs": [],
   "source": [
    "# import required libraries\n",
    "from sklearn.metrics import classification_report,confusion_matrix\n",
    "from sklearn.metrics import accuracy_score"
   ]
  },
  {
   "cell_type": "code",
   "execution_count": 104,
   "metadata": {},
   "outputs": [
    {
     "output_type": "stream",
     "name": "stdout",
     "text": [
      "              precision    recall  f1-score   support\n\n           0       0.62      0.78      0.69        80\n           1       0.59      0.41      0.48        64\n\n    accuracy                           0.61       144\n   macro avg       0.61      0.59      0.59       144\nweighted avg       0.61      0.61      0.60       144\n\nConfusion Matrix\n[[62 18]\n [38 26]]\n\n Accuracy\n0.6111111111111112\n"
     ]
    }
   ],
   "source": [
    "# Calculate and print confusion matrix and other performance measures (Refer previous labsheet)\n",
    "print(classification_report(Y_test,predictions))\n",
    "print(\"Confusion Matrix\")\n",
    "print(confusion_matrix(Y_test,predictions))\n",
    "print(\"\\n Accuracy\")\n",
    "print(accuracy_score(Y_test,predictions))"
   ]
  },
  {
   "cell_type": "markdown",
   "metadata": {},
   "source": [
    "#### Q1: Consider \"current_act\" as an irrelevant attribute. Remove it and find the accuracy of Naive Bayes classifier"
   ]
  },
  {
   "cell_type": "code",
   "execution_count": 105,
   "metadata": {},
   "outputs": [
    {
     "output_type": "execute_result",
     "data": {
      "text/plain": [
       "         age  sex  region   income  married  children  car  save_act  mortgage\n",
       "id                                                                            \n",
       "ID12101   48    0       0  17546.0        0         1    0         0         0\n",
       "ID12102   40    1       3  30085.1        1         3    1         0         1\n",
       "ID12103   51    0       0  16575.4        1         0    1         1         0\n",
       "ID12104   23    0       3  20375.4        1         3    0         0         0\n",
       "ID12105   57    0       1  50576.3        1         0    0         1         0\n",
       "...      ...  ...     ...      ...      ...       ...  ...       ...       ...\n",
       "ID12575   31    0       3  22678.1        0         1    1         1         1\n",
       "ID12576   33    0       3  12178.5        1         2    0         1         1\n",
       "ID12577   43    1       1  26106.7        0         1    0         0         0\n",
       "ID12578   40    1       0  27417.6        1         0    0         1         1\n",
       "ID12579   47    1       3  23337.2        1         2    0         1         1\n",
       "\n",
       "[479 rows x 9 columns]"
      ],
      "text/html": "<div>\n<style scoped>\n    .dataframe tbody tr th:only-of-type {\n        vertical-align: middle;\n    }\n\n    .dataframe tbody tr th {\n        vertical-align: top;\n    }\n\n    .dataframe thead th {\n        text-align: right;\n    }\n</style>\n<table border=\"1\" class=\"dataframe\">\n  <thead>\n    <tr style=\"text-align: right;\">\n      <th></th>\n      <th>age</th>\n      <th>sex</th>\n      <th>region</th>\n      <th>income</th>\n      <th>married</th>\n      <th>children</th>\n      <th>car</th>\n      <th>save_act</th>\n      <th>mortgage</th>\n    </tr>\n    <tr>\n      <th>id</th>\n      <th></th>\n      <th></th>\n      <th></th>\n      <th></th>\n      <th></th>\n      <th></th>\n      <th></th>\n      <th></th>\n      <th></th>\n    </tr>\n  </thead>\n  <tbody>\n    <tr>\n      <th>ID12101</th>\n      <td>48</td>\n      <td>0</td>\n      <td>0</td>\n      <td>17546.0</td>\n      <td>0</td>\n      <td>1</td>\n      <td>0</td>\n      <td>0</td>\n      <td>0</td>\n    </tr>\n    <tr>\n      <th>ID12102</th>\n      <td>40</td>\n      <td>1</td>\n      <td>3</td>\n      <td>30085.1</td>\n      <td>1</td>\n      <td>3</td>\n      <td>1</td>\n      <td>0</td>\n      <td>1</td>\n    </tr>\n    <tr>\n      <th>ID12103</th>\n      <td>51</td>\n      <td>0</td>\n      <td>0</td>\n      <td>16575.4</td>\n      <td>1</td>\n      <td>0</td>\n      <td>1</td>\n      <td>1</td>\n      <td>0</td>\n    </tr>\n    <tr>\n      <th>ID12104</th>\n      <td>23</td>\n      <td>0</td>\n      <td>3</td>\n      <td>20375.4</td>\n      <td>1</td>\n      <td>3</td>\n      <td>0</td>\n      <td>0</td>\n      <td>0</td>\n    </tr>\n    <tr>\n      <th>ID12105</th>\n      <td>57</td>\n      <td>0</td>\n      <td>1</td>\n      <td>50576.3</td>\n      <td>1</td>\n      <td>0</td>\n      <td>0</td>\n      <td>1</td>\n      <td>0</td>\n    </tr>\n    <tr>\n      <th>...</th>\n      <td>...</td>\n      <td>...</td>\n      <td>...</td>\n      <td>...</td>\n      <td>...</td>\n      <td>...</td>\n      <td>...</td>\n      <td>...</td>\n      <td>...</td>\n    </tr>\n    <tr>\n      <th>ID12575</th>\n      <td>31</td>\n      <td>0</td>\n      <td>3</td>\n      <td>22678.1</td>\n      <td>0</td>\n      <td>1</td>\n      <td>1</td>\n      <td>1</td>\n      <td>1</td>\n    </tr>\n    <tr>\n      <th>ID12576</th>\n      <td>33</td>\n      <td>0</td>\n      <td>3</td>\n      <td>12178.5</td>\n      <td>1</td>\n      <td>2</td>\n      <td>0</td>\n      <td>1</td>\n      <td>1</td>\n    </tr>\n    <tr>\n      <th>ID12577</th>\n      <td>43</td>\n      <td>1</td>\n      <td>1</td>\n      <td>26106.7</td>\n      <td>0</td>\n      <td>1</td>\n      <td>0</td>\n      <td>0</td>\n      <td>0</td>\n    </tr>\n    <tr>\n      <th>ID12578</th>\n      <td>40</td>\n      <td>1</td>\n      <td>0</td>\n      <td>27417.6</td>\n      <td>1</td>\n      <td>0</td>\n      <td>0</td>\n      <td>1</td>\n      <td>1</td>\n    </tr>\n    <tr>\n      <th>ID12579</th>\n      <td>47</td>\n      <td>1</td>\n      <td>3</td>\n      <td>23337.2</td>\n      <td>1</td>\n      <td>2</td>\n      <td>0</td>\n      <td>1</td>\n      <td>1</td>\n    </tr>\n  </tbody>\n</table>\n<p>479 rows × 9 columns</p>\n</div>"
     },
     "metadata": {},
     "execution_count": 105
    }
   ],
   "source": [
    "# display dataframe first 5 columns\n",
    "X_new=X.drop(columns='current_act')\n",
    "X_new"
   ]
  },
  {
   "cell_type": "code",
   "execution_count": 106,
   "metadata": {},
   "outputs": [],
   "source": [
    "# Selecting the independent variables\n",
    "X_train, X_test, Y_train, Y_test = train_test_split(X_new, Y, test_size=0.30, random_state = 30)"
   ]
  },
  {
   "cell_type": "code",
   "execution_count": 107,
   "metadata": {},
   "outputs": [
    {
     "output_type": "execute_result",
     "data": {
      "text/plain": [
       "id\n",
       "ID12350    0\n",
       "ID12201    1\n",
       "ID12229    0\n",
       "ID12127    0\n",
       "ID12318    0\n",
       "          ..\n",
       "ID12279    1\n",
       "ID12467    1\n",
       "ID12113    1\n",
       "ID12345    0\n",
       "ID12309    0\n",
       "Name: pep, Length: 144, dtype: int64"
      ]
     },
     "metadata": {},
     "execution_count": 107
    }
   ],
   "source": [
    "# selecting only the target lableled column\n",
    "Y_test"
   ]
  },
  {
   "cell_type": "code",
   "execution_count": 108,
   "metadata": {},
   "outputs": [
    {
     "output_type": "stream",
     "name": "stdout",
     "text": [
      "Number of mislabeled points out of a total 144 points : 56\n"
     ]
    }
   ],
   "source": [
    "# Apply the classifier and Print Number of mislabeled points\n",
    "gnb1=GaussianNB()\n",
    "gnb1.fit(X_train,Y_train)\n",
    "predictions1 = gnb1.predict(X_test)\n",
    "print(\"Number of mislabeled points out of a total %d points : %d\" % (X_test.shape[0], (Y_test != predictions1).sum()))\n",
    "#sum(Y_test!=predictions1)"
   ]
  },
  {
   "cell_type": "code",
   "execution_count": 109,
   "metadata": {},
   "outputs": [
    {
     "output_type": "stream",
     "name": "stdout",
     "text": [
      "              precision    recall  f1-score   support\n\n           0       0.62      0.76      0.69        80\n           1       0.59      0.42      0.49        64\n\n    accuracy                           0.61       144\n   macro avg       0.60      0.59      0.59       144\nweighted avg       0.61      0.61      0.60       144\n\nConfusion Matrix\n[[61 19]\n [37 27]]\n\n Accuracy\n0.6111111111111112\n"
     ]
    }
   ],
   "source": [
    "# Calculate and print confusion matrix and other performance measures\n",
    "print(classification_report(Y_test,predictions1))\n",
    "print(\"Confusion Matrix\")\n",
    "print(confusion_matrix(Y_test,predictions1))\n",
    "print(\"\\n Accuracy\")\n",
    "print(accuracy_score(Y_test,predictions1))"
   ]
  },
  {
   "cell_type": "markdown",
   "metadata": {},
   "source": [
    "#### Q2: Write your observation\n",
    "\n",
    "Accuracy did not change on removing the irrelevant data"
   ]
  },
  {
   "source": [
    "## Correlation Checking"
   ],
   "cell_type": "markdown",
   "metadata": {}
  },
  {
   "cell_type": "code",
   "execution_count": 114,
   "metadata": {},
   "outputs": [
    {
     "output_type": "stream",
     "name": "stdout",
     "text": [
      "                  age       sex    region    income   married  children  \\\nage          1.000000  0.113416  0.031045  0.746954  0.002897  0.032233   \nsex          0.113416  1.000000  0.025683  0.045622  0.013560  0.004089   \nregion       0.031045  0.025683  1.000000  0.010030  0.003875  0.029435   \nincome       0.746954  0.045622  0.010030  1.000000  0.000374  0.052406   \nmarried      0.002897  0.013560  0.003875  0.000374  1.000000  0.031679   \nchildren     0.032233  0.004089  0.029435  0.052406  0.031679  1.000000   \ncar          0.088710  0.061259  0.004216  0.112592  0.043234  0.039704   \nsave_act     0.203436  0.012936  0.072585  0.295660  0.049677  0.013860   \ncurrent_act  0.045850  0.033821  0.013958  0.035265  0.038228  0.032741   \nmortgage     0.048380  0.070235  0.014856  0.023663  0.001784  0.047236   \n\n                  car  save_act  current_act  mortgage  \nage          0.088710  0.203436     0.045850  0.048380  \nsex          0.061259  0.012936     0.033821  0.070235  \nregion       0.004216  0.072585     0.013958  0.014856  \nincome       0.112592  0.295660     0.035265  0.023663  \nmarried      0.043234  0.049677     0.038228  0.001784  \nchildren     0.039704  0.013860     0.032741  0.047236  \ncar          1.000000  0.011336     0.034494  0.005357  \nsave_act     0.011336  1.000000     0.038640  0.013255  \ncurrent_act  0.034494  0.038640     1.000000  0.026433  \nmortgage     0.005357  0.013255     0.026433  1.000000  \nmarried      income         0.000374\nincome       married        0.000374\nmarried      mortgage       0.001784\nmortgage     married        0.001784\nage          married        0.002897\n                              ...   \nincome       income         1.000000\nregion       region         1.000000\nsex          sex            1.000000\ncurrent_act  current_act    1.000000\nmortgage     mortgage       1.000000\nLength: 100, dtype: float64\n"
     ]
    }
   ],
   "source": [
    "c = X.corr().abs()\n",
    "print(c)\n",
    "s = c.unstack()\n",
    "so = s.sort_values(kind=\"quicksort\")\n",
    "print(so)"
   ]
  },
  {
   "cell_type": "code",
   "execution_count": 119,
   "metadata": {},
   "outputs": [],
   "source": [
    "X_new=X.drop(columns='income')"
   ]
  },
  {
   "cell_type": "code",
   "execution_count": 120,
   "metadata": {},
   "outputs": [
    {
     "output_type": "stream",
     "name": "stdout",
     "text": [
      "Number of mislabeled points out of a total 144 points : 55\n"
     ]
    }
   ],
   "source": [
    "gnb4=GaussianNB()\n",
    "X_train, X_test, Y_train, Y_test = train_test_split(X_new, Y, test_size=0.30, random_state = 30)\n",
    "gnb4.fit(X_train,Y_train)\n",
    "predictions4 = gnb4.predict(X_test)\n",
    "print(\"Number of mislabeled points out of a total %d points : %d\" % (X_test.shape[0], (Y_test != predictions4).sum()))"
   ]
  },
  {
   "cell_type": "code",
   "execution_count": 121,
   "metadata": {},
   "outputs": [
    {
     "output_type": "stream",
     "name": "stdout",
     "text": [
      "              precision    recall  f1-score   support\n\n           0       0.64      0.70      0.67        80\n           1       0.58      0.52      0.55        64\n\n    accuracy                           0.62       144\n   macro avg       0.61      0.61      0.61       144\nweighted avg       0.61      0.62      0.62       144\n\nConfusion Matrix\n[[56 24]\n [31 33]]\n\n Accuracy\n0.6180555555555556\n"
     ]
    }
   ],
   "source": [
    "print(classification_report(Y_test,predictions4))\n",
    "print(\"Confusion Matrix\")\n",
    "print(confusion_matrix(Y_test,predictions4))\n",
    "print(\"\\n Accuracy\")\n",
    "print(accuracy_score(Y_test,predictions4))"
   ]
  },
  {
   "source": [
    "#### Q6: Write your observation below in the performance of model\n",
    "\n",
    "Accuracy increased for car dataset by removing correlated attribute. Increase was slight"
   ],
   "cell_type": "markdown",
   "metadata": {}
  },
  {
   "source": [
    "### Load \"car.csv\" dataset. "
   ],
   "cell_type": "markdown",
   "metadata": {}
  },
  {
   "cell_type": "markdown",
   "metadata": {},
   "source": [
    "#### Q3: Apply Naive Bayes classifier on this dataset"
   ]
  },
  {
   "cell_type": "code",
   "execution_count": 76,
   "metadata": {},
   "outputs": [
    {
     "output_type": "execute_result",
     "data": {
      "text/plain": [
       "     buying  maint  doors  persons lug_boot safety  class\n",
       "0     vhigh  vhigh      2        2    small    low  unacc\n",
       "1     vhigh  vhigh      2        2    small    med  unacc\n",
       "2     vhigh  vhigh      2        2    small   high  unacc\n",
       "3     vhigh  vhigh      2        2      med    low  unacc\n",
       "4     vhigh  vhigh      2        2      med    med  unacc\n",
       "...     ...    ...    ...      ...      ...    ...    ...\n",
       "1723    low    low      6        6      med    med   good\n",
       "1724    low    low      6        6      med   high  vgood\n",
       "1725    low    low      6        6      big    low  unacc\n",
       "1726    low    low      6        6      big    med   good\n",
       "1727    low    low      6        6      big   high  vgood\n",
       "\n",
       "[1728 rows x 7 columns]"
      ],
      "text/html": "<div>\n<style scoped>\n    .dataframe tbody tr th:only-of-type {\n        vertical-align: middle;\n    }\n\n    .dataframe tbody tr th {\n        vertical-align: top;\n    }\n\n    .dataframe thead th {\n        text-align: right;\n    }\n</style>\n<table border=\"1\" class=\"dataframe\">\n  <thead>\n    <tr style=\"text-align: right;\">\n      <th></th>\n      <th>buying</th>\n      <th>maint</th>\n      <th>doors</th>\n      <th>persons</th>\n      <th>lug_boot</th>\n      <th>safety</th>\n      <th>class</th>\n    </tr>\n  </thead>\n  <tbody>\n    <tr>\n      <th>0</th>\n      <td>vhigh</td>\n      <td>vhigh</td>\n      <td>2</td>\n      <td>2</td>\n      <td>small</td>\n      <td>low</td>\n      <td>unacc</td>\n    </tr>\n    <tr>\n      <th>1</th>\n      <td>vhigh</td>\n      <td>vhigh</td>\n      <td>2</td>\n      <td>2</td>\n      <td>small</td>\n      <td>med</td>\n      <td>unacc</td>\n    </tr>\n    <tr>\n      <th>2</th>\n      <td>vhigh</td>\n      <td>vhigh</td>\n      <td>2</td>\n      <td>2</td>\n      <td>small</td>\n      <td>high</td>\n      <td>unacc</td>\n    </tr>\n    <tr>\n      <th>3</th>\n      <td>vhigh</td>\n      <td>vhigh</td>\n      <td>2</td>\n      <td>2</td>\n      <td>med</td>\n      <td>low</td>\n      <td>unacc</td>\n    </tr>\n    <tr>\n      <th>4</th>\n      <td>vhigh</td>\n      <td>vhigh</td>\n      <td>2</td>\n      <td>2</td>\n      <td>med</td>\n      <td>med</td>\n      <td>unacc</td>\n    </tr>\n    <tr>\n      <th>...</th>\n      <td>...</td>\n      <td>...</td>\n      <td>...</td>\n      <td>...</td>\n      <td>...</td>\n      <td>...</td>\n      <td>...</td>\n    </tr>\n    <tr>\n      <th>1723</th>\n      <td>low</td>\n      <td>low</td>\n      <td>6</td>\n      <td>6</td>\n      <td>med</td>\n      <td>med</td>\n      <td>good</td>\n    </tr>\n    <tr>\n      <th>1724</th>\n      <td>low</td>\n      <td>low</td>\n      <td>6</td>\n      <td>6</td>\n      <td>med</td>\n      <td>high</td>\n      <td>vgood</td>\n    </tr>\n    <tr>\n      <th>1725</th>\n      <td>low</td>\n      <td>low</td>\n      <td>6</td>\n      <td>6</td>\n      <td>big</td>\n      <td>low</td>\n      <td>unacc</td>\n    </tr>\n    <tr>\n      <th>1726</th>\n      <td>low</td>\n      <td>low</td>\n      <td>6</td>\n      <td>6</td>\n      <td>big</td>\n      <td>med</td>\n      <td>good</td>\n    </tr>\n    <tr>\n      <th>1727</th>\n      <td>low</td>\n      <td>low</td>\n      <td>6</td>\n      <td>6</td>\n      <td>big</td>\n      <td>high</td>\n      <td>vgood</td>\n    </tr>\n  </tbody>\n</table>\n<p>1728 rows × 7 columns</p>\n</div>"
     },
     "metadata": {},
     "execution_count": 76
    }
   ],
   "source": [
    "# Load the data\n",
    "df = pd.read_csv('car.csv',header=None,names=['buying','maint','doors','persons','lug_boot','safety','class'])\n",
    "#df.columns=['buying','maint','doors','persons','lug_boot','safety']\n",
    "#df.head()\n",
    "# shuffle the DataFrame rows \n",
    "df\n"
   ]
  },
  {
   "cell_type": "code",
   "execution_count": 80,
   "metadata": {},
   "outputs": [
    {
     "output_type": "execute_result",
     "data": {
      "text/plain": [
       "      buying  maint  doors  persons  lug_boot  safety  class\n",
       "0          3      3      0        0         2       1      2\n",
       "1          3      3      0        0         2       2      2\n",
       "2          3      3      0        0         2       0      2\n",
       "3          3      3      0        0         1       1      2\n",
       "4          3      3      0        0         1       2      2\n",
       "...      ...    ...    ...      ...       ...     ...    ...\n",
       "1723       1      1      3        2         1       2      1\n",
       "1724       1      1      3        2         1       0      3\n",
       "1725       1      1      3        2         0       1      2\n",
       "1726       1      1      3        2         0       2      1\n",
       "1727       1      1      3        2         0       0      3\n",
       "\n",
       "[1728 rows x 7 columns]"
      ],
      "text/html": "<div>\n<style scoped>\n    .dataframe tbody tr th:only-of-type {\n        vertical-align: middle;\n    }\n\n    .dataframe tbody tr th {\n        vertical-align: top;\n    }\n\n    .dataframe thead th {\n        text-align: right;\n    }\n</style>\n<table border=\"1\" class=\"dataframe\">\n  <thead>\n    <tr style=\"text-align: right;\">\n      <th></th>\n      <th>buying</th>\n      <th>maint</th>\n      <th>doors</th>\n      <th>persons</th>\n      <th>lug_boot</th>\n      <th>safety</th>\n      <th>class</th>\n    </tr>\n  </thead>\n  <tbody>\n    <tr>\n      <th>0</th>\n      <td>3</td>\n      <td>3</td>\n      <td>0</td>\n      <td>0</td>\n      <td>2</td>\n      <td>1</td>\n      <td>2</td>\n    </tr>\n    <tr>\n      <th>1</th>\n      <td>3</td>\n      <td>3</td>\n      <td>0</td>\n      <td>0</td>\n      <td>2</td>\n      <td>2</td>\n      <td>2</td>\n    </tr>\n    <tr>\n      <th>2</th>\n      <td>3</td>\n      <td>3</td>\n      <td>0</td>\n      <td>0</td>\n      <td>2</td>\n      <td>0</td>\n      <td>2</td>\n    </tr>\n    <tr>\n      <th>3</th>\n      <td>3</td>\n      <td>3</td>\n      <td>0</td>\n      <td>0</td>\n      <td>1</td>\n      <td>1</td>\n      <td>2</td>\n    </tr>\n    <tr>\n      <th>4</th>\n      <td>3</td>\n      <td>3</td>\n      <td>0</td>\n      <td>0</td>\n      <td>1</td>\n      <td>2</td>\n      <td>2</td>\n    </tr>\n    <tr>\n      <th>...</th>\n      <td>...</td>\n      <td>...</td>\n      <td>...</td>\n      <td>...</td>\n      <td>...</td>\n      <td>...</td>\n      <td>...</td>\n    </tr>\n    <tr>\n      <th>1723</th>\n      <td>1</td>\n      <td>1</td>\n      <td>3</td>\n      <td>2</td>\n      <td>1</td>\n      <td>2</td>\n      <td>1</td>\n    </tr>\n    <tr>\n      <th>1724</th>\n      <td>1</td>\n      <td>1</td>\n      <td>3</td>\n      <td>2</td>\n      <td>1</td>\n      <td>0</td>\n      <td>3</td>\n    </tr>\n    <tr>\n      <th>1725</th>\n      <td>1</td>\n      <td>1</td>\n      <td>3</td>\n      <td>2</td>\n      <td>0</td>\n      <td>1</td>\n      <td>2</td>\n    </tr>\n    <tr>\n      <th>1726</th>\n      <td>1</td>\n      <td>1</td>\n      <td>3</td>\n      <td>2</td>\n      <td>0</td>\n      <td>2</td>\n      <td>1</td>\n    </tr>\n    <tr>\n      <th>1727</th>\n      <td>1</td>\n      <td>1</td>\n      <td>3</td>\n      <td>2</td>\n      <td>0</td>\n      <td>0</td>\n      <td>3</td>\n    </tr>\n  </tbody>\n</table>\n<p>1728 rows × 7 columns</p>\n</div>"
     },
     "metadata": {},
     "execution_count": 80
    }
   ],
   "source": [
    "# Preprocess and Tranform data using \"fit_transform(attribute)\" function  \n",
    "for col in df.columns:\n",
    "    df[col]=le.fit_transform(df[col])\n",
    "df"
   ]
  },
  {
   "cell_type": "code",
   "execution_count": 81,
   "metadata": {},
   "outputs": [
    {
     "output_type": "execute_result",
     "data": {
      "text/plain": [
       "      buying  maint  doors  persons  lug_boot  safety\n",
       "0          3      3      0        0         2       1\n",
       "1          3      3      0        0         2       2\n",
       "2          3      3      0        0         2       0\n",
       "3          3      3      0        0         1       1\n",
       "4          3      3      0        0         1       2\n",
       "...      ...    ...    ...      ...       ...     ...\n",
       "1723       1      1      3        2         1       2\n",
       "1724       1      1      3        2         1       0\n",
       "1725       1      1      3        2         0       1\n",
       "1726       1      1      3        2         0       2\n",
       "1727       1      1      3        2         0       0\n",
       "\n",
       "[1728 rows x 6 columns]"
      ],
      "text/html": "<div>\n<style scoped>\n    .dataframe tbody tr th:only-of-type {\n        vertical-align: middle;\n    }\n\n    .dataframe tbody tr th {\n        vertical-align: top;\n    }\n\n    .dataframe thead th {\n        text-align: right;\n    }\n</style>\n<table border=\"1\" class=\"dataframe\">\n  <thead>\n    <tr style=\"text-align: right;\">\n      <th></th>\n      <th>buying</th>\n      <th>maint</th>\n      <th>doors</th>\n      <th>persons</th>\n      <th>lug_boot</th>\n      <th>safety</th>\n    </tr>\n  </thead>\n  <tbody>\n    <tr>\n      <th>0</th>\n      <td>3</td>\n      <td>3</td>\n      <td>0</td>\n      <td>0</td>\n      <td>2</td>\n      <td>1</td>\n    </tr>\n    <tr>\n      <th>1</th>\n      <td>3</td>\n      <td>3</td>\n      <td>0</td>\n      <td>0</td>\n      <td>2</td>\n      <td>2</td>\n    </tr>\n    <tr>\n      <th>2</th>\n      <td>3</td>\n      <td>3</td>\n      <td>0</td>\n      <td>0</td>\n      <td>2</td>\n      <td>0</td>\n    </tr>\n    <tr>\n      <th>3</th>\n      <td>3</td>\n      <td>3</td>\n      <td>0</td>\n      <td>0</td>\n      <td>1</td>\n      <td>1</td>\n    </tr>\n    <tr>\n      <th>4</th>\n      <td>3</td>\n      <td>3</td>\n      <td>0</td>\n      <td>0</td>\n      <td>1</td>\n      <td>2</td>\n    </tr>\n    <tr>\n      <th>...</th>\n      <td>...</td>\n      <td>...</td>\n      <td>...</td>\n      <td>...</td>\n      <td>...</td>\n      <td>...</td>\n    </tr>\n    <tr>\n      <th>1723</th>\n      <td>1</td>\n      <td>1</td>\n      <td>3</td>\n      <td>2</td>\n      <td>1</td>\n      <td>2</td>\n    </tr>\n    <tr>\n      <th>1724</th>\n      <td>1</td>\n      <td>1</td>\n      <td>3</td>\n      <td>2</td>\n      <td>1</td>\n      <td>0</td>\n    </tr>\n    <tr>\n      <th>1725</th>\n      <td>1</td>\n      <td>1</td>\n      <td>3</td>\n      <td>2</td>\n      <td>0</td>\n      <td>1</td>\n    </tr>\n    <tr>\n      <th>1726</th>\n      <td>1</td>\n      <td>1</td>\n      <td>3</td>\n      <td>2</td>\n      <td>0</td>\n      <td>2</td>\n    </tr>\n    <tr>\n      <th>1727</th>\n      <td>1</td>\n      <td>1</td>\n      <td>3</td>\n      <td>2</td>\n      <td>0</td>\n      <td>0</td>\n    </tr>\n  </tbody>\n</table>\n<p>1728 rows × 6 columns</p>\n</div>"
     },
     "metadata": {},
     "execution_count": 81
    }
   ],
   "source": [
    "# Select the independent variables and the target attribute\n",
    "X = df[df.columns[:-1]] # Selecting the independent variables\n",
    "Y=df[df.columns[len(df.columns)-1]] # selecting only the target lableled column\n",
    "X"
   ]
  },
  {
   "cell_type": "code",
   "execution_count": 82,
   "metadata": {},
   "outputs": [],
   "source": [
    "# Apply the classifier\n",
    "gnb2=GaussianNB()"
   ]
  },
  {
   "cell_type": "code",
   "execution_count": 83,
   "metadata": {},
   "outputs": [],
   "source": [
    "# Divide the dataset into training and testing partition\n",
    "# predictions for testing partition\n",
    "X_train, X_test, Y_train, Y_test = train_test_split(X, Y, test_size=0.30, random_state = 30)\n",
    "gnb2.fit(X_train,Y_train)\n",
    "predictions2 = gnb2.predict(X_test)\n"
   ]
  },
  {
   "cell_type": "code",
   "execution_count": 85,
   "metadata": {},
   "outputs": [
    {
     "output_type": "stream",
     "name": "stdout",
     "text": [
      "Number of mislabeled points out of a total 519 points : 195\n"
     ]
    }
   ],
   "source": [
    "# Print Number of mislabeled points\n",
    "print(\"Number of mislabeled points out of a total %d points : %d\" % (X_test.shape[0], (Y_test != predictions2).sum()))"
   ]
  },
  {
   "cell_type": "code",
   "execution_count": 86,
   "metadata": {},
   "outputs": [
    {
     "output_type": "stream",
     "name": "stdout",
     "text": [
      "              precision    recall  f1-score   support\n\n           0       0.45      0.12      0.19       111\n           1       0.00      0.00      0.00        21\n           2       0.85      0.79      0.82       368\n           3       0.13      1.00      0.23        19\n\n    accuracy                           0.62       519\n   macro avg       0.36      0.48      0.31       519\nweighted avg       0.70      0.62      0.63       519\n\nConfusion Matrix\n[[ 13   0  45  53]\n [  2   0   7  12]\n [ 14   0 292  62]\n [  0   0   0  19]]\n\n Accuracy\n0.6242774566473989\n"
     ]
    }
   ],
   "source": [
    "# Calculate and print confusion matrix and other performance measures\n",
    "print(classification_report(Y_test,predictions2))\n",
    "print(\"Confusion Matrix\")\n",
    "print(confusion_matrix(Y_test,predictions2))\n",
    "print(\"\\n Accuracy\")\n",
    "print(accuracy_score(Y_test,predictions2))"
   ]
  },
  {
   "cell_type": "markdown",
   "metadata": {},
   "source": [
    "#### Q4: Find the correlation between the attributes of the dataset."
   ]
  },
  {
   "cell_type": "code",
   "execution_count": 91,
   "metadata": {},
   "outputs": [
    {
     "output_type": "stream",
     "name": "stdout",
     "text": [
      "            buying     maint     doors   persons  lug_boot    safety     class\nbuying    1.000000  0.000000  0.000000  0.000000  0.000000  0.000000  0.051424\nmaint     0.000000  1.000000  0.000000  0.000000  0.000000  0.000000  0.040194\ndoors     0.000000  0.000000  1.000000  0.000000  0.000000  0.000000  0.031327\npersons   0.000000  0.000000  0.000000  1.000000  0.000000  0.000000  0.299468\nlug_boot  0.000000  0.000000  0.000000  0.000000  1.000000  0.000000  0.033184\nsafety    0.000000  0.000000  0.000000  0.000000  0.000000  1.000000  0.021044\nclass     0.051424  0.040194  0.031327  0.299468  0.033184  0.021044  1.000000\npersons   buying      0.000000\nsafety    buying      0.000000\nlug_boot  safety      0.000000\n          persons     0.000000\n          doors       0.000000\n          maint       0.000000\n          buying      0.000000\nsafety    persons     0.000000\npersons   safety      0.000000\n          lug_boot    0.000000\n          doors       0.000000\n          maint       0.000000\ndoors     safety      0.000000\nsafety    maint       0.000000\ndoors     persons     0.000000\nsafety    lug_boot    0.000000\ndoors     lug_boot    0.000000\n          buying      0.000000\nbuying    maint       0.000000\n          doors       0.000000\n          persons     0.000000\n          lug_boot    0.000000\n          safety      0.000000\ndoors     maint       0.000000\nmaint     doors       0.000000\n          buying      0.000000\n          persons     0.000000\n          lug_boot    0.000000\n          safety      0.000000\nsafety    doors       0.000000\n          class       0.021044\nclass     safety      0.021044\ndoors     class       0.031327\nclass     doors       0.031327\n          lug_boot    0.033184\nlug_boot  class       0.033184\nclass     maint       0.040194\nmaint     class       0.040194\nclass     buying      0.051424\nbuying    class       0.051424\nclass     persons     0.299468\npersons   class       0.299468\nbuying    buying      1.000000\npersons   persons     1.000000\nlug_boot  lug_boot    1.000000\ndoors     doors       1.000000\nmaint     maint       1.000000\nsafety    safety      1.000000\nclass     class       1.000000\ndtype: float64\n"
     ]
    }
   ],
   "source": [
    "# Find the pairwise correlation of attributes and arrange in ascending order\n",
    "c = df.corr().abs()\n",
    "#print(c)\n",
    "s = c.unstack()\n",
    "so = s.sort_values(kind=\"quicksort\")\n",
    "print(so)"
   ]
  },
  {
   "cell_type": "markdown",
   "metadata": {},
   "source": [
    "#### Q5: Remove one of the highly correlated attributes and apply Naive Bayes classifier"
   ]
  },
  {
   "cell_type": "code",
   "execution_count": 92,
   "metadata": {},
   "outputs": [
    {
     "output_type": "execute_result",
     "data": {
      "text/plain": [
       "      buying  maint  doors  lug_boot  safety\n",
       "0          3      3      0         2       1\n",
       "1          3      3      0         2       2\n",
       "2          3      3      0         2       0\n",
       "3          3      3      0         1       1\n",
       "4          3      3      0         1       2\n",
       "...      ...    ...    ...       ...     ...\n",
       "1723       1      1      3         1       2\n",
       "1724       1      1      3         1       0\n",
       "1725       1      1      3         0       1\n",
       "1726       1      1      3         0       2\n",
       "1727       1      1      3         0       0\n",
       "\n",
       "[1728 rows x 5 columns]"
      ],
      "text/html": "<div>\n<style scoped>\n    .dataframe tbody tr th:only-of-type {\n        vertical-align: middle;\n    }\n\n    .dataframe tbody tr th {\n        vertical-align: top;\n    }\n\n    .dataframe thead th {\n        text-align: right;\n    }\n</style>\n<table border=\"1\" class=\"dataframe\">\n  <thead>\n    <tr style=\"text-align: right;\">\n      <th></th>\n      <th>buying</th>\n      <th>maint</th>\n      <th>doors</th>\n      <th>lug_boot</th>\n      <th>safety</th>\n    </tr>\n  </thead>\n  <tbody>\n    <tr>\n      <th>0</th>\n      <td>3</td>\n      <td>3</td>\n      <td>0</td>\n      <td>2</td>\n      <td>1</td>\n    </tr>\n    <tr>\n      <th>1</th>\n      <td>3</td>\n      <td>3</td>\n      <td>0</td>\n      <td>2</td>\n      <td>2</td>\n    </tr>\n    <tr>\n      <th>2</th>\n      <td>3</td>\n      <td>3</td>\n      <td>0</td>\n      <td>2</td>\n      <td>0</td>\n    </tr>\n    <tr>\n      <th>3</th>\n      <td>3</td>\n      <td>3</td>\n      <td>0</td>\n      <td>1</td>\n      <td>1</td>\n    </tr>\n    <tr>\n      <th>4</th>\n      <td>3</td>\n      <td>3</td>\n      <td>0</td>\n      <td>1</td>\n      <td>2</td>\n    </tr>\n    <tr>\n      <th>...</th>\n      <td>...</td>\n      <td>...</td>\n      <td>...</td>\n      <td>...</td>\n      <td>...</td>\n    </tr>\n    <tr>\n      <th>1723</th>\n      <td>1</td>\n      <td>1</td>\n      <td>3</td>\n      <td>1</td>\n      <td>2</td>\n    </tr>\n    <tr>\n      <th>1724</th>\n      <td>1</td>\n      <td>1</td>\n      <td>3</td>\n      <td>1</td>\n      <td>0</td>\n    </tr>\n    <tr>\n      <th>1725</th>\n      <td>1</td>\n      <td>1</td>\n      <td>3</td>\n      <td>0</td>\n      <td>1</td>\n    </tr>\n    <tr>\n      <th>1726</th>\n      <td>1</td>\n      <td>1</td>\n      <td>3</td>\n      <td>0</td>\n      <td>2</td>\n    </tr>\n    <tr>\n      <th>1727</th>\n      <td>1</td>\n      <td>1</td>\n      <td>3</td>\n      <td>0</td>\n      <td>0</td>\n    </tr>\n  </tbody>\n</table>\n<p>1728 rows × 5 columns</p>\n</div>"
     },
     "metadata": {},
     "execution_count": 92
    }
   ],
   "source": [
    "# Drop highly correlated attribute\n",
    "X_new=X.drop(columns='persons')\n",
    "X_new"
   ]
  },
  {
   "cell_type": "code",
   "execution_count": 93,
   "metadata": {},
   "outputs": [
    {
     "output_type": "stream",
     "name": "stdout",
     "text": [
      "Number of mislabeled points out of a total 519 points : 202\n"
     ]
    }
   ],
   "source": [
    "# Apply the classifier\n",
    "# Divide the dataset into training and testing partition\n",
    "# predictions for testing partition\n",
    "# Print Number of mislabeled points\n",
    "gnb3=GaussianNB()\n",
    "X_train, X_test, Y_train, Y_test = train_test_split(X_new, Y, test_size=0.30, random_state = 30)\n",
    "gnb3.fit(X_train,Y_train)\n",
    "predictions3 = gnb3.predict(X_test)\n",
    "print(\"Number of mislabeled points out of a total %d points : %d\" % (X_test.shape[0], (Y_test != predictions3).sum()))"
   ]
  },
  {
   "cell_type": "code",
   "execution_count": 94,
   "metadata": {},
   "outputs": [
    {
     "output_type": "stream",
     "name": "stdout",
     "text": [
      "              precision    recall  f1-score   support\n\n           0       0.00      0.00      0.00       111\n           1       0.00      0.00      0.00        21\n           2       0.82      0.81      0.81       368\n           3       0.12      1.00      0.22        19\n\n    accuracy                           0.61       519\n   macro avg       0.23      0.45      0.26       519\nweighted avg       0.58      0.61      0.58       519\n\nConfusion Matrix\n[[  0   0  58  53]\n [  0   0   9  12]\n [  0   0 298  70]\n [  0   0   0  19]]\n\n Accuracy\n0.6107899807321773\n"
     ]
    }
   ],
   "source": [
    "# Calculate and print confusion matrix and other performance measures\n",
    "print(classification_report(Y_test,predictions3))\n",
    "print(\"Confusion Matrix\")\n",
    "print(confusion_matrix(Y_test,predictions3))\n",
    "print(\"\\n Accuracy\")\n",
    "print(accuracy_score(Y_test,predictions3))"
   ]
  },
  {
   "cell_type": "markdown",
   "metadata": {},
   "source": [
    "#### Q6: Write your observation below in the performance of model in Q4 and Q6\n",
    "\n",
    "Accuracy decreased for car dataset as correlation was 0"
   ]
  },
  {
   "cell_type": "code",
   "execution_count": null,
   "metadata": {},
   "outputs": [],
   "source": []
  }
 ],
 "metadata": {
  "kernelspec": {
   "name": "Python 3.8.5 64-bit ('venv')",
   "display_name": "Python 3.8.5 64-bit ('venv')",
   "metadata": {
    "interpreter": {
     "hash": "f3d41eb964c724b2a1fea6c5f080c785bf2a86402f7892ca9d02d6f547148ea0"
    }
   }
  },
  "language_info": {
   "codemirror_mode": {
    "name": "ipython",
    "version": 3
   },
   "file_extension": ".py",
   "mimetype": "text/x-python",
   "name": "python",
   "nbconvert_exporter": "python",
   "pygments_lexer": "ipython3",
   "version": "3.8.5-final"
  }
 },
 "nbformat": 4,
 "nbformat_minor": 2
}