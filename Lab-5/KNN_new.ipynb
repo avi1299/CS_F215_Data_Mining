{
 "cells": [
  {
   "cell_type": "markdown",
   "metadata": {},
   "source": [
    "# K-Nearest Neighbour\n",
    "\n",
    "\n",
    "K nearest neighbors is a simple algorithm that stores all available cases and classifies new cases based on a similarity measure (e.g., distance functions). A new record is classified by a majority vote of its neighbors, with the case being assigned to the class most common amongst its K nearest neighbors measured by a distance function. If K = 1, then the case is simply assigned to the class of its nearest neighbor. \n",
    "\n",
    "Suppose you want to find out the class of the blue star (BS) in the image below. BS can either be RC or GS. The “K” is KNN algorithm is the nearest neighbor we wish to take the vote from. Let’s say K = 3. Hence, we will now make a circle with BS as the center just as big as to enclose only three datapoints on the plane. The three closest points to BS is all RC. Hence, with a good confidence level, we can say that the BS should belong to the class RC. Here, the choice became very obvious as all three votes from the closest neighbor went to RC. The choice of the parameter K is very crucial in this algorithm.\n",
    "\n",
    "<img src=\"img1.png\">\n",
    "\n",
    "The distance functions used for Numeric fields are given below:\n",
    "<img src=\"img2.png\">"
   ]
  },
  {
   "cell_type": "markdown",
   "metadata": {},
   "source": [
    "### Libraries useful in K-NN are listed below"
   ]
  },
  {
   "cell_type": "raw",
   "metadata": {},
   "source": [
    "To load dataset:    import pandas as pd\n",
    "Preprocessing:      from sklearn import preprocessing\n",
    "K-NN Classifier:    from sklearn.neighbors import KNeighborsClassifier\n",
    "Train & Test Split: from sklearn.model_selection import train_test_split\n",
    "K-Fold:             from sklearn.model_selection import cross_val_score\n",
    "\n",
    "For Prediction and Evaluation\n",
    "\n",
    "from sklearn.metrics import classification_report,confusion_matrix\n",
    "from sklearn.metrics import accuracy_score\n"
   ]
  },
  {
   "cell_type": "markdown",
   "metadata": {},
   "source": [
    "### Get The Data. Load data \"bank-data.csv\""
   ]
  },
  {
   "cell_type": "code",
   "execution_count": 1,
   "metadata": {},
   "outputs": [
    {
     "output_type": "execute_result",
     "data": {
      "text/plain": [
       "         age     sex      region   income married  children  car save_act  \\\n",
       "id                                                                          \n",
       "ID12101   48  FEMALE  INNER_CITY  17546.0      NO         1   NO       NO   \n",
       "ID12102   40    MALE        TOWN  30085.1     YES         3  YES       NO   \n",
       "ID12103   51  FEMALE  INNER_CITY  16575.4     YES         0  YES      YES   \n",
       "ID12104   23  FEMALE        TOWN  20375.4     YES         3   NO       NO   \n",
       "ID12105   57  FEMALE       RURAL  50576.3     YES         0   NO      YES   \n",
       "\n",
       "        current_act mortgage  pep  \n",
       "id                                 \n",
       "ID12101          NO       NO  YES  \n",
       "ID12102         YES      YES   NO  \n",
       "ID12103         YES       NO   NO  \n",
       "ID12104         YES       NO   NO  \n",
       "ID12105          NO       NO   NO  "
      ],
      "text/html": "<div>\n<style scoped>\n    .dataframe tbody tr th:only-of-type {\n        vertical-align: middle;\n    }\n\n    .dataframe tbody tr th {\n        vertical-align: top;\n    }\n\n    .dataframe thead th {\n        text-align: right;\n    }\n</style>\n<table border=\"1\" class=\"dataframe\">\n  <thead>\n    <tr style=\"text-align: right;\">\n      <th></th>\n      <th>age</th>\n      <th>sex</th>\n      <th>region</th>\n      <th>income</th>\n      <th>married</th>\n      <th>children</th>\n      <th>car</th>\n      <th>save_act</th>\n      <th>current_act</th>\n      <th>mortgage</th>\n      <th>pep</th>\n    </tr>\n    <tr>\n      <th>id</th>\n      <th></th>\n      <th></th>\n      <th></th>\n      <th></th>\n      <th></th>\n      <th></th>\n      <th></th>\n      <th></th>\n      <th></th>\n      <th></th>\n      <th></th>\n    </tr>\n  </thead>\n  <tbody>\n    <tr>\n      <th>ID12101</th>\n      <td>48</td>\n      <td>FEMALE</td>\n      <td>INNER_CITY</td>\n      <td>17546.0</td>\n      <td>NO</td>\n      <td>1</td>\n      <td>NO</td>\n      <td>NO</td>\n      <td>NO</td>\n      <td>NO</td>\n      <td>YES</td>\n    </tr>\n    <tr>\n      <th>ID12102</th>\n      <td>40</td>\n      <td>MALE</td>\n      <td>TOWN</td>\n      <td>30085.1</td>\n      <td>YES</td>\n      <td>3</td>\n      <td>YES</td>\n      <td>NO</td>\n      <td>YES</td>\n      <td>YES</td>\n      <td>NO</td>\n    </tr>\n    <tr>\n      <th>ID12103</th>\n      <td>51</td>\n      <td>FEMALE</td>\n      <td>INNER_CITY</td>\n      <td>16575.4</td>\n      <td>YES</td>\n      <td>0</td>\n      <td>YES</td>\n      <td>YES</td>\n      <td>YES</td>\n      <td>NO</td>\n      <td>NO</td>\n    </tr>\n    <tr>\n      <th>ID12104</th>\n      <td>23</td>\n      <td>FEMALE</td>\n      <td>TOWN</td>\n      <td>20375.4</td>\n      <td>YES</td>\n      <td>3</td>\n      <td>NO</td>\n      <td>NO</td>\n      <td>YES</td>\n      <td>NO</td>\n      <td>NO</td>\n    </tr>\n    <tr>\n      <th>ID12105</th>\n      <td>57</td>\n      <td>FEMALE</td>\n      <td>RURAL</td>\n      <td>50576.3</td>\n      <td>YES</td>\n      <td>0</td>\n      <td>NO</td>\n      <td>YES</td>\n      <td>NO</td>\n      <td>NO</td>\n      <td>NO</td>\n    </tr>\n  </tbody>\n</table>\n</div>"
     },
     "metadata": {},
     "execution_count": 1
    }
   ],
   "source": [
    "# import dataset\n",
    "import pandas as pd\n",
    "df = pd.read_csv('bank-data.csv',index_col=0)\n",
    "df.head()"
   ]
  },
  {
   "cell_type": "code",
   "execution_count": 2,
   "metadata": {},
   "outputs": [],
   "source": [
    "# import library for preprocessing\n",
    "from sklearn import preprocessing\n",
    "le = preprocessing.LabelEncoder()"
   ]
  },
  {
   "cell_type": "code",
   "execution_count": 3,
   "metadata": {},
   "outputs": [
    {
     "output_type": "execute_result",
     "data": {
      "text/plain": [
       "         age  sex      region   income  married  children  car  save_act  \\\n",
       "id                                                                         \n",
       "ID12101   48    0  INNER_CITY  17546.0        0         1    0         0   \n",
       "ID12102   40    1        TOWN  30085.1        1         3    1         0   \n",
       "ID12103   51    0  INNER_CITY  16575.4        1         0    1         1   \n",
       "ID12104   23    0        TOWN  20375.4        1         3    0         0   \n",
       "ID12105   57    0       RURAL  50576.3        1         0    0         1   \n",
       "...      ...  ...         ...      ...      ...       ...  ...       ...   \n",
       "ID12575   31    0        TOWN  22678.1        0         1    1         1   \n",
       "ID12576   33    0        TOWN  12178.5        1         2    0         1   \n",
       "ID12577   43    1       RURAL  26106.7        0         1    0         0   \n",
       "ID12578   40    1  INNER_CITY  27417.6        1         0    0         1   \n",
       "ID12579   47    1        TOWN  23337.2        1         2    0         1   \n",
       "\n",
       "         current_act  mortgage  pep  \n",
       "id                                   \n",
       "ID12101            0         0    1  \n",
       "ID12102            1         1    0  \n",
       "ID12103            1         0    0  \n",
       "ID12104            1         0    0  \n",
       "ID12105            0         0    0  \n",
       "...              ...       ...  ...  \n",
       "ID12575            1         1    1  \n",
       "ID12576            1         1    0  \n",
       "ID12577            1         0    1  \n",
       "ID12578            1         1    0  \n",
       "ID12579            1         1    0  \n",
       "\n",
       "[479 rows x 11 columns]"
      ],
      "text/html": "<div>\n<style scoped>\n    .dataframe tbody tr th:only-of-type {\n        vertical-align: middle;\n    }\n\n    .dataframe tbody tr th {\n        vertical-align: top;\n    }\n\n    .dataframe thead th {\n        text-align: right;\n    }\n</style>\n<table border=\"1\" class=\"dataframe\">\n  <thead>\n    <tr style=\"text-align: right;\">\n      <th></th>\n      <th>age</th>\n      <th>sex</th>\n      <th>region</th>\n      <th>income</th>\n      <th>married</th>\n      <th>children</th>\n      <th>car</th>\n      <th>save_act</th>\n      <th>current_act</th>\n      <th>mortgage</th>\n      <th>pep</th>\n    </tr>\n    <tr>\n      <th>id</th>\n      <th></th>\n      <th></th>\n      <th></th>\n      <th></th>\n      <th></th>\n      <th></th>\n      <th></th>\n      <th></th>\n      <th></th>\n      <th></th>\n      <th></th>\n    </tr>\n  </thead>\n  <tbody>\n    <tr>\n      <th>ID12101</th>\n      <td>48</td>\n      <td>0</td>\n      <td>INNER_CITY</td>\n      <td>17546.0</td>\n      <td>0</td>\n      <td>1</td>\n      <td>0</td>\n      <td>0</td>\n      <td>0</td>\n      <td>0</td>\n      <td>1</td>\n    </tr>\n    <tr>\n      <th>ID12102</th>\n      <td>40</td>\n      <td>1</td>\n      <td>TOWN</td>\n      <td>30085.1</td>\n      <td>1</td>\n      <td>3</td>\n      <td>1</td>\n      <td>0</td>\n      <td>1</td>\n      <td>1</td>\n      <td>0</td>\n    </tr>\n    <tr>\n      <th>ID12103</th>\n      <td>51</td>\n      <td>0</td>\n      <td>INNER_CITY</td>\n      <td>16575.4</td>\n      <td>1</td>\n      <td>0</td>\n      <td>1</td>\n      <td>1</td>\n      <td>1</td>\n      <td>0</td>\n      <td>0</td>\n    </tr>\n    <tr>\n      <th>ID12104</th>\n      <td>23</td>\n      <td>0</td>\n      <td>TOWN</td>\n      <td>20375.4</td>\n      <td>1</td>\n      <td>3</td>\n      <td>0</td>\n      <td>0</td>\n      <td>1</td>\n      <td>0</td>\n      <td>0</td>\n    </tr>\n    <tr>\n      <th>ID12105</th>\n      <td>57</td>\n      <td>0</td>\n      <td>RURAL</td>\n      <td>50576.3</td>\n      <td>1</td>\n      <td>0</td>\n      <td>0</td>\n      <td>1</td>\n      <td>0</td>\n      <td>0</td>\n      <td>0</td>\n    </tr>\n    <tr>\n      <th>...</th>\n      <td>...</td>\n      <td>...</td>\n      <td>...</td>\n      <td>...</td>\n      <td>...</td>\n      <td>...</td>\n      <td>...</td>\n      <td>...</td>\n      <td>...</td>\n      <td>...</td>\n      <td>...</td>\n    </tr>\n    <tr>\n      <th>ID12575</th>\n      <td>31</td>\n      <td>0</td>\n      <td>TOWN</td>\n      <td>22678.1</td>\n      <td>0</td>\n      <td>1</td>\n      <td>1</td>\n      <td>1</td>\n      <td>1</td>\n      <td>1</td>\n      <td>1</td>\n    </tr>\n    <tr>\n      <th>ID12576</th>\n      <td>33</td>\n      <td>0</td>\n      <td>TOWN</td>\n      <td>12178.5</td>\n      <td>1</td>\n      <td>2</td>\n      <td>0</td>\n      <td>1</td>\n      <td>1</td>\n      <td>1</td>\n      <td>0</td>\n    </tr>\n    <tr>\n      <th>ID12577</th>\n      <td>43</td>\n      <td>1</td>\n      <td>RURAL</td>\n      <td>26106.7</td>\n      <td>0</td>\n      <td>1</td>\n      <td>0</td>\n      <td>0</td>\n      <td>1</td>\n      <td>0</td>\n      <td>1</td>\n    </tr>\n    <tr>\n      <th>ID12578</th>\n      <td>40</td>\n      <td>1</td>\n      <td>INNER_CITY</td>\n      <td>27417.6</td>\n      <td>1</td>\n      <td>0</td>\n      <td>0</td>\n      <td>1</td>\n      <td>1</td>\n      <td>1</td>\n      <td>0</td>\n    </tr>\n    <tr>\n      <th>ID12579</th>\n      <td>47</td>\n      <td>1</td>\n      <td>TOWN</td>\n      <td>23337.2</td>\n      <td>1</td>\n      <td>2</td>\n      <td>0</td>\n      <td>1</td>\n      <td>1</td>\n      <td>1</td>\n      <td>0</td>\n    </tr>\n  </tbody>\n</table>\n<p>479 rows × 11 columns</p>\n</div>"
     },
     "metadata": {},
     "execution_count": 3
    }
   ],
   "source": [
    "# Tranform data using \"fit_transform(attribute)\" function  \n",
    "#df['sex','married','car','save_act','current_act','mortgage','pep']=le.fit_transform(df['sex','married','car','save_act','current_act','mortgage','pep'])\n",
    "df.sex=le.fit_transform(df.sex)\n",
    "df.married=le.fit_transform(df.married)\n",
    "df.car=le.fit_transform(df.car)\n",
    "df.save_act=le.fit_transform(df.save_act)\n",
    "df.current_act=le.fit_transform(df.current_act)\n",
    "df.mortgage=le.fit_transform(df.mortgage)\n",
    "df.pep=le.fit_transform(df.pep)\n",
    "df\n"
   ]
  },
  {
   "cell_type": "code",
   "execution_count": 4,
   "metadata": {},
   "outputs": [],
   "source": [
    "# Convert \"Region\" into presence absence attribute\n",
    "df = pd.concat([df,pd.get_dummies(df['region'], prefix='REG')],axis=1)\n",
    "df.drop(['region'],axis=1, inplace=True)"
   ]
  },
  {
   "cell_type": "code",
   "execution_count": 5,
   "metadata": {},
   "outputs": [
    {
     "output_type": "execute_result",
     "data": {
      "text/plain": [
       "         age  sex   income  married  children  car  save_act  current_act  \\\n",
       "id                                                                          \n",
       "ID12101   48    0  17546.0        0         1    0         0            0   \n",
       "ID12102   40    1  30085.1        1         3    1         0            1   \n",
       "ID12103   51    0  16575.4        1         0    1         1            1   \n",
       "ID12104   23    0  20375.4        1         3    0         0            1   \n",
       "ID12105   57    0  50576.3        1         0    0         1            0   \n",
       "\n",
       "         mortgage  pep  REG_INNER_CITY  REG_RURAL  REG_SUBURBAN  REG_TOWN  \n",
       "id                                                                         \n",
       "ID12101         0    1               1          0             0         0  \n",
       "ID12102         1    0               0          0             0         1  \n",
       "ID12103         0    0               1          0             0         0  \n",
       "ID12104         0    0               0          0             0         1  \n",
       "ID12105         0    0               0          1             0         0  "
      ],
      "text/html": "<div>\n<style scoped>\n    .dataframe tbody tr th:only-of-type {\n        vertical-align: middle;\n    }\n\n    .dataframe tbody tr th {\n        vertical-align: top;\n    }\n\n    .dataframe thead th {\n        text-align: right;\n    }\n</style>\n<table border=\"1\" class=\"dataframe\">\n  <thead>\n    <tr style=\"text-align: right;\">\n      <th></th>\n      <th>age</th>\n      <th>sex</th>\n      <th>income</th>\n      <th>married</th>\n      <th>children</th>\n      <th>car</th>\n      <th>save_act</th>\n      <th>current_act</th>\n      <th>mortgage</th>\n      <th>pep</th>\n      <th>REG_INNER_CITY</th>\n      <th>REG_RURAL</th>\n      <th>REG_SUBURBAN</th>\n      <th>REG_TOWN</th>\n    </tr>\n    <tr>\n      <th>id</th>\n      <th></th>\n      <th></th>\n      <th></th>\n      <th></th>\n      <th></th>\n      <th></th>\n      <th></th>\n      <th></th>\n      <th></th>\n      <th></th>\n      <th></th>\n      <th></th>\n      <th></th>\n      <th></th>\n    </tr>\n  </thead>\n  <tbody>\n    <tr>\n      <th>ID12101</th>\n      <td>48</td>\n      <td>0</td>\n      <td>17546.0</td>\n      <td>0</td>\n      <td>1</td>\n      <td>0</td>\n      <td>0</td>\n      <td>0</td>\n      <td>0</td>\n      <td>1</td>\n      <td>1</td>\n      <td>0</td>\n      <td>0</td>\n      <td>0</td>\n    </tr>\n    <tr>\n      <th>ID12102</th>\n      <td>40</td>\n      <td>1</td>\n      <td>30085.1</td>\n      <td>1</td>\n      <td>3</td>\n      <td>1</td>\n      <td>0</td>\n      <td>1</td>\n      <td>1</td>\n      <td>0</td>\n      <td>0</td>\n      <td>0</td>\n      <td>0</td>\n      <td>1</td>\n    </tr>\n    <tr>\n      <th>ID12103</th>\n      <td>51</td>\n      <td>0</td>\n      <td>16575.4</td>\n      <td>1</td>\n      <td>0</td>\n      <td>1</td>\n      <td>1</td>\n      <td>1</td>\n      <td>0</td>\n      <td>0</td>\n      <td>1</td>\n      <td>0</td>\n      <td>0</td>\n      <td>0</td>\n    </tr>\n    <tr>\n      <th>ID12104</th>\n      <td>23</td>\n      <td>0</td>\n      <td>20375.4</td>\n      <td>1</td>\n      <td>3</td>\n      <td>0</td>\n      <td>0</td>\n      <td>1</td>\n      <td>0</td>\n      <td>0</td>\n      <td>0</td>\n      <td>0</td>\n      <td>0</td>\n      <td>1</td>\n    </tr>\n    <tr>\n      <th>ID12105</th>\n      <td>57</td>\n      <td>0</td>\n      <td>50576.3</td>\n      <td>1</td>\n      <td>0</td>\n      <td>0</td>\n      <td>1</td>\n      <td>0</td>\n      <td>0</td>\n      <td>0</td>\n      <td>0</td>\n      <td>1</td>\n      <td>0</td>\n      <td>0</td>\n    </tr>\n  </tbody>\n</table>\n</div>"
     },
     "metadata": {},
     "execution_count": 5
    }
   ],
   "source": [
    "# display dataframe first 5 columns\n",
    "df.head()"
   ]
  },
  {
   "cell_type": "markdown",
   "metadata": {},
   "source": [
    "### Train and Test Split"
   ]
  },
  {
   "cell_type": "code",
   "execution_count": 6,
   "metadata": {},
   "outputs": [],
   "source": [
    "# Select the independent variables and the target attribute\n",
    "X = df.iloc[:,[0,1,2,3,4,5,6,7,8,10,11,12,13]]  # Selecting the independent variables\n",
    "Y=df[df.columns[9]] # selecting only the target lableled column"
   ]
  },
  {
   "cell_type": "markdown",
   "metadata": {},
   "source": [
    "#### Obtain X_train, X_test, Y_train, Y_test by splitting the dataset into 70-30 ratio with a random state value 30.\n",
    "\n",
    "Note: random_state is used to control the shuffling in the split of the dataset.\n",
    "\n",
    "This method is called the Hold Out Method."
   ]
  },
  {
   "cell_type": "code",
   "execution_count": 7,
   "metadata": {},
   "outputs": [],
   "source": [
    "# Divide the dataset into training and testing partition\n",
    "from sklearn.model_selection import train_test_split\n",
    "X_train, X_test, Y_train, Y_test = train_test_split(X, Y, test_size=0.30, random_state = 30)"
   ]
  },
  {
   "cell_type": "markdown",
   "metadata": {},
   "source": [
    "### Import the k-NN Classifier library"
   ]
  },
  {
   "cell_type": "code",
   "execution_count": 8,
   "metadata": {},
   "outputs": [],
   "source": [
    "# import KNeighborsClassifier library\n",
    "from sklearn.neighbors import KNeighborsClassifier"
   ]
  },
  {
   "cell_type": "markdown",
   "metadata": {},
   "source": [
    "### Train 3-NN by using euclidean distance as distance measure"
   ]
  },
  {
   "cell_type": "code",
   "execution_count": 9,
   "metadata": {},
   "outputs": [
    {
     "output_type": "execute_result",
     "data": {
      "text/plain": [
       "KNeighborsClassifier(metric='euclidean', n_neighbors=3)"
      ]
     },
     "metadata": {},
     "execution_count": 9
    }
   ],
   "source": [
    "# Apply the classifier\n",
    "knn=KNeighborsClassifier(n_neighbors=3, metric='euclidean')\n",
    "knn.fit(X_train, Y_train)"
   ]
  },
  {
   "cell_type": "markdown",
   "metadata": {},
   "source": [
    "### Prediction and Evaluation"
   ]
  },
  {
   "cell_type": "code",
   "execution_count": 10,
   "metadata": {},
   "outputs": [],
   "source": [
    "# import required libraries\n",
    "from sklearn.metrics import classification_report,confusion_matrix\n",
    "from sklearn.metrics import accuracy_score, precision_score"
   ]
  },
  {
   "cell_type": "code",
   "execution_count": 11,
   "metadata": {},
   "outputs": [],
   "source": [
    "# predictions for testing partition\n",
    "predictions = knn.predict(X_test)"
   ]
  },
  {
   "cell_type": "code",
   "execution_count": 12,
   "metadata": {},
   "outputs": [
    {
     "output_type": "stream",
     "name": "stdout",
     "text": [
      "              precision    recall  f1-score   support\n\n           0       0.55      0.60      0.57        80\n           1       0.44      0.39      0.41        64\n\n    accuracy                           0.51       144\n   macro avg       0.50      0.50      0.49       144\nweighted avg       0.50      0.51      0.50       144\n\nConfusion Matrix\n[[48 32]\n [39 25]]\n\n Accuracy\n0.5069444444444444\n"
     ]
    }
   ],
   "source": [
    "# Calculate and print confusion matrix and other performance measures (Refer previous labsheet)\n",
    "print(classification_report(Y_test,predictions))\n",
    "print(\"Confusion Matrix\")\n",
    "print(confusion_matrix(Y_test,predictions))\n",
    "print(\"\\n Accuracy\")\n",
    "print(accuracy_score(Y_test,predictions))"
   ]
  },
  {
   "cell_type": "markdown",
   "metadata": {},
   "source": [
    "###  k(5) - fold method for training and testing split and check the difference in performance of 3-NN "
   ]
  },
  {
   "cell_type": "code",
   "execution_count": 13,
   "metadata": {},
   "outputs": [
    {
     "output_type": "stream",
     "name": "stdout",
     "text": [
      "scores:  [0.52083333 0.55208333 0.5625     0.58333333 0.55789474]\nmean score:  0.5553289473684211\n"
     ]
    }
   ],
   "source": [
    "# Import required library for K-fold and test the performance of model using Eucledean distance\n",
    "from sklearn.model_selection import cross_val_score\n",
    "knn_cv = KNeighborsClassifier(n_neighbors=3, metric = 'euclidean')\n",
    "scores = cross_val_score(knn_cv, X, Y, cv=5, scoring='accuracy')\n",
    "print('scores: ', scores)\n",
    "print('mean score: ', scores.mean())"
   ]
  },
  {
   "cell_type": "markdown",
   "metadata": {},
   "source": [
    "#### Q1: Normalize (min-max normalization) age,income and children columns of the dataset and apply 3-NN using both euclidean and manhattan distance"
   ]
  },
  {
   "cell_type": "code",
   "execution_count": 14,
   "metadata": {},
   "outputs": [
    {
     "output_type": "execute_result",
     "data": {
      "text/plain": [
       "              age  sex    income  married  children  car  save_act  \\\n",
       "id                                                                   \n",
       "ID12101  0.612245    0  0.215634        0  0.333333    0         0   \n",
       "ID12102  0.448980    1  0.431395        1  1.000000    1         0   \n",
       "ID12103  0.673469    0  0.198933        1  0.000000    1         1   \n",
       "ID12104  0.102041    0  0.264320        1  1.000000    0         0   \n",
       "ID12105  0.795918    0  0.783987        1  0.000000    0         1   \n",
       "...           ...  ...       ...      ...       ...  ...       ...   \n",
       "ID12575  0.265306    0  0.303943        0  0.333333    1         1   \n",
       "ID12576  0.306122    0  0.123276        1  0.666667    0         1   \n",
       "ID12577  0.510204    1  0.362938        0  0.333333    0         0   \n",
       "ID12578  0.448980    1  0.385495        1  0.000000    0         1   \n",
       "ID12579  0.591837    1  0.315284        1  0.666667    0         1   \n",
       "\n",
       "         current_act  mortgage  REG_INNER_CITY  REG_RURAL  REG_SUBURBAN  \\\n",
       "id                                                                        \n",
       "ID12101            0         0               1          0             0   \n",
       "ID12102            1         1               0          0             0   \n",
       "ID12103            1         0               1          0             0   \n",
       "ID12104            1         0               0          0             0   \n",
       "ID12105            0         0               0          1             0   \n",
       "...              ...       ...             ...        ...           ...   \n",
       "ID12575            1         1               0          0             0   \n",
       "ID12576            1         1               0          0             0   \n",
       "ID12577            1         0               0          1             0   \n",
       "ID12578            1         1               1          0             0   \n",
       "ID12579            1         1               0          0             0   \n",
       "\n",
       "         REG_TOWN  \n",
       "id                 \n",
       "ID12101         0  \n",
       "ID12102         1  \n",
       "ID12103         0  \n",
       "ID12104         1  \n",
       "ID12105         0  \n",
       "...           ...  \n",
       "ID12575         1  \n",
       "ID12576         1  \n",
       "ID12577         0  \n",
       "ID12578         0  \n",
       "ID12579         1  \n",
       "\n",
       "[479 rows x 13 columns]"
      ],
      "text/html": "<div>\n<style scoped>\n    .dataframe tbody tr th:only-of-type {\n        vertical-align: middle;\n    }\n\n    .dataframe tbody tr th {\n        vertical-align: top;\n    }\n\n    .dataframe thead th {\n        text-align: right;\n    }\n</style>\n<table border=\"1\" class=\"dataframe\">\n  <thead>\n    <tr style=\"text-align: right;\">\n      <th></th>\n      <th>age</th>\n      <th>sex</th>\n      <th>income</th>\n      <th>married</th>\n      <th>children</th>\n      <th>car</th>\n      <th>save_act</th>\n      <th>current_act</th>\n      <th>mortgage</th>\n      <th>REG_INNER_CITY</th>\n      <th>REG_RURAL</th>\n      <th>REG_SUBURBAN</th>\n      <th>REG_TOWN</th>\n    </tr>\n    <tr>\n      <th>id</th>\n      <th></th>\n      <th></th>\n      <th></th>\n      <th></th>\n      <th></th>\n      <th></th>\n      <th></th>\n      <th></th>\n      <th></th>\n      <th></th>\n      <th></th>\n      <th></th>\n      <th></th>\n    </tr>\n  </thead>\n  <tbody>\n    <tr>\n      <th>ID12101</th>\n      <td>0.612245</td>\n      <td>0</td>\n      <td>0.215634</td>\n      <td>0</td>\n      <td>0.333333</td>\n      <td>0</td>\n      <td>0</td>\n      <td>0</td>\n      <td>0</td>\n      <td>1</td>\n      <td>0</td>\n      <td>0</td>\n      <td>0</td>\n    </tr>\n    <tr>\n      <th>ID12102</th>\n      <td>0.448980</td>\n      <td>1</td>\n      <td>0.431395</td>\n      <td>1</td>\n      <td>1.000000</td>\n      <td>1</td>\n      <td>0</td>\n      <td>1</td>\n      <td>1</td>\n      <td>0</td>\n      <td>0</td>\n      <td>0</td>\n      <td>1</td>\n    </tr>\n    <tr>\n      <th>ID12103</th>\n      <td>0.673469</td>\n      <td>0</td>\n      <td>0.198933</td>\n      <td>1</td>\n      <td>0.000000</td>\n      <td>1</td>\n      <td>1</td>\n      <td>1</td>\n      <td>0</td>\n      <td>1</td>\n      <td>0</td>\n      <td>0</td>\n      <td>0</td>\n    </tr>\n    <tr>\n      <th>ID12104</th>\n      <td>0.102041</td>\n      <td>0</td>\n      <td>0.264320</td>\n      <td>1</td>\n      <td>1.000000</td>\n      <td>0</td>\n      <td>0</td>\n      <td>1</td>\n      <td>0</td>\n      <td>0</td>\n      <td>0</td>\n      <td>0</td>\n      <td>1</td>\n    </tr>\n    <tr>\n      <th>ID12105</th>\n      <td>0.795918</td>\n      <td>0</td>\n      <td>0.783987</td>\n      <td>1</td>\n      <td>0.000000</td>\n      <td>0</td>\n      <td>1</td>\n      <td>0</td>\n      <td>0</td>\n      <td>0</td>\n      <td>1</td>\n      <td>0</td>\n      <td>0</td>\n    </tr>\n    <tr>\n      <th>...</th>\n      <td>...</td>\n      <td>...</td>\n      <td>...</td>\n      <td>...</td>\n      <td>...</td>\n      <td>...</td>\n      <td>...</td>\n      <td>...</td>\n      <td>...</td>\n      <td>...</td>\n      <td>...</td>\n      <td>...</td>\n      <td>...</td>\n    </tr>\n    <tr>\n      <th>ID12575</th>\n      <td>0.265306</td>\n      <td>0</td>\n      <td>0.303943</td>\n      <td>0</td>\n      <td>0.333333</td>\n      <td>1</td>\n      <td>1</td>\n      <td>1</td>\n      <td>1</td>\n      <td>0</td>\n      <td>0</td>\n      <td>0</td>\n      <td>1</td>\n    </tr>\n    <tr>\n      <th>ID12576</th>\n      <td>0.306122</td>\n      <td>0</td>\n      <td>0.123276</td>\n      <td>1</td>\n      <td>0.666667</td>\n      <td>0</td>\n      <td>1</td>\n      <td>1</td>\n      <td>1</td>\n      <td>0</td>\n      <td>0</td>\n      <td>0</td>\n      <td>1</td>\n    </tr>\n    <tr>\n      <th>ID12577</th>\n      <td>0.510204</td>\n      <td>1</td>\n      <td>0.362938</td>\n      <td>0</td>\n      <td>0.333333</td>\n      <td>0</td>\n      <td>0</td>\n      <td>1</td>\n      <td>0</td>\n      <td>0</td>\n      <td>1</td>\n      <td>0</td>\n      <td>0</td>\n    </tr>\n    <tr>\n      <th>ID12578</th>\n      <td>0.448980</td>\n      <td>1</td>\n      <td>0.385495</td>\n      <td>1</td>\n      <td>0.000000</td>\n      <td>0</td>\n      <td>1</td>\n      <td>1</td>\n      <td>1</td>\n      <td>1</td>\n      <td>0</td>\n      <td>0</td>\n      <td>0</td>\n    </tr>\n    <tr>\n      <th>ID12579</th>\n      <td>0.591837</td>\n      <td>1</td>\n      <td>0.315284</td>\n      <td>1</td>\n      <td>0.666667</td>\n      <td>0</td>\n      <td>1</td>\n      <td>1</td>\n      <td>1</td>\n      <td>0</td>\n      <td>0</td>\n      <td>0</td>\n      <td>1</td>\n    </tr>\n  </tbody>\n</table>\n<p>479 rows × 13 columns</p>\n</div>"
     },
     "metadata": {},
     "execution_count": 14
    }
   ],
   "source": [
    "#min-max normalization\n",
    "from sklearn.preprocessing import MinMaxScaler\n",
    "scaler=MinMaxScaler()\n",
    "X_scaled=pd.DataFrame(X)\n",
    "X_scaled[['age','income','children']] =scaler.fit_transform(X_scaled[['age','income','children']])\n",
    "#X_scaled.income =scaler.fit_transform(X_scaled.income)\n",
    "#X_scaled.children =scaler.fit_transform(X_scaled.children)\n",
    "Xn=pd.DataFrame(X_scaled)\n",
    "Xn"
   ]
  },
  {
   "cell_type": "code",
   "execution_count": 15,
   "metadata": {},
   "outputs": [],
   "source": [
    "# Select the independent variables and the target attribute\n",
    "X_train, X_test, Y_train, Y_test = train_test_split(Xn, Y, test_size=0.30, random_state = 30)"
   ]
  },
  {
   "cell_type": "code",
   "execution_count": 16,
   "metadata": {},
   "outputs": [
    {
     "output_type": "stream",
     "name": "stdout",
     "text": [
      "Euclidean scores:  [0.60416667 0.625      0.59375    0.59375    0.56842105]\nmean score for Euclidean after normalization:  0.5970175438596491\n"
     ]
    }
   ],
   "source": [
    "# KNN using euclidean distance\n",
    "knn_cv_1_e = KNeighborsClassifier(n_neighbors=3, metric = 'euclidean')\n",
    "scores_1_e = cross_val_score(knn_cv_1_e, Xn, Y, cv=5, scoring='accuracy')\n",
    "print('Euclidean scores: ', scores_1_e)\n",
    "print('mean score for Euclidean after normalization: ', scores_1_e.mean())"
   ]
  },
  {
   "cell_type": "code",
   "execution_count": 17,
   "metadata": {},
   "outputs": [
    {
     "output_type": "stream",
     "name": "stdout",
     "text": [
      "Manhattan scores:  [0.66666667 0.70833333 0.66666667 0.65625    0.61052632]\nmean score for Manhattan after normalization:  0.661688596491228\n"
     ]
    }
   ],
   "source": [
    "# KNN using manhattan distance\n",
    "knn_cv_1_m = KNeighborsClassifier(n_neighbors=3, metric = 'manhattan')\n",
    "scores_1_m = cross_val_score(knn_cv_1_m, Xn, Y, cv=5, scoring='accuracy')\n",
    "print('Manhattan scores: ', scores_1_m)\n",
    "print('mean score for Manhattan after normalization: ', scores_1_m.mean())"
   ]
  },
  {
   "cell_type": "markdown",
   "metadata": {},
   "source": [
    "#### Q2: Write your observation regarding change in the perfromance of KNN\n",
    "\n",
    "Performance increased with normalization. Manhattan better than Euclidean"
   ]
  },
  {
   "cell_type": "raw",
   "metadata": {
    "collapsed": true
   },
   "source": []
  },
  {
   "cell_type": "markdown",
   "metadata": {},
   "source": [
    "#### Q3: Find the accuracy of 1-NN model"
   ]
  },
  {
   "cell_type": "code",
   "execution_count": 19,
   "metadata": {},
   "outputs": [
    {
     "output_type": "stream",
     "name": "stdout",
     "text": [
      "Euclidean scores:  [0.625      0.70833333 0.59375    0.63541667 0.63157895]\nmean score for Euclidean after normalization fro 1NN:  0.6388157894736842\n"
     ]
    }
   ],
   "source": [
    "# Use euclidean distance\n",
    "knn_cv_3_e = KNeighborsClassifier(n_neighbors=1, metric = 'euclidean')\n",
    "scores_3_e = cross_val_score(knn_cv_3_e, Xn, Y, cv=5, scoring='accuracy')\n",
    "print('Euclidean scores: ', scores_3_e)\n",
    "print('mean score for Euclidean after normalization fro 1NN: ', scores_3_e.mean())"
   ]
  },
  {
   "cell_type": "markdown",
   "metadata": {},
   "source": [
    "#### Q4: Implement the weighted k-NN model. Use k-fold method for train-test split"
   ]
  },
  {
   "cell_type": "code",
   "execution_count": 22,
   "metadata": {},
   "outputs": [
    {
     "output_type": "stream",
     "name": "stdout",
     "text": [
      "Euclidean scores:  [0.61458333 0.67708333 0.63541667 0.625      0.57894737]\nmean score for Euclidean after normalization: 0.6262061403508772\n"
     ]
    }
   ],
   "source": [
    "# Refer labsheet 4\n",
    "knn_cv_4_e = KNeighborsClassifier(n_neighbors=3, metric = 'euclidean',weights='distance')\n",
    "scores_4_e = cross_val_score(knn_cv_4_e, Xn, Y, cv=5, scoring='accuracy')\n",
    "print('Euclidean scores: ', scores_4_e)\n",
    "print('mean score for Euclidean after normalization:', scores_4_e.mean())"
   ]
  },
  {
   "cell_type": "markdown",
   "metadata": {},
   "source": [
    "#### Q5: What is the best k value in this model"
   ]
  },
  {
   "cell_type": "code",
   "execution_count": 23,
   "metadata": {},
   "outputs": [
    {
     "output_type": "stream",
     "name": "stdout",
     "text": [
      "1-NN Euclidean scores:  [0.625      0.70833333 0.59375    0.63541667 0.63157895]\n",
      "1-NN mean score for Euclidean:  0.6388157894736842\n",
      "2-NN Euclidean scores:  [0.63541667 0.64583333 0.64583333 0.63541667 0.63157895]\n",
      "2-NN mean score for Euclidean:  0.6388157894736842\n",
      "3-NN Euclidean scores:  [0.60416667 0.625      0.59375    0.59375    0.56842105]\n",
      "3-NN mean score for Euclidean:  0.5970175438596491\n",
      "4-NN Euclidean scores:  [0.63541667 0.59375    0.60416667 0.625      0.62105263]\n",
      "4-NN mean score for Euclidean:  0.6158771929824561\n",
      "5-NN Euclidean scores:  [0.60416667 0.59375    0.63541667 0.64583333 0.56842105]\n",
      "5-NN mean score for Euclidean:  0.6095175438596491\n",
      "6-NN Euclidean scores:  [0.5625     0.63541667 0.66666667 0.65625    0.58947368]\n",
      "6-NN mean score for Euclidean:  0.6220614035087719\n",
      "7-NN Euclidean scores:  [0.57291667 0.64583333 0.64583333 0.67708333 0.57894737]\n",
      "7-NN mean score for Euclidean:  0.624122807017544\n",
      "8-NN Euclidean scores:  [0.60416667 0.67708333 0.60416667 0.625      0.6       ]\n",
      "8-NN mean score for Euclidean:  0.6220833333333333\n",
      "9-NN Euclidean scores:  [0.59375    0.61458333 0.61458333 0.625      0.6       ]\n",
      "9-NN mean score for Euclidean:  0.6095833333333334\n",
      "10-NN Euclidean scores:  [0.58333333 0.65625    0.61458333 0.67708333 0.61052632]\n",
      "10-NN mean score for Euclidean:  0.6283552631578948\n",
      "11-NN Euclidean scores:  [0.57291667 0.63541667 0.61458333 0.64583333 0.6       ]\n",
      "11-NN mean score for Euclidean:  0.61375\n",
      "12-NN Euclidean scores:  [0.53125    0.65625    0.63541667 0.67708333 0.61052632]\n",
      "12-NN mean score for Euclidean:  0.6221052631578947\n",
      "13-NN Euclidean scores:  [0.53125    0.66666667 0.63541667 0.625      0.61052632]\n",
      "13-NN mean score for Euclidean:  0.6137719298245614\n",
      "14-NN Euclidean scores:  [0.58333333 0.64583333 0.66666667 0.67708333 0.64210526]\n",
      "14-NN mean score for Euclidean:  0.6430043859649123\n",
      "15-NN Euclidean scores:  [0.58333333 0.61458333 0.61458333 0.65625    0.62105263]\n",
      "15-NN mean score for Euclidean:  0.6179605263157895\n",
      "16-NN Euclidean scores:  [0.60416667 0.64583333 0.61458333 0.69791667 0.65263158]\n",
      "16-NN mean score for Euclidean:  0.6430263157894738\n",
      "17-NN Euclidean scores:  [0.60416667 0.5625     0.59375    0.67708333 0.65263158]\n",
      "17-NN mean score for Euclidean:  0.6180263157894738\n",
      "18-NN Euclidean scores:  [0.58333333 0.60416667 0.64583333 0.6875     0.70526316]\n",
      "18-NN mean score for Euclidean:  0.6452192982456141\n",
      "19-NN Euclidean scores:  [0.5625     0.58333333 0.63541667 0.71875    0.69473684]\n",
      "19-NN mean score for Euclidean:  0.6389473684210526\n",
      "20-NN Euclidean scores:  [0.58333333 0.63541667 0.66666667 0.69791667 0.67368421]\n",
      "20-NN mean score for Euclidean:  0.6514035087719298\n"
     ]
    }
   ],
   "source": [
    "# Refer labsheet 4\n",
    "scorelist_5=[]\n",
    "k_val_5=[]\n",
    "for k in range(1,21):\n",
    "    knn_cv_5 = KNeighborsClassifier(n_neighbors=k, metric = 'euclidean')\n",
    "    scores_5 = cross_val_score(knn_cv_5, Xn, Y, cv=5, scoring='accuracy')\n",
    "    print(str(k)+'-NN Euclidean scores: ', scores_5)\n",
    "    print(str(k)+'-NN mean score for Euclidean: ', scores_5.mean())\n",
    "    scorelist_5.append(scores_5.mean())\n",
    "    k_val_5.append(k)"
   ]
  },
  {
   "cell_type": "code",
   "execution_count": 24,
   "metadata": {},
   "outputs": [
    {
     "output_type": "stream",
     "name": "stdout",
     "text": [
      "Max Accuracy using Euclidean: 0.6514035087719298\nK value: 20\n"
     ]
    },
    {
     "output_type": "display_data",
     "data": {
      "text/plain": "<Figure size 432x288 with 1 Axes>",
      "image/svg+xml": "<?xml version=\"1.0\" encoding=\"utf-8\" standalone=\"no\"?>\n<!DOCTYPE svg PUBLIC \"-//W3C//DTD SVG 1.1//EN\"\n  \"http://www.w3.org/Graphics/SVG/1.1/DTD/svg11.dtd\">\n<!-- Created with matplotlib (https://matplotlib.org/) -->\n<svg height=\"262.19625pt\" version=\"1.1\" viewBox=\"0 0 392.14375 262.19625\" width=\"392.14375pt\" xmlns=\"http://www.w3.org/2000/svg\" xmlns:xlink=\"http://www.w3.org/1999/xlink\">\n <metadata>\n  <rdf:RDF xmlns:cc=\"http://creativecommons.org/ns#\" xmlns:dc=\"http://purl.org/dc/elements/1.1/\" xmlns:rdf=\"http://www.w3.org/1999/02/22-rdf-syntax-ns#\">\n   <cc:Work>\n    <dc:type rdf:resource=\"http://purl.org/dc/dcmitype/StillImage\"/>\n    <dc:date>2020-10-13T18:47:52.005884</dc:date>\n    <dc:format>image/svg+xml</dc:format>\n    <dc:creator>\n     <cc:Agent>\n      <dc:title>Matplotlib v3.3.1, https://matplotlib.org/</dc:title>\n     </cc:Agent>\n    </dc:creator>\n   </cc:Work>\n  </rdf:RDF>\n </metadata>\n <defs>\n  <style type=\"text/css\">*{stroke-linecap:butt;stroke-linejoin:round;}</style>\n </defs>\n <g id=\"figure_1\">\n  <g id=\"patch_1\">\n   <path d=\"M 0 262.19625 \nL 392.14375 262.19625 \nL 392.14375 0 \nL 0 0 \nz\n\" style=\"fill:none;\"/>\n  </g>\n  <g id=\"axes_1\">\n   <g id=\"patch_2\">\n    <path d=\"M 50.14375 224.64 \nL 384.94375 224.64 \nL 384.94375 7.2 \nL 50.14375 7.2 \nz\n\" style=\"fill:#ffffff;\"/>\n   </g>\n   <g id=\"matplotlib.axis_1\">\n    <g id=\"xtick_1\">\n     <g id=\"line2d_1\">\n      <defs>\n       <path d=\"M 0 0 \nL 0 3.5 \n\" id=\"m1eb03d649b\" style=\"stroke:#000000;stroke-width:0.8;\"/>\n      </defs>\n      <g>\n       <use style=\"stroke:#000000;stroke-width:0.8;\" x=\"89.39064\" xlink:href=\"#m1eb03d649b\" y=\"224.64\"/>\n      </g>\n     </g>\n     <g id=\"text_1\">\n      <!-- 2.5 -->\n      <g transform=\"translate(81.439077 239.238438)scale(0.1 -0.1)\">\n       <defs>\n        <path d=\"M 19.1875 8.296875 \nL 53.609375 8.296875 \nL 53.609375 0 \nL 7.328125 0 \nL 7.328125 8.296875 \nQ 12.9375 14.109375 22.625 23.890625 \nQ 32.328125 33.6875 34.8125 36.53125 \nQ 39.546875 41.84375 41.421875 45.53125 \nQ 43.3125 49.21875 43.3125 52.78125 \nQ 43.3125 58.59375 39.234375 62.25 \nQ 35.15625 65.921875 28.609375 65.921875 \nQ 23.96875 65.921875 18.8125 64.3125 \nQ 13.671875 62.703125 7.8125 59.421875 \nL 7.8125 69.390625 \nQ 13.765625 71.78125 18.9375 73 \nQ 24.125 74.21875 28.421875 74.21875 \nQ 39.75 74.21875 46.484375 68.546875 \nQ 53.21875 62.890625 53.21875 53.421875 \nQ 53.21875 48.921875 51.53125 44.890625 \nQ 49.859375 40.875 45.40625 35.40625 \nQ 44.1875 33.984375 37.640625 27.21875 \nQ 31.109375 20.453125 19.1875 8.296875 \nz\n\" id=\"DejaVuSans-50\"/>\n        <path d=\"M 10.6875 12.40625 \nL 21 12.40625 \nL 21 0 \nL 10.6875 0 \nz\n\" id=\"DejaVuSans-46\"/>\n        <path d=\"M 10.796875 72.90625 \nL 49.515625 72.90625 \nL 49.515625 64.59375 \nL 19.828125 64.59375 \nL 19.828125 46.734375 \nQ 21.96875 47.46875 24.109375 47.828125 \nQ 26.265625 48.1875 28.421875 48.1875 \nQ 40.625 48.1875 47.75 41.5 \nQ 54.890625 34.8125 54.890625 23.390625 \nQ 54.890625 11.625 47.5625 5.09375 \nQ 40.234375 -1.421875 26.90625 -1.421875 \nQ 22.3125 -1.421875 17.546875 -0.640625 \nQ 12.796875 0.140625 7.71875 1.703125 \nL 7.71875 11.625 \nQ 12.109375 9.234375 16.796875 8.0625 \nQ 21.484375 6.890625 26.703125 6.890625 \nQ 35.15625 6.890625 40.078125 11.328125 \nQ 45.015625 15.765625 45.015625 23.390625 \nQ 45.015625 31 40.078125 35.4375 \nQ 35.15625 39.890625 26.703125 39.890625 \nQ 22.75 39.890625 18.8125 39.015625 \nQ 14.890625 38.140625 10.796875 36.28125 \nz\n\" id=\"DejaVuSans-53\"/>\n       </defs>\n       <use xlink:href=\"#DejaVuSans-50\"/>\n       <use x=\"63.623047\" xlink:href=\"#DejaVuSans-46\"/>\n       <use x=\"95.410156\" xlink:href=\"#DejaVuSans-53\"/>\n      </g>\n     </g>\n    </g>\n    <g id=\"xtick_2\">\n     <g id=\"line2d_2\">\n      <g>\n       <use style=\"stroke:#000000;stroke-width:0.8;\" x=\"129.438487\" xlink:href=\"#m1eb03d649b\" y=\"224.64\"/>\n      </g>\n     </g>\n     <g id=\"text_2\">\n      <!-- 5.0 -->\n      <g transform=\"translate(121.486924 239.238438)scale(0.1 -0.1)\">\n       <defs>\n        <path d=\"M 31.78125 66.40625 \nQ 24.171875 66.40625 20.328125 58.90625 \nQ 16.5 51.421875 16.5 36.375 \nQ 16.5 21.390625 20.328125 13.890625 \nQ 24.171875 6.390625 31.78125 6.390625 \nQ 39.453125 6.390625 43.28125 13.890625 \nQ 47.125 21.390625 47.125 36.375 \nQ 47.125 51.421875 43.28125 58.90625 \nQ 39.453125 66.40625 31.78125 66.40625 \nz\nM 31.78125 74.21875 \nQ 44.046875 74.21875 50.515625 64.515625 \nQ 56.984375 54.828125 56.984375 36.375 \nQ 56.984375 17.96875 50.515625 8.265625 \nQ 44.046875 -1.421875 31.78125 -1.421875 \nQ 19.53125 -1.421875 13.0625 8.265625 \nQ 6.59375 17.96875 6.59375 36.375 \nQ 6.59375 54.828125 13.0625 64.515625 \nQ 19.53125 74.21875 31.78125 74.21875 \nz\n\" id=\"DejaVuSans-48\"/>\n       </defs>\n       <use xlink:href=\"#DejaVuSans-53\"/>\n       <use x=\"63.623047\" xlink:href=\"#DejaVuSans-46\"/>\n       <use x=\"95.410156\" xlink:href=\"#DejaVuSans-48\"/>\n      </g>\n     </g>\n    </g>\n    <g id=\"xtick_3\">\n     <g id=\"line2d_3\">\n      <g>\n       <use style=\"stroke:#000000;stroke-width:0.8;\" x=\"169.486334\" xlink:href=\"#m1eb03d649b\" y=\"224.64\"/>\n      </g>\n     </g>\n     <g id=\"text_3\">\n      <!-- 7.5 -->\n      <g transform=\"translate(161.534771 239.238438)scale(0.1 -0.1)\">\n       <defs>\n        <path d=\"M 8.203125 72.90625 \nL 55.078125 72.90625 \nL 55.078125 68.703125 \nL 28.609375 0 \nL 18.3125 0 \nL 43.21875 64.59375 \nL 8.203125 64.59375 \nz\n\" id=\"DejaVuSans-55\"/>\n       </defs>\n       <use xlink:href=\"#DejaVuSans-55\"/>\n       <use x=\"63.623047\" xlink:href=\"#DejaVuSans-46\"/>\n       <use x=\"95.410156\" xlink:href=\"#DejaVuSans-53\"/>\n      </g>\n     </g>\n    </g>\n    <g id=\"xtick_4\">\n     <g id=\"line2d_4\">\n      <g>\n       <use style=\"stroke:#000000;stroke-width:0.8;\" x=\"209.534181\" xlink:href=\"#m1eb03d649b\" y=\"224.64\"/>\n      </g>\n     </g>\n     <g id=\"text_4\">\n      <!-- 10.0 -->\n      <g transform=\"translate(198.401368 239.238438)scale(0.1 -0.1)\">\n       <defs>\n        <path d=\"M 12.40625 8.296875 \nL 28.515625 8.296875 \nL 28.515625 63.921875 \nL 10.984375 60.40625 \nL 10.984375 69.390625 \nL 28.421875 72.90625 \nL 38.28125 72.90625 \nL 38.28125 8.296875 \nL 54.390625 8.296875 \nL 54.390625 0 \nL 12.40625 0 \nz\n\" id=\"DejaVuSans-49\"/>\n       </defs>\n       <use xlink:href=\"#DejaVuSans-49\"/>\n       <use x=\"63.623047\" xlink:href=\"#DejaVuSans-48\"/>\n       <use x=\"127.246094\" xlink:href=\"#DejaVuSans-46\"/>\n       <use x=\"159.033203\" xlink:href=\"#DejaVuSans-48\"/>\n      </g>\n     </g>\n    </g>\n    <g id=\"xtick_5\">\n     <g id=\"line2d_5\">\n      <g>\n       <use style=\"stroke:#000000;stroke-width:0.8;\" x=\"249.582028\" xlink:href=\"#m1eb03d649b\" y=\"224.64\"/>\n      </g>\n     </g>\n     <g id=\"text_5\">\n      <!-- 12.5 -->\n      <g transform=\"translate(238.449215 239.238438)scale(0.1 -0.1)\">\n       <use xlink:href=\"#DejaVuSans-49\"/>\n       <use x=\"63.623047\" xlink:href=\"#DejaVuSans-50\"/>\n       <use x=\"127.246094\" xlink:href=\"#DejaVuSans-46\"/>\n       <use x=\"159.033203\" xlink:href=\"#DejaVuSans-53\"/>\n      </g>\n     </g>\n    </g>\n    <g id=\"xtick_6\">\n     <g id=\"line2d_6\">\n      <g>\n       <use style=\"stroke:#000000;stroke-width:0.8;\" x=\"289.629874\" xlink:href=\"#m1eb03d649b\" y=\"224.64\"/>\n      </g>\n     </g>\n     <g id=\"text_6\">\n      <!-- 15.0 -->\n      <g transform=\"translate(278.497062 239.238438)scale(0.1 -0.1)\">\n       <use xlink:href=\"#DejaVuSans-49\"/>\n       <use x=\"63.623047\" xlink:href=\"#DejaVuSans-53\"/>\n       <use x=\"127.246094\" xlink:href=\"#DejaVuSans-46\"/>\n       <use x=\"159.033203\" xlink:href=\"#DejaVuSans-48\"/>\n      </g>\n     </g>\n    </g>\n    <g id=\"xtick_7\">\n     <g id=\"line2d_7\">\n      <g>\n       <use style=\"stroke:#000000;stroke-width:0.8;\" x=\"329.677721\" xlink:href=\"#m1eb03d649b\" y=\"224.64\"/>\n      </g>\n     </g>\n     <g id=\"text_7\">\n      <!-- 17.5 -->\n      <g transform=\"translate(318.544909 239.238438)scale(0.1 -0.1)\">\n       <use xlink:href=\"#DejaVuSans-49\"/>\n       <use x=\"63.623047\" xlink:href=\"#DejaVuSans-55\"/>\n       <use x=\"127.246094\" xlink:href=\"#DejaVuSans-46\"/>\n       <use x=\"159.033203\" xlink:href=\"#DejaVuSans-53\"/>\n      </g>\n     </g>\n    </g>\n    <g id=\"xtick_8\">\n     <g id=\"line2d_8\">\n      <g>\n       <use style=\"stroke:#000000;stroke-width:0.8;\" x=\"369.725568\" xlink:href=\"#m1eb03d649b\" y=\"224.64\"/>\n      </g>\n     </g>\n     <g id=\"text_8\">\n      <!-- 20.0 -->\n      <g transform=\"translate(358.592756 239.238438)scale(0.1 -0.1)\">\n       <use xlink:href=\"#DejaVuSans-50\"/>\n       <use x=\"63.623047\" xlink:href=\"#DejaVuSans-48\"/>\n       <use x=\"127.246094\" xlink:href=\"#DejaVuSans-46\"/>\n       <use x=\"159.033203\" xlink:href=\"#DejaVuSans-48\"/>\n      </g>\n     </g>\n    </g>\n    <g id=\"text_9\">\n     <!-- K -->\n     <g transform=\"translate(214.264844 252.916563)scale(0.1 -0.1)\">\n      <defs>\n       <path d=\"M 9.8125 72.90625 \nL 19.671875 72.90625 \nL 19.671875 42.09375 \nL 52.390625 72.90625 \nL 65.09375 72.90625 \nL 28.90625 38.921875 \nL 67.671875 0 \nL 54.6875 0 \nL 19.671875 35.109375 \nL 19.671875 0 \nL 9.8125 0 \nz\n\" id=\"DejaVuSans-75\"/>\n      </defs>\n      <use xlink:href=\"#DejaVuSans-75\"/>\n     </g>\n    </g>\n   </g>\n   <g id=\"matplotlib.axis_2\">\n    <g id=\"ytick_1\">\n     <g id=\"line2d_9\">\n      <defs>\n       <path d=\"M 0 0 \nL -3.5 0 \n\" id=\"m87e212bc33\" style=\"stroke:#000000;stroke-width:0.8;\"/>\n      </defs>\n      <g>\n       <use style=\"stroke:#000000;stroke-width:0.8;\" x=\"50.14375\" xlink:href=\"#m87e212bc33\" y=\"203.916246\"/>\n      </g>\n     </g>\n     <g id=\"text_10\">\n      <!-- 0.60 -->\n      <g transform=\"translate(20.878125 207.715465)scale(0.1 -0.1)\">\n       <defs>\n        <path d=\"M 33.015625 40.375 \nQ 26.375 40.375 22.484375 35.828125 \nQ 18.609375 31.296875 18.609375 23.390625 \nQ 18.609375 15.53125 22.484375 10.953125 \nQ 26.375 6.390625 33.015625 6.390625 \nQ 39.65625 6.390625 43.53125 10.953125 \nQ 47.40625 15.53125 47.40625 23.390625 \nQ 47.40625 31.296875 43.53125 35.828125 \nQ 39.65625 40.375 33.015625 40.375 \nz\nM 52.59375 71.296875 \nL 52.59375 62.3125 \nQ 48.875 64.0625 45.09375 64.984375 \nQ 41.3125 65.921875 37.59375 65.921875 \nQ 27.828125 65.921875 22.671875 59.328125 \nQ 17.53125 52.734375 16.796875 39.40625 \nQ 19.671875 43.65625 24.015625 45.921875 \nQ 28.375 48.1875 33.59375 48.1875 \nQ 44.578125 48.1875 50.953125 41.515625 \nQ 57.328125 34.859375 57.328125 23.390625 \nQ 57.328125 12.15625 50.6875 5.359375 \nQ 44.046875 -1.421875 33.015625 -1.421875 \nQ 20.359375 -1.421875 13.671875 8.265625 \nQ 6.984375 17.96875 6.984375 36.375 \nQ 6.984375 53.65625 15.1875 63.9375 \nQ 23.390625 74.21875 37.203125 74.21875 \nQ 40.921875 74.21875 44.703125 73.484375 \nQ 48.484375 72.75 52.59375 71.296875 \nz\n\" id=\"DejaVuSans-54\"/>\n       </defs>\n       <use xlink:href=\"#DejaVuSans-48\"/>\n       <use x=\"63.623047\" xlink:href=\"#DejaVuSans-46\"/>\n       <use x=\"95.410156\" xlink:href=\"#DejaVuSans-54\"/>\n       <use x=\"159.033203\" xlink:href=\"#DejaVuSans-48\"/>\n      </g>\n     </g>\n    </g>\n    <g id=\"ytick_2\">\n     <g id=\"line2d_10\">\n      <g>\n       <use style=\"stroke:#000000;stroke-width:0.8;\" x=\"50.14375\" xlink:href=\"#m87e212bc33\" y=\"167.569971\"/>\n      </g>\n     </g>\n     <g id=\"text_11\">\n      <!-- 0.61 -->\n      <g transform=\"translate(20.878125 171.369189)scale(0.1 -0.1)\">\n       <use xlink:href=\"#DejaVuSans-48\"/>\n       <use x=\"63.623047\" xlink:href=\"#DejaVuSans-46\"/>\n       <use x=\"95.410156\" xlink:href=\"#DejaVuSans-54\"/>\n       <use x=\"159.033203\" xlink:href=\"#DejaVuSans-49\"/>\n      </g>\n     </g>\n    </g>\n    <g id=\"ytick_3\">\n     <g id=\"line2d_11\">\n      <g>\n       <use style=\"stroke:#000000;stroke-width:0.8;\" x=\"50.14375\" xlink:href=\"#m87e212bc33\" y=\"131.223695\"/>\n      </g>\n     </g>\n     <g id=\"text_12\">\n      <!-- 0.62 -->\n      <g transform=\"translate(20.878125 135.022914)scale(0.1 -0.1)\">\n       <use xlink:href=\"#DejaVuSans-48\"/>\n       <use x=\"63.623047\" xlink:href=\"#DejaVuSans-46\"/>\n       <use x=\"95.410156\" xlink:href=\"#DejaVuSans-54\"/>\n       <use x=\"159.033203\" xlink:href=\"#DejaVuSans-50\"/>\n      </g>\n     </g>\n    </g>\n    <g id=\"ytick_4\">\n     <g id=\"line2d_12\">\n      <g>\n       <use style=\"stroke:#000000;stroke-width:0.8;\" x=\"50.14375\" xlink:href=\"#m87e212bc33\" y=\"94.877419\"/>\n      </g>\n     </g>\n     <g id=\"text_13\">\n      <!-- 0.63 -->\n      <g transform=\"translate(20.878125 98.676638)scale(0.1 -0.1)\">\n       <defs>\n        <path d=\"M 40.578125 39.3125 \nQ 47.65625 37.796875 51.625 33 \nQ 55.609375 28.21875 55.609375 21.1875 \nQ 55.609375 10.40625 48.1875 4.484375 \nQ 40.765625 -1.421875 27.09375 -1.421875 \nQ 22.515625 -1.421875 17.65625 -0.515625 \nQ 12.796875 0.390625 7.625 2.203125 \nL 7.625 11.71875 \nQ 11.71875 9.328125 16.59375 8.109375 \nQ 21.484375 6.890625 26.8125 6.890625 \nQ 36.078125 6.890625 40.9375 10.546875 \nQ 45.796875 14.203125 45.796875 21.1875 \nQ 45.796875 27.640625 41.28125 31.265625 \nQ 36.765625 34.90625 28.71875 34.90625 \nL 20.21875 34.90625 \nL 20.21875 43.015625 \nL 29.109375 43.015625 \nQ 36.375 43.015625 40.234375 45.921875 \nQ 44.09375 48.828125 44.09375 54.296875 \nQ 44.09375 59.90625 40.109375 62.90625 \nQ 36.140625 65.921875 28.71875 65.921875 \nQ 24.65625 65.921875 20.015625 65.03125 \nQ 15.375 64.15625 9.8125 62.3125 \nL 9.8125 71.09375 \nQ 15.4375 72.65625 20.34375 73.4375 \nQ 25.25 74.21875 29.59375 74.21875 \nQ 40.828125 74.21875 47.359375 69.109375 \nQ 53.90625 64.015625 53.90625 55.328125 \nQ 53.90625 49.265625 50.4375 45.09375 \nQ 46.96875 40.921875 40.578125 39.3125 \nz\n\" id=\"DejaVuSans-51\"/>\n       </defs>\n       <use xlink:href=\"#DejaVuSans-48\"/>\n       <use x=\"63.623047\" xlink:href=\"#DejaVuSans-46\"/>\n       <use x=\"95.410156\" xlink:href=\"#DejaVuSans-54\"/>\n       <use x=\"159.033203\" xlink:href=\"#DejaVuSans-51\"/>\n      </g>\n     </g>\n    </g>\n    <g id=\"ytick_5\">\n     <g id=\"line2d_13\">\n      <g>\n       <use style=\"stroke:#000000;stroke-width:0.8;\" x=\"50.14375\" xlink:href=\"#m87e212bc33\" y=\"58.531144\"/>\n      </g>\n     </g>\n     <g id=\"text_14\">\n      <!-- 0.64 -->\n      <g transform=\"translate(20.878125 62.330362)scale(0.1 -0.1)\">\n       <defs>\n        <path d=\"M 37.796875 64.3125 \nL 12.890625 25.390625 \nL 37.796875 25.390625 \nz\nM 35.203125 72.90625 \nL 47.609375 72.90625 \nL 47.609375 25.390625 \nL 58.015625 25.390625 \nL 58.015625 17.1875 \nL 47.609375 17.1875 \nL 47.609375 0 \nL 37.796875 0 \nL 37.796875 17.1875 \nL 4.890625 17.1875 \nL 4.890625 26.703125 \nz\n\" id=\"DejaVuSans-52\"/>\n       </defs>\n       <use xlink:href=\"#DejaVuSans-48\"/>\n       <use x=\"63.623047\" xlink:href=\"#DejaVuSans-46\"/>\n       <use x=\"95.410156\" xlink:href=\"#DejaVuSans-54\"/>\n       <use x=\"159.033203\" xlink:href=\"#DejaVuSans-52\"/>\n      </g>\n     </g>\n    </g>\n    <g id=\"ytick_6\">\n     <g id=\"line2d_14\">\n      <g>\n       <use style=\"stroke:#000000;stroke-width:0.8;\" x=\"50.14375\" xlink:href=\"#m87e212bc33\" y=\"22.184868\"/>\n      </g>\n     </g>\n     <g id=\"text_15\">\n      <!-- 0.65 -->\n      <g transform=\"translate(20.878125 25.984087)scale(0.1 -0.1)\">\n       <use xlink:href=\"#DejaVuSans-48\"/>\n       <use x=\"63.623047\" xlink:href=\"#DejaVuSans-46\"/>\n       <use x=\"95.410156\" xlink:href=\"#DejaVuSans-54\"/>\n       <use x=\"159.033203\" xlink:href=\"#DejaVuSans-53\"/>\n      </g>\n     </g>\n    </g>\n    <g id=\"text_16\">\n     <!-- Accuracy -->\n     <g transform=\"translate(14.798438 138.748125)rotate(-90)scale(0.1 -0.1)\">\n      <defs>\n       <path d=\"M 34.1875 63.1875 \nL 20.796875 26.90625 \nL 47.609375 26.90625 \nz\nM 28.609375 72.90625 \nL 39.796875 72.90625 \nL 67.578125 0 \nL 57.328125 0 \nL 50.6875 18.703125 \nL 17.828125 18.703125 \nL 11.1875 0 \nL 0.78125 0 \nz\n\" id=\"DejaVuSans-65\"/>\n       <path d=\"M 48.78125 52.59375 \nL 48.78125 44.1875 \nQ 44.96875 46.296875 41.140625 47.34375 \nQ 37.3125 48.390625 33.40625 48.390625 \nQ 24.65625 48.390625 19.8125 42.84375 \nQ 14.984375 37.3125 14.984375 27.296875 \nQ 14.984375 17.28125 19.8125 11.734375 \nQ 24.65625 6.203125 33.40625 6.203125 \nQ 37.3125 6.203125 41.140625 7.25 \nQ 44.96875 8.296875 48.78125 10.40625 \nL 48.78125 2.09375 \nQ 45.015625 0.34375 40.984375 -0.53125 \nQ 36.96875 -1.421875 32.421875 -1.421875 \nQ 20.0625 -1.421875 12.78125 6.34375 \nQ 5.515625 14.109375 5.515625 27.296875 \nQ 5.515625 40.671875 12.859375 48.328125 \nQ 20.21875 56 33.015625 56 \nQ 37.15625 56 41.109375 55.140625 \nQ 45.0625 54.296875 48.78125 52.59375 \nz\n\" id=\"DejaVuSans-99\"/>\n       <path d=\"M 8.5 21.578125 \nL 8.5 54.6875 \nL 17.484375 54.6875 \nL 17.484375 21.921875 \nQ 17.484375 14.15625 20.5 10.265625 \nQ 23.53125 6.390625 29.59375 6.390625 \nQ 36.859375 6.390625 41.078125 11.03125 \nQ 45.3125 15.671875 45.3125 23.6875 \nL 45.3125 54.6875 \nL 54.296875 54.6875 \nL 54.296875 0 \nL 45.3125 0 \nL 45.3125 8.40625 \nQ 42.046875 3.421875 37.71875 1 \nQ 33.40625 -1.421875 27.6875 -1.421875 \nQ 18.265625 -1.421875 13.375 4.4375 \nQ 8.5 10.296875 8.5 21.578125 \nz\nM 31.109375 56 \nz\n\" id=\"DejaVuSans-117\"/>\n       <path d=\"M 41.109375 46.296875 \nQ 39.59375 47.171875 37.8125 47.578125 \nQ 36.03125 48 33.890625 48 \nQ 26.265625 48 22.1875 43.046875 \nQ 18.109375 38.09375 18.109375 28.8125 \nL 18.109375 0 \nL 9.078125 0 \nL 9.078125 54.6875 \nL 18.109375 54.6875 \nL 18.109375 46.1875 \nQ 20.953125 51.171875 25.484375 53.578125 \nQ 30.03125 56 36.53125 56 \nQ 37.453125 56 38.578125 55.875 \nQ 39.703125 55.765625 41.0625 55.515625 \nz\n\" id=\"DejaVuSans-114\"/>\n       <path d=\"M 34.28125 27.484375 \nQ 23.390625 27.484375 19.1875 25 \nQ 14.984375 22.515625 14.984375 16.5 \nQ 14.984375 11.71875 18.140625 8.90625 \nQ 21.296875 6.109375 26.703125 6.109375 \nQ 34.1875 6.109375 38.703125 11.40625 \nQ 43.21875 16.703125 43.21875 25.484375 \nL 43.21875 27.484375 \nz\nM 52.203125 31.203125 \nL 52.203125 0 \nL 43.21875 0 \nL 43.21875 8.296875 \nQ 40.140625 3.328125 35.546875 0.953125 \nQ 30.953125 -1.421875 24.3125 -1.421875 \nQ 15.921875 -1.421875 10.953125 3.296875 \nQ 6 8.015625 6 15.921875 \nQ 6 25.140625 12.171875 29.828125 \nQ 18.359375 34.515625 30.609375 34.515625 \nL 43.21875 34.515625 \nL 43.21875 35.40625 \nQ 43.21875 41.609375 39.140625 45 \nQ 35.0625 48.390625 27.6875 48.390625 \nQ 23 48.390625 18.546875 47.265625 \nQ 14.109375 46.140625 10.015625 43.890625 \nL 10.015625 52.203125 \nQ 14.9375 54.109375 19.578125 55.046875 \nQ 24.21875 56 28.609375 56 \nQ 40.484375 56 46.34375 49.84375 \nQ 52.203125 43.703125 52.203125 31.203125 \nz\n\" id=\"DejaVuSans-97\"/>\n       <path d=\"M 32.171875 -5.078125 \nQ 28.375 -14.84375 24.75 -17.8125 \nQ 21.140625 -20.796875 15.09375 -20.796875 \nL 7.90625 -20.796875 \nL 7.90625 -13.28125 \nL 13.1875 -13.28125 \nQ 16.890625 -13.28125 18.9375 -11.515625 \nQ 21 -9.765625 23.484375 -3.21875 \nL 25.09375 0.875 \nL 2.984375 54.6875 \nL 12.5 54.6875 \nL 29.59375 11.921875 \nL 46.6875 54.6875 \nL 56.203125 54.6875 \nz\n\" id=\"DejaVuSans-121\"/>\n      </defs>\n      <use xlink:href=\"#DejaVuSans-65\"/>\n      <use x=\"66.658203\" xlink:href=\"#DejaVuSans-99\"/>\n      <use x=\"121.638672\" xlink:href=\"#DejaVuSans-99\"/>\n      <use x=\"176.619141\" xlink:href=\"#DejaVuSans-117\"/>\n      <use x=\"239.998047\" xlink:href=\"#DejaVuSans-114\"/>\n      <use x=\"281.111328\" xlink:href=\"#DejaVuSans-97\"/>\n      <use x=\"342.390625\" xlink:href=\"#DejaVuSans-99\"/>\n      <use x=\"397.371094\" xlink:href=\"#DejaVuSans-121\"/>\n     </g>\n    </g>\n   </g>\n   <g id=\"line2d_15\">\n    <path clip-path=\"url(#p39a3fe9270)\" d=\"M 65.361932 62.835308 \nL 81.381071 62.835308 \nL 97.400209 214.756364 \nL 113.419348 146.208563 \nL 129.438487 169.323519 \nL 145.457626 123.731261 \nL 161.476764 116.238827 \nL 177.495903 123.651554 \nL 193.515042 169.084399 \nL 209.534181 100.855425 \nL 225.553319 153.940117 \nL 241.572458 123.571848 \nL 257.591597 153.860411 \nL 273.610736 47.61132 \nL 289.629874 138.636422 \nL 305.649013 47.531613 \nL 321.668152 138.397302 \nL 337.687291 39.560938 \nL 353.706429 62.357067 \nL 369.725568 17.083636 \n\" style=\"fill:none;stroke:#1f77b4;stroke-linecap:square;stroke-width:1.5;\"/>\n   </g>\n   <g id=\"patch_3\">\n    <path d=\"M 50.14375 224.64 \nL 50.14375 7.2 \n\" style=\"fill:none;stroke:#000000;stroke-linecap:square;stroke-linejoin:miter;stroke-width:0.8;\"/>\n   </g>\n   <g id=\"patch_4\">\n    <path d=\"M 384.94375 224.64 \nL 384.94375 7.2 \n\" style=\"fill:none;stroke:#000000;stroke-linecap:square;stroke-linejoin:miter;stroke-width:0.8;\"/>\n   </g>\n   <g id=\"patch_5\">\n    <path d=\"M 50.14375 224.64 \nL 384.94375 224.64 \n\" style=\"fill:none;stroke:#000000;stroke-linecap:square;stroke-linejoin:miter;stroke-width:0.8;\"/>\n   </g>\n   <g id=\"patch_6\">\n    <path d=\"M 50.14375 7.2 \nL 384.94375 7.2 \n\" style=\"fill:none;stroke:#000000;stroke-linecap:square;stroke-linejoin:miter;stroke-width:0.8;\"/>\n   </g>\n  </g>\n </g>\n <defs>\n  <clipPath id=\"p39a3fe9270\">\n   <rect height=\"217.44\" width=\"334.8\" x=\"50.14375\" y=\"7.2\"/>\n  </clipPath>\n </defs>\n</svg>\n",
      "image/png": "[encoded data removed]"
     },
     "metadata": {
      "needs_background": "light"
     }
    }
   ],
   "source": [
    "# Refer labsheet 4\n",
    "import matplotlib.pyplot as plt\n",
    "%matplotlib inline\n",
    "plt.plot(k_val_5,scorelist_5)\n",
    "max_idx=scorelist_5.index(max(scorelist_5))\n",
    "plt.xlabel('K')\n",
    "plt.ylabel('Accuracy')\n",
    "print(\"Max Accuracy using Euclidean:\",scorelist_5[max_idx])\n",
    "print(\"K value:\",k_val_5[max_idx])"
   ]
  },
  {
   "cell_type": "code",
   "execution_count": null,
   "metadata": {},
   "outputs": [],
   "source": [
    "# Refer labsheet 4"
   ]
  },
  {
   "cell_type": "markdown",
   "metadata": {
    "collapsed": true
   },
   "source": [
    "#### Q6: Consider \"current_act\" as an irrelevant attribute. Remove it and find the accuracy of KNN classifier"
   ]
  },
  {
   "cell_type": "code",
   "execution_count": 55,
   "metadata": {},
   "outputs": [
    {
     "output_type": "execute_result",
     "data": {
      "text/plain": [
       "              age  sex    income  married  children  car  save_act  \\\n",
       "id                                                                   \n",
       "ID12350  0.367347    1  0.280785        1  1.000000    1         0   \n",
       "ID12201  0.734694    1  0.373283        1  0.333333    0         1   \n",
       "ID12229  0.469388    1  0.156214        1  1.000000    1         1   \n",
       "ID12127  0.551020    1  0.271793        1  0.000000    0         1   \n",
       "ID12318  0.448980    0  0.460457        1  1.000000    1         1   \n",
       "...           ...  ...       ...      ...       ...  ...       ...   \n",
       "ID12279  0.510204    1  0.176210        1  0.000000    0         0   \n",
       "ID12467  0.836735    0  0.427640        0  0.333333    1         0   \n",
       "ID12113  0.530612    0  0.184486        1  0.333333    0         1   \n",
       "ID12345  0.653061    1  0.392514        1  0.666667    1         1   \n",
       "ID12309  1.000000    1  0.596264        1  0.000000    1         1   \n",
       "\n",
       "         current_act  mortgage  REG_INNER_CITY  REG_RURAL  REG_SUBURBAN  \\\n",
       "id                                                                        \n",
       "ID12350            1         0               0          0             0   \n",
       "ID12201            1         1               1          0             0   \n",
       "ID12229            1         0               0          0             0   \n",
       "ID12127            1         1               1          0             0   \n",
       "ID12318            1         1               1          0             0   \n",
       "...              ...       ...             ...        ...           ...   \n",
       "ID12279            0         0               1          0             0   \n",
       "ID12467            1         0               1          0             0   \n",
       "ID12113            1         1               0          0             0   \n",
       "ID12345            0         0               0          1             0   \n",
       "ID12309            1         0               1          0             0   \n",
       "\n",
       "         REG_TOWN  \n",
       "id                 \n",
       "ID12350         1  \n",
       "ID12201         0  \n",
       "ID12229         1  \n",
       "ID12127         0  \n",
       "ID12318         0  \n",
       "...           ...  \n",
       "ID12279         0  \n",
       "ID12467         0  \n",
       "ID12113         1  \n",
       "ID12345         0  \n",
       "ID12309         0  \n",
       "\n",
       "[144 rows x 13 columns]"
      ],
      "text/html": "<div>\n<style scoped>\n    .dataframe tbody tr th:only-of-type {\n        vertical-align: middle;\n    }\n\n    .dataframe tbody tr th {\n        vertical-align: top;\n    }\n\n    .dataframe thead th {\n        text-align: right;\n    }\n</style>\n<table border=\"1\" class=\"dataframe\">\n  <thead>\n    <tr style=\"text-align: right;\">\n      <th></th>\n      <th>age</th>\n      <th>sex</th>\n      <th>income</th>\n      <th>married</th>\n      <th>children</th>\n      <th>car</th>\n      <th>save_act</th>\n      <th>current_act</th>\n      <th>mortgage</th>\n      <th>REG_INNER_CITY</th>\n      <th>REG_RURAL</th>\n      <th>REG_SUBURBAN</th>\n      <th>REG_TOWN</th>\n    </tr>\n    <tr>\n      <th>id</th>\n      <th></th>\n      <th></th>\n      <th></th>\n      <th></th>\n      <th></th>\n      <th></th>\n      <th></th>\n      <th></th>\n      <th></th>\n      <th></th>\n      <th></th>\n      <th></th>\n      <th></th>\n    </tr>\n  </thead>\n  <tbody>\n    <tr>\n      <th>ID12350</th>\n      <td>0.367347</td>\n      <td>1</td>\n      <td>0.280785</td>\n      <td>1</td>\n      <td>1.000000</td>\n      <td>1</td>\n      <td>0</td>\n      <td>1</td>\n      <td>0</td>\n      <td>0</td>\n      <td>0</td>\n      <td>0</td>\n      <td>1</td>\n    </tr>\n    <tr>\n      <th>ID12201</th>\n      <td>0.734694</td>\n      <td>1</td>\n      <td>0.373283</td>\n      <td>1</td>\n      <td>0.333333</td>\n      <td>0</td>\n      <td>1</td>\n      <td>1</td>\n      <td>1</td>\n      <td>1</td>\n      <td>0</td>\n      <td>0</td>\n      <td>0</td>\n    </tr>\n    <tr>\n      <th>ID12229</th>\n      <td>0.469388</td>\n      <td>1</td>\n      <td>0.156214</td>\n      <td>1</td>\n      <td>1.000000</td>\n      <td>1</td>\n      <td>1</td>\n      <td>1</td>\n      <td>0</td>\n      <td>0</td>\n      <td>0</td>\n      <td>0</td>\n      <td>1</td>\n    </tr>\n    <tr>\n      <th>ID12127</th>\n      <td>0.551020</td>\n      <td>1</td>\n      <td>0.271793</td>\n      <td>1</td>\n      <td>0.000000</td>\n      <td>0</td>\n      <td>1</td>\n      <td>1</td>\n      <td>1</td>\n      <td>1</td>\n      <td>0</td>\n      <td>0</td>\n      <td>0</td>\n    </tr>\n    <tr>\n      <th>ID12318</th>\n      <td>0.448980</td>\n      <td>0</td>\n      <td>0.460457</td>\n      <td>1</td>\n      <td>1.000000</td>\n      <td>1</td>\n      <td>1</td>\n      <td>1</td>\n      <td>1</td>\n      <td>1</td>\n      <td>0</td>\n      <td>0</td>\n      <td>0</td>\n    </tr>\n    <tr>\n      <th>...</th>\n      <td>...</td>\n      <td>...</td>\n      <td>...</td>\n      <td>...</td>\n      <td>...</td>\n      <td>...</td>\n      <td>...</td>\n      <td>...</td>\n      <td>...</td>\n      <td>...</td>\n      <td>...</td>\n      <td>...</td>\n      <td>...</td>\n    </tr>\n    <tr>\n      <th>ID12279</th>\n      <td>0.510204</td>\n      <td>1</td>\n      <td>0.176210</td>\n      <td>1</td>\n      <td>0.000000</td>\n      <td>0</td>\n      <td>0</td>\n      <td>0</td>\n      <td>0</td>\n      <td>1</td>\n      <td>0</td>\n      <td>0</td>\n      <td>0</td>\n    </tr>\n    <tr>\n      <th>ID12467</th>\n      <td>0.836735</td>\n      <td>0</td>\n      <td>0.427640</td>\n      <td>0</td>\n      <td>0.333333</td>\n      <td>1</td>\n      <td>0</td>\n      <td>1</td>\n      <td>0</td>\n      <td>1</td>\n      <td>0</td>\n      <td>0</td>\n      <td>0</td>\n    </tr>\n    <tr>\n      <th>ID12113</th>\n      <td>0.530612</td>\n      <td>0</td>\n      <td>0.184486</td>\n      <td>1</td>\n      <td>0.333333</td>\n      <td>0</td>\n      <td>1</td>\n      <td>1</td>\n      <td>1</td>\n      <td>0</td>\n      <td>0</td>\n      <td>0</td>\n      <td>1</td>\n    </tr>\n    <tr>\n      <th>ID12345</th>\n      <td>0.653061</td>\n      <td>1</td>\n      <td>0.392514</td>\n      <td>1</td>\n      <td>0.666667</td>\n      <td>1</td>\n      <td>1</td>\n      <td>0</td>\n      <td>0</td>\n      <td>0</td>\n      <td>1</td>\n      <td>0</td>\n      <td>0</td>\n    </tr>\n    <tr>\n      <th>ID12309</th>\n      <td>1.000000</td>\n      <td>1</td>\n      <td>0.596264</td>\n      <td>1</td>\n      <td>0.000000</td>\n      <td>1</td>\n      <td>1</td>\n      <td>1</td>\n      <td>0</td>\n      <td>1</td>\n      <td>0</td>\n      <td>0</td>\n      <td>0</td>\n    </tr>\n  </tbody>\n</table>\n<p>144 rows × 13 columns</p>\n</div>"
     },
     "metadata": {},
     "execution_count": 55
    }
   ],
   "source": [
    "# Select the independent variables and the target attribute after dropping specified column\n",
    "X_train.drop(columns=['current_act'])\n",
    "X_test.drop(columns=['current_act'])\n",
    "X_test"
   ]
  },
  {
   "cell_type": "code",
   "execution_count": 59,
   "metadata": {},
   "outputs": [
    {
     "output_type": "stream",
     "name": "stdout",
     "text": [
      "Euclidean scores:  [0.57291667 0.625      0.69791667 0.6875     0.58947368]\nmean score for Euclidean after removing current_act:  0.6345614035087719\n"
     ]
    }
   ],
   "source": [
    "# Use euclidean distance as distance metric and k(5) -fold method of test train\n",
    "knn_cv_6_e = KNeighborsClassifier(n_neighbors=3, metric = 'euclidean')\n",
    "scores_6_e = cross_val_score(knn_cv_6_e, Xn.loc[:, Xn.columns != 'current_act'], Y, cv=5, scoring='accuracy')\n",
    "print('Euclidean scores: ', scores_6_e)\n",
    "print('mean score for Euclidean after removing current_act: ', scores_6_e.mean())"
   ]
  },
  {
   "cell_type": "markdown",
   "metadata": {},
   "source": [
    "#### Q7: Write your observation\n",
    "\n",
    "The accuracy improves on removal on irrevelant attribute"
   ]
  },
  {
   "cell_type": "code",
   "execution_count": null,
   "metadata": {},
   "outputs": [],
   "source": []
  }
 ],
 "metadata": {
  "kernelspec": {
   "name": "Python 3.8.5 64-bit ('venv')",
   "display_name": "Python 3.8.5 64-bit ('venv')",
   "metadata": {
    "interpreter": {
     "hash": "f3d41eb964c724b2a1fea6c5f080c785bf2a86402f7892ca9d02d6f547148ea0"
    }
   }
  },
  "language_info": {
   "codemirror_mode": {
    "name": "ipython",
    "version": 3
   },
   "file_extension": ".py",
   "mimetype": "text/x-python",
   "name": "python",
   "nbconvert_exporter": "python",
   "pygments_lexer": "ipython3",
   "version": "3.8.5-final"
  }
 },
 "nbformat": 4,
 "nbformat_minor": 2
}